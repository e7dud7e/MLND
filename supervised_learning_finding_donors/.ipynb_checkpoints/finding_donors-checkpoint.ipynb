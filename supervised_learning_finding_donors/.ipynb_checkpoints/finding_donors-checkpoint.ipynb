{
 "cells": [
  {
   "cell_type": "markdown",
   "metadata": {},
   "source": [
    "# Machine Learning Engineer Nanodegree\n",
    "## Supervised Learning\n",
    "## Project: Finding Donors for *CharityML*"
   ]
  },
  {
   "cell_type": "markdown",
   "metadata": {},
   "source": [
    "Welcome to the second project of the Machine Learning Engineer Nanodegree! In this notebook, some template code has already been provided for you, and it will be your job to implement the additional functionality necessary to successfully complete this project. Sections that begin with **'Implementation'** in the header indicate that the following block of code will require additional functionality which you must provide. Instructions will be provided for each section and the specifics of the implementation are marked in the code block with a `'TODO'` statement. Please be sure to read the instructions carefully!\n",
    "\n",
    "In addition to implementing code, there will be questions that you must answer which relate to the project and your implementation. Each section where you will answer a question is preceded by a **'Question X'** header. Carefully read each question and provide thorough answers in the following text boxes that begin with **'Answer:'**. Your project submission will be evaluated based on your answers to each of the questions and the implementation you provide.  \n",
    "\n",
    ">**Note:** Code and Markdown cells can be executed using the **Shift + Enter** keyboard shortcut. In addition, Markdown cells can be edited by typically double-clicking the cell to enter edit mode."
   ]
  },
  {
   "cell_type": "markdown",
   "metadata": {},
   "source": [
    "## Getting Started\n",
    "\n",
    "In this project, you will employ several supervised algorithms of your choice to accurately model individuals' income using data collected from the 1994 U.S. Census. You will then choose the best candidate algorithm from preliminary results and further optimize this algorithm to best model the data. Your goal with this implementation is to construct a model that accurately predicts whether an individual makes more than $50,000. This sort of task can arise in a non-profit setting, where organizations survive on donations.  Understanding an individual's income can help a non-profit better understand how large of a donation to request, or whether or not they should reach out to begin with.  While it can be difficult to determine an individual's general income bracket directly from public sources, we can (as we will see) infer this value from other publically available features. \n",
    "\n",
    "The dataset for this project originates from the [UCI Machine Learning Repository](https://archive.ics.uci.edu/ml/datasets/Census+Income). The datset was donated by Ron Kohavi and Barry Becker, after being published in the article _\"Scaling Up the Accuracy of Naive-Bayes Classifiers: A Decision-Tree Hybrid\"_. You can find the article by Ron Kohavi [online](https://www.aaai.org/Papers/KDD/1996/KDD96-033.pdf). The data we investigate here consists of small changes to the original dataset, such as removing the `'fnlwgt'` feature and records with missing or ill-formatted entries."
   ]
  },
  {
   "cell_type": "markdown",
   "metadata": {},
   "source": [
    "----\n",
    "## Exploring the Data\n",
    "Run the code cell below to load necessary Python libraries and load the census data. Note that the last column from this dataset, `'income'`, will be our target label (whether an individual makes more than, or at most, $50,000 annually). All other columns are features about each individual in the census database."
   ]
  },
  {
   "cell_type": "code",
   "execution_count": 1,
   "metadata": {
    "collapsed": false
   },
   "outputs": [
    {
     "data": {
      "text/html": [
       "<div>\n",
       "<table border=\"1\" class=\"dataframe\">\n",
       "  <thead>\n",
       "    <tr style=\"text-align: right;\">\n",
       "      <th></th>\n",
       "      <th>age</th>\n",
       "      <th>workclass</th>\n",
       "      <th>education_level</th>\n",
       "      <th>education-num</th>\n",
       "      <th>marital-status</th>\n",
       "      <th>occupation</th>\n",
       "      <th>relationship</th>\n",
       "      <th>race</th>\n",
       "      <th>sex</th>\n",
       "      <th>capital-gain</th>\n",
       "      <th>capital-loss</th>\n",
       "      <th>hours-per-week</th>\n",
       "      <th>native-country</th>\n",
       "      <th>income</th>\n",
       "    </tr>\n",
       "  </thead>\n",
       "  <tbody>\n",
       "    <tr>\n",
       "      <th>0</th>\n",
       "      <td>39</td>\n",
       "      <td>State-gov</td>\n",
       "      <td>Bachelors</td>\n",
       "      <td>13.0</td>\n",
       "      <td>Never-married</td>\n",
       "      <td>Adm-clerical</td>\n",
       "      <td>Not-in-family</td>\n",
       "      <td>White</td>\n",
       "      <td>Male</td>\n",
       "      <td>2174.0</td>\n",
       "      <td>0.0</td>\n",
       "      <td>40.0</td>\n",
       "      <td>United-States</td>\n",
       "      <td>&lt;=50K</td>\n",
       "    </tr>\n",
       "  </tbody>\n",
       "</table>\n",
       "</div>"
      ],
      "text/plain": [
       "   age   workclass education_level  education-num  marital-status  \\\n",
       "0   39   State-gov       Bachelors           13.0   Never-married   \n",
       "\n",
       "      occupation    relationship    race    sex  capital-gain  capital-loss  \\\n",
       "0   Adm-clerical   Not-in-family   White   Male        2174.0           0.0   \n",
       "\n",
       "   hours-per-week  native-country income  \n",
       "0            40.0   United-States  <=50K  "
      ]
     },
     "metadata": {},
     "output_type": "display_data"
    }
   ],
   "source": [
    "# Import libraries necessary for this project\n",
    "import numpy as np\n",
    "import pandas as pd\n",
    "from time import time\n",
    "from IPython.display import display # Allows the use of display() for DataFrames\n",
    "\n",
    "# Import supplementary visualization code visuals.py\n",
    "import visuals as vs\n",
    "\n",
    "# Pretty display for notebooks\n",
    "%matplotlib inline\n",
    "\n",
    "# Load the Census dataset\n",
    "data = pd.read_csv(\"census.csv\")\n",
    "\n",
    "# Success - Display the first record\n",
    "display(data.head(n=1))"
   ]
  },
  {
   "cell_type": "markdown",
   "metadata": {},
   "source": [
    "### Implementation: Data Exploration\n",
    "A cursory investigation of the dataset will determine how many individuals fit into either group, and will tell us about the percentage of these individuals making more than \\$50,000. In the code cell below, you will need to compute the following:\n",
    "- The total number of records, `'n_records'`\n",
    "- The number of individuals making more than \\$50,000 annually, `'n_greater_50k'`.\n",
    "- The number of individuals making at most \\$50,000 annually, `'n_at_most_50k'`.\n",
    "- The percentage of individuals making more than \\$50,000 annually, `'greater_percent'`.\n",
    "\n",
    "**Hint:** You may need to look at the table above to understand how the `'income'` entries are formatted. "
   ]
  },
  {
   "cell_type": "code",
   "execution_count": 2,
   "metadata": {
    "collapsed": false
   },
   "outputs": [
    {
     "name": "stdout",
     "output_type": "stream",
     "text": [
      "Total number of records: 45222\n",
      "Individuals making more than $50,000: 11208\n",
      "Individuals making at most $50,000: 34014\n",
      "Percentage of individuals making more than $50,000: 24.78%\n"
     ]
    }
   ],
   "source": [
    "# TODO: Total number of records\n",
    "n_records = len(data)\n",
    "\n",
    "# TODO: Number of records where individual's income is more than $50,000\n",
    "n_greater_50k = sum(data['income'] == '>50K')\n",
    "\n",
    "# TODO: Number of records where individual's income is at most $50,000\n",
    "n_at_most_50k = sum(data['income'] == '<=50K')\n",
    "\n",
    "# TODO: Percentage of individuals whose income is more than $50,000\n",
    "greater_percent = 100 * n_greater_50k / float(n_records)\n",
    "\n",
    "# Print the results\n",
    "print \"Total number of records: {}\".format(n_records)\n",
    "print \"Individuals making more than $50,000: {}\".format(n_greater_50k)\n",
    "print \"Individuals making at most $50,000: {}\".format(n_at_most_50k)\n",
    "print \"Percentage of individuals making more than $50,000: {:.2f}%\".format(greater_percent)"
   ]
  },
  {
   "cell_type": "markdown",
   "metadata": {},
   "source": [
    "----\n",
    "## Preparing the Data\n",
    "Before data can be used as input for machine learning algorithms, it often must be cleaned, formatted, and restructured — this is typically known as **preprocessing**. Fortunately, for this dataset, there are no invalid or missing entries we must deal with, however, there are some qualities about certain features that must be adjusted. This preprocessing can help tremendously with the outcome and predictive power of nearly all learning algorithms."
   ]
  },
  {
   "cell_type": "markdown",
   "metadata": {},
   "source": [
    "### Transforming Skewed Continuous Features\n",
    "A dataset may sometimes contain at least one feature whose values tend to lie near a single number, but will also have a non-trivial number of vastly larger or smaller values than that single number.  Algorithms can be sensitive to such distributions of values and can underperform if the range is not properly normalized. With the census dataset two features fit this description: '`capital-gain'` and `'capital-loss'`. \n",
    "\n",
    "Run the code cell below to plot a histogram of these two features. Note the range of the values present and how they are distributed."
   ]
  },
  {
   "cell_type": "code",
   "execution_count": 3,
   "metadata": {
    "collapsed": false
   },
   "outputs": [
    {
     "data": {
      "image/png": "[encoded data removed]",
      "text/plain": [
       "<matplotlib.figure.Figure at 0x104961510>"
      ]
     },
     "metadata": {},
     "output_type": "display_data"
    }
   ],
   "source": [
    "# Split the data into features and target label\n",
    "income_raw = data['income']\n",
    "features_raw = data.drop('income', axis = 1)\n",
    "\n",
    "# Visualize skewed continuous features of original data\n",
    "vs.distribution(data)"
   ]
  },
  {
   "cell_type": "markdown",
   "metadata": {},
   "source": [
    "For highly-skewed feature distributions such as `'capital-gain'` and `'capital-loss'`, it is common practice to apply a <a href=\"https://en.wikipedia.org/wiki/Data_transformation_(statistics)\">logarithmic transformation</a> on the data so that the very large and very small values do not negatively affect the performance of a learning algorithm. Using a logarithmic transformation significantly reduces the range of values caused by outliers. Care must be taken when applying this transformation however: The logarithm of `0` is undefined, so we must translate the values by a small amount above `0` to apply the the logarithm successfully.\n",
    "\n",
    "Run the code cell below to perform a transformation on the data and visualize the results. Again, note the range of values and how they are distributed. "
   ]
  },
  {
   "cell_type": "code",
   "execution_count": 4,
   "metadata": {
    "collapsed": false
   },
   "outputs": [
    {
     "data": {
      "image/png": "[encoded data removed]",
      "text/plain": [
       "<matplotlib.figure.Figure at 0x1151c4a10>"
      ]
     },
     "metadata": {},
     "output_type": "display_data"
    }
   ],
   "source": [
    "# Log-transform the skewed features\n",
    "skewed = ['capital-gain', 'capital-loss']\n",
    "features_raw[skewed] = data[skewed].apply(lambda x: np.log(x + 1))\n",
    "\n",
    "# Visualize the new log distributions\n",
    "vs.distribution(features_raw, transformed = True)"
   ]
  },
  {
   "cell_type": "markdown",
   "metadata": {},
   "source": [
    "### Normalizing Numerical Features\n",
    "In addition to performing transformations on features that are highly skewed, it is often good practice to perform some type of scaling on numerical features. Applying a scaling to the data does not change the shape of each feature's distribution (such as `'capital-gain'` or `'capital-loss'` above); however, normalization ensures that each feature is treated equally when applying supervised learners. Note that once scaling is applied, observing the data in its raw form will no longer have the same original meaning, as exampled below.\n",
    "\n",
    "Run the code cell below to normalize each numerical feature. We will use [`sklearn.preprocessing.MinMaxScaler`](http://scikit-learn.org/stable/modules/generated/sklearn.preprocessing.MinMaxScaler.html) for this."
   ]
  },
  {
   "cell_type": "markdown",
   "metadata": {},
   "source": [
    "Note: This estimator scales and translates each feature individually such that it is in the given range on the training set, i.e. between zero and one.  So we can pass in multiple features, and it scales each feature independently of the others."
   ]
  },
  {
   "cell_type": "code",
   "execution_count": 5,
   "metadata": {
    "collapsed": false
   },
   "outputs": [
    {
     "data": {
      "text/html": [
       "<div>\n",
       "<table border=\"1\" class=\"dataframe\">\n",
       "  <thead>\n",
       "    <tr style=\"text-align: right;\">\n",
       "      <th></th>\n",
       "      <th>age</th>\n",
       "      <th>workclass</th>\n",
       "      <th>education_level</th>\n",
       "      <th>education-num</th>\n",
       "      <th>marital-status</th>\n",
       "      <th>occupation</th>\n",
       "      <th>relationship</th>\n",
       "      <th>race</th>\n",
       "      <th>sex</th>\n",
       "      <th>capital-gain</th>\n",
       "      <th>capital-loss</th>\n",
       "      <th>hours-per-week</th>\n",
       "      <th>native-country</th>\n",
       "    </tr>\n",
       "  </thead>\n",
       "  <tbody>\n",
       "    <tr>\n",
       "      <th>0</th>\n",
       "      <td>0.30137</td>\n",
       "      <td>State-gov</td>\n",
       "      <td>Bachelors</td>\n",
       "      <td>0.8</td>\n",
       "      <td>Never-married</td>\n",
       "      <td>Adm-clerical</td>\n",
       "      <td>Not-in-family</td>\n",
       "      <td>White</td>\n",
       "      <td>Male</td>\n",
       "      <td>0.02174</td>\n",
       "      <td>0.0</td>\n",
       "      <td>0.397959</td>\n",
       "      <td>United-States</td>\n",
       "    </tr>\n",
       "  </tbody>\n",
       "</table>\n",
       "</div>"
      ],
      "text/plain": [
       "       age   workclass education_level  education-num  marital-status  \\\n",
       "0  0.30137   State-gov       Bachelors            0.8   Never-married   \n",
       "\n",
       "      occupation    relationship    race    sex  capital-gain  capital-loss  \\\n",
       "0   Adm-clerical   Not-in-family   White   Male       0.02174           0.0   \n",
       "\n",
       "   hours-per-week  native-country  \n",
       "0        0.397959   United-States  "
      ]
     },
     "metadata": {},
     "output_type": "display_data"
    }
   ],
   "source": [
    "# Import sklearn.preprocessing.StandardScaler\n",
    "from sklearn.preprocessing import MinMaxScaler\n",
    "\n",
    "# Initialize a scaler, then apply it to the features\n",
    "scaler = MinMaxScaler()\n",
    "numerical = ['age', 'education-num', 'capital-gain', 'capital-loss', 'hours-per-week']\n",
    "features_raw[numerical] = scaler.fit_transform(data[numerical])\n",
    "\n",
    "# Show an example of a record with scaling applied\n",
    "display(features_raw.head(n = 1))"
   ]
  },
  {
   "cell_type": "markdown",
   "metadata": {},
   "source": [
    "### Implementation: Data Preprocessing\n",
    "\n",
    "From the table in **Exploring the Data** above, we can see there are several features for each record that are non-numeric. Typically, learning algorithms expect input to be numeric, which requires that non-numeric features (called *categorical variables*) be converted. One popular way to convert categorical variables is by using the **one-hot encoding** scheme. One-hot encoding creates a _\"dummy\"_ variable for each possible category of each non-numeric feature. For example, assume `someFeature` has three possible entries: `A`, `B`, or `C`. We then encode this feature into `someFeature_A`, `someFeature_B` and `someFeature_C`.\n",
    "\n",
    "|   | someFeature |                    | someFeature_A | someFeature_B | someFeature_C |\n",
    "| :-: | :-: |                            | :-: | :-: | :-: |\n",
    "| 0 |  B  |  | 0 | 1 | 0 |\n",
    "| 1 |  C  | ----> one-hot encode ----> | 0 | 0 | 1 |\n",
    "| 2 |  A  |  | 1 | 0 | 0 |\n",
    "\n",
    "Additionally, as with the non-numeric features, we need to convert the non-numeric target label, `'income'` to numerical values for the learning algorithm to work. Since there are only two possible categories for this label (\"<=50K\" and \">50K\"), we can avoid using one-hot encoding and simply encode these two categories as `0` and `1`, respectively. In code cell below, you will need to implement the following:\n",
    " - Use [`pandas.get_dummies()`](http://pandas.pydata.org/pandas-docs/stable/generated/pandas.get_dummies.html?highlight=get_dummies#pandas.get_dummies) to perform one-hot encoding on the `'features_raw'` data.\n",
    " - Convert the target label `'income_raw'` to numerical entries.\n",
    "   - Set records with \"<=50K\" to `0` and records with \">50K\" to `1`."
   ]
  },
  {
   "cell_type": "markdown",
   "metadata": {},
   "source": [
    "pd.get_dummies() converts the categorical columns and keeps numerical columns as is"
   ]
  },
  {
   "cell_type": "code",
   "execution_count": 6,
   "metadata": {
    "collapsed": false,
    "scrolled": true
   },
   "outputs": [
    {
     "name": "stdout",
     "output_type": "stream",
     "text": [
      "103 total features after one-hot encoding.\n",
      "['age', 'education-num', 'capital-gain', 'capital-loss', 'hours-per-week', 'workclass_ Federal-gov', 'workclass_ Local-gov', 'workclass_ Private', 'workclass_ Self-emp-inc', 'workclass_ Self-emp-not-inc', 'workclass_ State-gov', 'workclass_ Without-pay', 'education_level_ 10th', 'education_level_ 11th', 'education_level_ 12th', 'education_level_ 1st-4th', 'education_level_ 5th-6th', 'education_level_ 7th-8th', 'education_level_ 9th', 'education_level_ Assoc-acdm', 'education_level_ Assoc-voc', 'education_level_ Bachelors', 'education_level_ Doctorate', 'education_level_ HS-grad', 'education_level_ Masters', 'education_level_ Preschool', 'education_level_ Prof-school', 'education_level_ Some-college', 'marital-status_ Divorced', 'marital-status_ Married-AF-spouse', 'marital-status_ Married-civ-spouse', 'marital-status_ Married-spouse-absent', 'marital-status_ Never-married', 'marital-status_ Separated', 'marital-status_ Widowed', 'occupation_ Adm-clerical', 'occupation_ Armed-Forces', 'occupation_ Craft-repair', 'occupation_ Exec-managerial', 'occupation_ Farming-fishing', 'occupation_ Handlers-cleaners', 'occupation_ Machine-op-inspct', 'occupation_ Other-service', 'occupation_ Priv-house-serv', 'occupation_ Prof-specialty', 'occupation_ Protective-serv', 'occupation_ Sales', 'occupation_ Tech-support', 'occupation_ Transport-moving', 'relationship_ Husband', 'relationship_ Not-in-family', 'relationship_ Other-relative', 'relationship_ Own-child', 'relationship_ Unmarried', 'relationship_ Wife', 'race_ Amer-Indian-Eskimo', 'race_ Asian-Pac-Islander', 'race_ Black', 'race_ Other', 'race_ White', 'sex_ Female', 'sex_ Male', 'native-country_ Cambodia', 'native-country_ Canada', 'native-country_ China', 'native-country_ Columbia', 'native-country_ Cuba', 'native-country_ Dominican-Republic', 'native-country_ Ecuador', 'native-country_ El-Salvador', 'native-country_ England', 'native-country_ France', 'native-country_ Germany', 'native-country_ Greece', 'native-country_ Guatemala', 'native-country_ Haiti', 'native-country_ Holand-Netherlands', 'native-country_ Honduras', 'native-country_ Hong', 'native-country_ Hungary', 'native-country_ India', 'native-country_ Iran', 'native-country_ Ireland', 'native-country_ Italy', 'native-country_ Jamaica', 'native-country_ Japan', 'native-country_ Laos', 'native-country_ Mexico', 'native-country_ Nicaragua', 'native-country_ Outlying-US(Guam-USVI-etc)', 'native-country_ Peru', 'native-country_ Philippines', 'native-country_ Poland', 'native-country_ Portugal', 'native-country_ Puerto-Rico', 'native-country_ Scotland', 'native-country_ South', 'native-country_ Taiwan', 'native-country_ Thailand', 'native-country_ Trinadad&Tobago', 'native-country_ United-States', 'native-country_ Vietnam', 'native-country_ Yugoslavia']\n"
     ]
    }
   ],
   "source": [
    "# TODO: One-hot encode the 'features_raw' data using pandas.get_dummies()\n",
    "features = pd.get_dummies(features_raw)\n",
    "\n",
    "# TODO: Encode the 'income_raw' data to numerical values\n",
    "income = [1 if x=='>50K' else 0 for x in income_raw]\n",
    "\n",
    "# Print the number of features after one-hot encoding\n",
    "encoded = list(features.columns)\n",
    "print \"{} total features after one-hot encoding.\".format(len(encoded))\n",
    "\n",
    "# Uncomment the following line to see the encoded feature names\n",
    "print encoded"
   ]
  },
  {
   "cell_type": "markdown",
   "metadata": {},
   "source": [
    "### Shuffle and Split Data\n",
    "Now all _categorical variables_ have been converted into numerical features, and all numerical features have been normalized. As always, we will now split the data (both features and their labels) into training and test sets. 80% of the data will be used for training and 20% for testing.\n",
    "\n",
    "Run the code cell below to perform this split."
   ]
  },
  {
   "cell_type": "code",
   "execution_count": 7,
   "metadata": {
    "collapsed": false
   },
   "outputs": [
    {
     "name": "stdout",
     "output_type": "stream",
     "text": [
      "Training set has 36177 samples.\n",
      "Testing set has 9045 samples.\n"
     ]
    }
   ],
   "source": [
    "# Import train_test_split\n",
    "#from sklearn.cross_validation import train_test_split\n",
    "from sklearn.model_selection import train_test_split\n",
    "# Split the 'features' and 'income' data into training and testing sets\n",
    "X_train, X_test, y_train, y_test = \\\n",
    "    train_test_split(features,\n",
    "                     income,\n",
    "                     test_size = 0.2,\n",
    "                     random_state = 0)\n",
    "\n",
    "# Show the results of the split\n",
    "print \"Training set has {} samples.\".format(X_train.shape[0])\n",
    "print \"Testing set has {} samples.\".format(X_test.shape[0])"
   ]
  },
  {
   "cell_type": "markdown",
   "metadata": {},
   "source": [
    "----\n",
    "## Evaluating Model Performance\n",
    "In this section, we will investigate four different algorithms, and determine which is best at modeling the data. Three of these algorithms will be supervised learners of your choice, and the fourth algorithm is known as a *naive predictor*."
   ]
  },
  {
   "cell_type": "markdown",
   "metadata": {},
   "source": [
    "### Metrics and the Naive Predictor\n",
    "*CharityML*, equipped with their research, knows individuals that make more than \\$50,000 are most likely to donate to their charity. Because of this, *CharityML* is particularly interested in predicting who makes more than \\$50,000 accurately. It would seem that using **accuracy** as a metric for evaluating a particular model's performace would be appropriate. Additionally, identifying someone that *does not* make more than \\$50,000 as someone who does would be detrimental to *CharityML*, since they are looking to find individuals willing to donate. Therefore, a model's ability to precisely predict those that make more than \\$50,000 is *more important* than the model's ability to **recall** those individuals. We can use **F-beta score** as a metric that considers both precision and recall:\n",
    "\n",
    "$$ F_{\\beta} = (1 + \\beta^2) \\cdot \\frac{precision \\cdot recall}{\\left( \\beta^2 \\cdot precision \\right) + recall} $$\n",
    "\n",
    "In particular, when $\\beta = 0.5$, more emphasis is placed on precision. This is called the **F$_{0.5}$ score** (or F-score for simplicity).\n",
    "\n",
    "Looking at the distribution of classes (those who make at most \\$50,000, and those who make more), it's clear most individuals do not make more than \\$50,000. This can greatly affect **accuracy**, since we could simply say *\"this person does not make more than \\$50,000\"* and generally be right, without ever looking at the data! Making such a statement would be called **naive**, since we have not considered any information to substantiate the claim. It is always important to consider the *naive prediction* for your data, to help establish a benchmark for whether a model is performing well. That been said, using that prediction would be pointless: If we predicted all people made less than \\$50,000, *CharityML* would identify no one as donors. "
   ]
  },
  {
   "cell_type": "markdown",
   "metadata": {},
   "source": [
    "### Question 1 - Naive Predictor Performace\n",
    "*If we chose a model that always predicted an individual made more than \\$50,000, what would that model's accuracy and F-score be on this dataset?*  \n",
    "**Note:** You must use the code cell below and assign your results to `'accuracy'` and `'fscore'` to be used later."
   ]
  },
  {
   "cell_type": "code",
   "execution_count": 8,
   "metadata": {
    "collapsed": false
   },
   "outputs": [
    {
     "name": "stdout",
     "output_type": "stream",
     "text": [
      "precision 0.247843969749 recall 1.0\n",
      "Naive Predictor: [Accuracy score: 0.2478, F-score: 0.2917]\n"
     ]
    }
   ],
   "source": [
    "# TODO: Calculate accuracy\n",
    "\n",
    "true_observations = float(sum(income))\n",
    "predictions_true = float(len(income)) #predicts all observations as true\n",
    "correct_predictions = float(sum(income))\n",
    "observations = float(len(income))\n",
    "accuracy = correct_predictions / observations\n",
    "\n",
    "# TODO: Calculate F-score using the formula above for beta = 0.5\n",
    "beta = 0.5\n",
    "#precision is: out of all predictions of true, how many are actually true?\n",
    "precision = correct_predictions / predictions_true\n",
    "\n",
    "#recall is: out of all true observations, how many were predicted as true?\n",
    "recall = correct_predictions / true_observations\n",
    "fscore = (1+ beta**2) * (precision * recall) / (beta**2 * precision + recall)\n",
    "\n",
    "# Print the results \n",
    "print \"precision {} recall {}\".format(precision,recall)\n",
    "print \"Naive Predictor: [Accuracy score: {:.4f}, F-score: {:.4f}]\".format(accuracy, fscore)"
   ]
  },
  {
   "cell_type": "markdown",
   "metadata": {},
   "source": [
    "###  Supervised Learning Models\n",
    "**The following supervised learning models are currently available in** [`scikit-learn`](http://scikit-learn.org/stable/supervised_learning.html) **that you may choose from:**\n",
    "- Gaussian Naive Bayes (GaussianNB)\n",
    "- Decision Trees\n",
    "- Ensemble Methods (Bagging, AdaBoost, Random Forest, Gradient Boosting)\n",
    "- K-Nearest Neighbors (KNeighbors)\n",
    "- Stochastic Gradient Descent Classifier (SGDC)\n",
    "- Support Vector Machines (SVM)\n",
    "- Logistic Regression"
   ]
  },
  {
   "cell_type": "markdown",
   "metadata": {},
   "source": [
    "### Question 2 - Model Application\n",
    "List three of the supervised learning models above that are appropriate for this problem that you will test on the census data. For each model chosen\n",
    "- *Describe one real-world application in industry where the model can be applied.* (You may need to do research for this — give references!)\n",
    "- *What are the strengths of the model; when does it perform well?*\n",
    "- *What are the weaknesses of the model; when does it perform poorly?*\n",
    "- *What makes this model a good candidate for the problem, given what you know about the data?*"
   ]
  },
  {
   "cell_type": "markdown",
   "metadata": {},
   "source": [
    "**Answer: **\n",
    "\n",
    "I'm choosing gradient boost, AdaBoost, and logistic regression.  Boosting methods using decision trees as base learners can process features that are not scaled and not necessarily linearly separable.  Logistic regression training and prediction times are short.  Logistic regression is sensitive to outliers, but we applied log to those features that had very skewed data, to make them more normally distributed.  Logistic regression is also less likely to overfit compared to decision trees.\n",
    "\n",
    "#### AdaBoost\n",
    "Applications: computer vision, web search results\n",
    "\n",
    "Strengths: High Accuracy, handles noise and missing data, doesn't need features to be scaled when it's using decision trees as base learners (decision trees don't need features to be scaled because trees process one feature at a time, and do not calculate distances based on more than one feature).  Dimensions (number of features) don't need to be reduced in order for the model to make accurate predictions. AdaBoost is computationally efficient (because each weak learner that is trained is saved as is, and not revised during training of the following weak learners).\n",
    "\n",
    "Weaknesses: runtime increases with size of training data, and training of weak learners can't be run in parallel, because each one can only start training after the previous one completes).\n",
    "\n",
    "Applicable to this data set: because it does not assume the features are independent, and does not require features to be first scaled, selected, or normalized.\n",
    "\n",
    "https://www.coursera.org/learn/ml-classification/lecture/3ywWA/the-boosting-question\n",
    "http://media.nips.cc/Conferences/2007/Tutorials/Slides/schapire-NIPS-07-tutorial.pdf\n",
    "\n",
    "\n",
    "#### Gradient Boost\n",
    "Applications: used in face detection, web search rankings, and ecology.\n",
    "\n",
    "Strengths: Same as AdaBoost.\n",
    "\n",
    "Weaknesses: Same as AdaBoost.\n",
    "\n",
    "Applicable to this data set: same as for AdaBoost.\n",
    "\n",
    "http://scikit-learn.org/stable/modules/ensemble.html#gradient-boosting\n",
    "\n",
    "#### Logistic Regression\n",
    "Applications: sentiment analysis of text.\n",
    "\n",
    "\n",
    "Strengths: fast, does not need feature scaling, and can handle many features.  It has low variance, so it is less likely to overfit training data (compared to decision trees).  Logistic Regression works well when there is a single linear decision boundary between two classes.  By comparison, decision trees can only divide the data along one feature (axis) at a time, so it assume a decision boundary that is a path of lines that only move parallel or perpendicular to each axis.\n",
    "\n",
    "Weaknesses: Logistic regression doesn't work well when features are correlated.  When features are correlated, logistic regression will over-emphasize the importance of these features.  Logistic regression also assumes that classes are linearly separable, so it won't work as well when the data is not linearly separable. Logistic regression is sensitive to outliers. \n",
    "\n",
    "Applicable to this data set: The features have been scaled and normalized to reduce the impact of outliers, which will help improve the performance of logistic regression.  The data may be linearly separable, so logistic regression will look for this linear separation.\n",
    "\n",
    "https://www.coursera.org/learn/ml-classification/lecture/HNKIj/linear-classifiers-a-motivating-example\n",
    "http://www.ehow.com/info_8574447_disadvantages-logistic-regression.html\n",
    "https://www.quora.com/What-are-the-advantages-of-logistic-regression-over-decision-trees\n",
    "\n",
    "#### Decision Trees\n",
    "Strengths: Decision trees perform feature selection by sequentially choosing the next best feature to split on at each level.  Trees don't need features to be scaled or selected before training, because the model looks at one dimension/feature at a time, so the range of one feature relative to another feature does not matter.  For the same reason, outliers do not affect decision trees.  Trees also don't assume a linear relationship between features, so it can fit when classes are not linearly separable.  \n",
    "\n",
    "Weaknesses: decision trees tend to overfit the training data.  This also means that the decision tree's boundary changes easily when new or different data is used to train the tree.\n",
    "\n",
    "http://www.simafore.com/blog/bid/62333/4-key-advantages-of-using-decision-trees-for-predictive-analytics\n",
    "https://www.techwalla.com/articles/advantages-disadvantages-of-decision-trees\n",
    "\n",
    "#### Random Forest\n",
    "\n",
    "Strengths: It reduces over-fitting compared to decision trees and also compared to bagging (because for each tree, it chooses a random subset of features that the sub-tree is allowed to split on, so the sub-trees are less likely to all be the same).\n",
    "\n",
    "Weaknesses: requires a lot of data, and takes more training time compared to decision trees.\n",
    "\n",
    "\n",
    "#### Support Vector Machines\n",
    "\n",
    "Strengths: SVM is less sensitive to outliers, because it focuses on observations that are close to the margin that separates the two classes.\n",
    "\n",
    "Weaknesses: categorial features need to be converted to binary (one-hot encoding), and features should be scaled (distances are calculated based on more than one feature, so the range of each feature affects the calculations).  Training time increases significantly for large data sets.  SVM takes a lot more computation and runtime as the number of features increases."
   ]
  },
  {
   "cell_type": "markdown",
   "metadata": {},
   "source": [
    "### Implementation - Creating a Training and Predicting Pipeline\n",
    "To properly evaluate the performance of each model you've chosen, it's important that you create a training and predicting pipeline that allows you to quickly and effectively train models using various sizes of training data and perform predictions on the testing data. Your implementation here will be used in the following section.\n",
    "In the code block below, you will need to implement the following:\n",
    " - Import `fbeta_score` and `accuracy_score` from [`sklearn.metrics`](http://scikit-learn.org/stable/modules/classes.html#sklearn-metrics-metrics).\n",
    " - Fit the learner to the sampled training data and record the training time.\n",
    " - Perform predictions on the test data `X_test`, and also on the first 300 training points `X_train[:300]`.\n",
    "   - Record the total prediction time.\n",
    " - Calculate the accuracy score for both the training subset and testing set.\n",
    " - Calculate the F-score for both the training subset and testing set.\n",
    "   - Make sure that you set the `beta` parameter!"
   ]
  },
  {
   "cell_type": "code",
   "execution_count": 12,
   "metadata": {
    "collapsed": false
   },
   "outputs": [],
   "source": [
    "# TODO: Import two metrics from sklearn - fbeta_score and accuracy_score\n",
    "from sklearn.metrics import fbeta_score, accuracy_score\n",
    "\n",
    "def train_predict(learner, sample_size, X_train, y_train, X_test, y_test): \n",
    "    beta = 0.5 #place more emphasis on precision (most positive predictions are actually positive classes)\n",
    "    '''\n",
    "    inputs:\n",
    "       - learner: the learning algorithm to be trained and predicted on\n",
    "       - sample_size: the size of samples (number) to be drawn from training set\n",
    "       - X_train: features training set\n",
    "       - y_train: income training set\n",
    "       - X_test: features testing set\n",
    "       - y_test: income testing set\n",
    "    '''\n",
    "    \n",
    "    results = {}\n",
    "    \n",
    "    # TODO: Fit the learner to the training data using slicing with 'sample_size'\n",
    "    start = time() # Get start time\n",
    "    learner = learner.fit(X_train[0:sample_size],y_train[0:sample_size])\n",
    "    end = time() # Get end time\n",
    "    \n",
    "    # TODO: Calculate the training time\n",
    "    results['train_time'] = round(end - start,1);\n",
    "        \n",
    "    # TODO: Get the predictions on the test set,\n",
    "    #       then get predictions on the first 300 training samples\n",
    "    predict_train_sample_size = 300\n",
    "    start = time() # Get start time\n",
    "    predictions_test = learner.predict(X_test)\n",
    "    predictions_train = learner.predict(X_train[0:predict_train_sample_size])\n",
    "    end = time() # Get end time\n",
    "    \n",
    "    # TODO: Calculate the total prediction time\n",
    "    results['pred_time'] = round(end - start,1)\n",
    "            \n",
    "    # TODO: Compute accuracy on the first 300 training samples\n",
    "    results['acc_train'] = accuracy_score(y_train[0:predict_train_sample_size], predictions_train)\n",
    "        \n",
    "    # TODO: Compute accuracy on test set\n",
    "    results['acc_test'] = accuracy_score(y_test,predictions_test)\n",
    "    \n",
    "    # TODO: Compute F-score on the the first 300 training samples\n",
    "    results['f_train'] = fbeta_score(y_train[0:predict_train_sample_size], predictions_train, beta=beta)\n",
    "        \n",
    "    # TODO: Compute F-score on the test set\n",
    "    results['f_test'] = fbeta_score(y_test, predictions_test, beta=beta)\n",
    "       \n",
    "    # Success\n",
    "    print \"{} trained on {} samples.\".format(learner.__class__.__name__, sample_size)\n",
    "        \n",
    "    # Return the results\n",
    "    return results"
   ]
  },
  {
   "cell_type": "markdown",
   "metadata": {},
   "source": [
    "### Implementation: Initial Model Evaluation\n",
    "In the code cell, you will need to implement the following:\n",
    "- Import the three supervised learning models you've discussed in the previous section.\n",
    "- Initialize the three models and store them in `'clf_A'`, `'clf_B'`, and `'clf_C'`.\n",
    "  - Use a `'random_state'` for each model you use, if provided.\n",
    "  - **Note:** Use the default settings for each model — you will tune one specific model in a later section.\n",
    "- Calculate the number of records equal to 1%, 10%, and 100% of the training data.\n",
    "  - Store those values in `'samples_1'`, `'samples_10'`, and `'samples_100'` respectively.\n",
    "\n",
    "**Note:** Depending on which algorithms you chose, the following implementation may take some time to run!"
   ]
  },
  {
   "cell_type": "markdown",
   "metadata": {},
   "source": [
    "### Compare all models"
   ]
  },
  {
   "cell_type": "code",
   "execution_count": 10,
   "metadata": {
    "collapsed": true
   },
   "outputs": [],
   "source": [
    "from sklearn.naive_bayes import GaussianNB\n",
    "from sklearn.linear_model import LogisticRegression,SGDClassifier\n",
    "from sklearn.neighbors import KNeighborsClassifier\n",
    "from sklearn.svm import SVC\n",
    "from sklearn.tree import DecisionTreeClassifier\n",
    "from sklearn.ensemble import AdaBoostClassifier, GradientBoostingClassifier, RandomForestClassifier, BaggingClassifier"
   ]
  },
  {
   "cell_type": "code",
   "execution_count": 13,
   "metadata": {
    "collapsed": false
   },
   "outputs": [
    {
     "name": "stdout",
     "output_type": "stream",
     "text": [
      "KNeighborsClassifier trained on 3617 samples.\n",
      "GaussianNB trained on 3617 samples.\n",
      "SVC trained on 3617 samples.\n",
      "LogisticRegression trained on 3617 samples.\n",
      "DecisionTreeClassifier trained on 3617 samples.\n",
      "BaggingClassifier trained on 3617 samples.\n",
      "RandomForestClassifier trained on 3617 samples.\n",
      "AdaBoostClassifier trained on 3617 samples.\n",
      "GradientBoostingClassifier trained on 3617 samples.\n",
      "SGDClassifier trained on 3617 samples.\n"
     ]
    }
   ],
   "source": [
    "#Test on 10% of the training set to compare model performance\n",
    "\n",
    "clf_list = [\n",
    "            KNeighborsClassifier(), \n",
    "            GaussianNB(),\n",
    "            SVC(random_state=0),\n",
    "            LogisticRegression(random_state=0),\n",
    "            DecisionTreeClassifier(random_state=0),\n",
    "            BaggingClassifier(random_state=0),\n",
    "            RandomForestClassifier(random_state=0),\n",
    "            AdaBoostClassifier(random_state=0),\n",
    "            GradientBoostingClassifier(random_state=0),\n",
    "            SGDClassifier(random_state=0)\n",
    "           ]\n",
    "\n",
    "# TODO: Calculate the number of samples for 1%, 10%, and 100% of the training data\n",
    "training_size = X_train.shape[0]\n",
    "samples_10 = int(0.10 * training_size)\n",
    "\n",
    "# Collect results on the learners\n",
    "results_all = {}\n",
    "for clf in clf_list:\n",
    "    clf_name = clf.__class__.__name__\n",
    "    results_all[clf_name] = {}\n",
    "    results_all[clf_name][0] = \\\n",
    "    train_predict(clf, samples_10, X_train, y_train, X_test, y_test)"
   ]
  },
  {
   "cell_type": "code",
   "execution_count": 14,
   "metadata": {
    "collapsed": false
   },
   "outputs": [],
   "source": [
    "#evaluate_all plots performance of multiple classifiers\n",
    "import matplotlib.pyplot as pl\n",
    "import matplotlib.patches as mpatches\n",
    "import numpy as np\n",
    "import pandas as pd\n",
    "from time import time\n",
    "from sklearn.metrics import f1_score, accuracy_score\n",
    "#plot all results and runtimes\n",
    "def evaluate_all(results, accuracy, f1, learners_l=None, colors=None):\n",
    "    fig, ax = pl.subplots(2, 3, figsize = (11,7))\n",
    "\n",
    "    if learners_l == None:\n",
    "        learners_l = ['KNeighborsClassifier',\n",
    "                      'GaussianNB',\n",
    "                      'SVC',\n",
    "                      'LogisticRegression',\n",
    "                      'DecisionTreeClassifier',\n",
    "                      'BaggingClassifier',\n",
    "                      'RandomForestClassifier',\n",
    "                      'AdaBoostClassifier',\n",
    "                      'GradientBoostingClassifier',\n",
    "                      'SGDClassifier'\n",
    "                     ]\n",
    "\n",
    "    # Constants\n",
    "    bar_width = 0.3\n",
    "    if colors == None:\n",
    "        colors = ['#e1f136', #knn yellow\n",
    "                  '#cd7f0e', #nb orange\n",
    "                  '#76272d', #svc red\n",
    "                  '#991351', #LogisticRegression(), magenta\n",
    "                  '#57b061', #DecisionTreeClassifier(), light green\n",
    "                  '#307755', #BaggingClassifier(), dark green\n",
    "                  '#00ff00', #RandomForestClassifier(), bright green\n",
    "                  '#b7eeff', #AdaBoostClassifier(), light blue\n",
    "                  '#3473a0', #GradientBoostingClassifier(), dark blue\n",
    "                  '#ff008d' #SGDClassifier() pink\n",
    "                 ]\n",
    "    # Super loop to plot four panels of data\n",
    "    #for k, learner in enumerate(results.keys()):\n",
    "    for k, learner in enumerate(learners_l):\n",
    "        for j, metric in enumerate(['train_time', 'acc_train', 'f_train', 'pred_time', 'acc_test', 'f_test']):\n",
    "            for i in np.arange(1):\n",
    "\n",
    "                # Creative plot code\n",
    "                ax[j/3, j%3].bar(i+k*bar_width, results[learner][i][metric], width = bar_width, color = colors[k])\n",
    "                ax[j/3, j%3].set_xlabel(\"Model type\")\n",
    "                ax[j/3, j%3].set_xticks([])\n",
    "                #ax[j/3, j%3].set_xlim((-0.1, 3.0))\n",
    "\n",
    "    # Add unique y-labels\n",
    "    ax[0, 0].set_ylabel(\"Time (in seconds)\")\n",
    "    ax[0, 1].set_ylabel(\"Accuracy Score\")\n",
    "    ax[0, 2].set_ylabel(\"F-score\")\n",
    "    ax[1, 0].set_ylabel(\"Time (in seconds)\")\n",
    "    ax[1, 1].set_ylabel(\"Accuracy Score\")\n",
    "    ax[1, 2].set_ylabel(\"F-score\")\n",
    "\n",
    "    # Add titles\n",
    "    ax[0, 0].set_title(\"Model Training\")\n",
    "    ax[0, 1].set_title(\"Accuracy Score on Training Subset\")\n",
    "    ax[0, 2].set_title(\"F-score on Training Subset\")\n",
    "    ax[1, 0].set_title(\"Model Predicting\")\n",
    "    ax[1, 1].set_title(\"Accuracy Score on Testing Set\")\n",
    "    ax[1, 2].set_title(\"F-score on Testing Set\")\n",
    "\n",
    "    # Add horizontal lines for naive predictors\n",
    "    ax[0, 1].axhline(y = accuracy, xmin = -0.1, xmax = 3.0, linewidth = 1, color = 'k', linestyle = 'dashed')\n",
    "    ax[1, 1].axhline(y = accuracy, xmin = -0.1, xmax = 3.0, linewidth = 1, color = 'k', linestyle = 'dashed')\n",
    "    ax[0, 2].axhline(y = f1, xmin = -0.1, xmax = 3.0, linewidth = 1, color = 'k', linestyle = 'dashed')\n",
    "    ax[1, 2].axhline(y = f1, xmin = -0.1, xmax = 3.0, linewidth = 1, color = 'k', linestyle = 'dashed')\n",
    "\n",
    "    # Set y-limits for score panels\n",
    "    ax[0, 1].set_ylim((0, 1))\n",
    "    ax[0, 2].set_ylim((0, 1))\n",
    "    ax[1, 1].set_ylim((0, 1))\n",
    "    ax[1, 2].set_ylim((0, 1))\n",
    "\n",
    "    # Create patches for the legend\n",
    "    patches = []\n",
    "    #plot the learners in a specified order\n",
    "    for i, learner_name in enumerate(learners_l):\n",
    "        patches.append(mpatches.Patch(color = colors[i], label = learner_name))\n",
    "    pl.legend(handles = patches, bbox_to_anchor = (-0.80, 2.49), \\\n",
    "               loc = 'upper center', borderaxespad = 0., ncol = 5, fontsize = 'small')\n",
    "\n",
    "    # Aesthetics\n",
    "    pl.suptitle(\"Performance Metrics for Three Supervised Learning Models\", fontsize = 12, y = 1.1)\n",
    "    pl.tight_layout()\n",
    "    pl.show()"
   ]
  },
  {
   "cell_type": "code",
   "execution_count": 15,
   "metadata": {
    "collapsed": false
   },
   "outputs": [
    {
     "data": {
      "image/png": "[encoded data removed]",
      "text/plain": [
       "<matplotlib.figure.Figure at 0x119f32950>"
      ]
     },
     "metadata": {},
     "output_type": "display_data"
    }
   ],
   "source": [
    "evaluate_all(results_all, accuracy, fscore)"
   ]
  },
  {
   "cell_type": "markdown",
   "metadata": {},
   "source": [
    "#### Comparing models visually\n",
    "SVM, AdaBoost, and Gradient Boost takes a long time to train  KNN takes a long time for prediction.  Gradient Boost, AdaBoost, and Bagging logistic regression have high f scores.  Logistic Regression, Gaussian Naive Bayes, Decision Trees, and Stochastic Gradient Descent have nearly zero training and prediction times."
   ]
  },
  {
   "cell_type": "code",
   "execution_count": 16,
   "metadata": {
    "collapsed": false
   },
   "outputs": [
    {
     "data": {
      "image/png": "[encoded data removed]",
      "text/plain": [
       "<matplotlib.figure.Figure at 0x11929f2d0>"
      ]
     },
     "metadata": {},
     "output_type": "display_data"
    }
   ],
   "source": [
    "#results excluding SVM and KNN (to compare times of non-outliers)\n",
    "learners_l = ['GaussianNB',\n",
    "              'LogisticRegression',\n",
    "              'DecisionTreeClassifier',\n",
    "              'BaggingClassifier',\n",
    "              'RandomForestClassifier',\n",
    "              'AdaBoostClassifier',\n",
    "              'GradientBoostingClassifier',\n",
    "              'SGDClassifier'\n",
    "             ]\n",
    "\n",
    "colors = ['#cd7f0e', #nb orange\n",
    "          '#991351', #LogisticRegression(), magenta\n",
    "          '#57b061', #DecisionTreeClassifier(), light green\n",
    "          '#307755', #BaggingClassifier(), dark green\n",
    "          '#00ff00', #RandomForestClassifier(), bright green\n",
    "          '#b7eeff', #AdaBoostClassifier(), light blue\n",
    "          '#3473a0', #GradientBoostingClassifier(), dark blue\n",
    "          '#ff008d' #SGDClassifier() pink\n",
    "         ]\n",
    "\n",
    "evaluate_all(results_all, accuracy, fscore, learners_l, colors)"
   ]
  },
  {
   "cell_type": "code",
   "execution_count": 17,
   "metadata": {
    "collapsed": false
   },
   "outputs": [
    {
     "name": "stdout",
     "output_type": "stream",
     "text": [
      "classifier KNeighborsClassifier and training time 0.0\n",
      "classifier GaussianNB and training time 0.0\n",
      "classifier SVC and training time 1.1\n",
      "classifier LogisticRegression and training time 0.0\n",
      "classifier DecisionTreeClassifier and training time 0.0\n",
      "classifier BaggingClassifier and training time 0.4\n",
      "classifier RandomForestClassifier and training time 0.1\n",
      "classifier AdaBoostClassifier and training time 0.4\n",
      "classifier GradientBoostingClassifier and training time 1.0\n",
      "classifier SGDClassifier and training time 0.0\n"
     ]
    }
   ],
   "source": [
    "learners_l = ['KNeighborsClassifier',\n",
    "                      'GaussianNB',\n",
    "                      'SVC',\n",
    "                      'LogisticRegression',\n",
    "                      'DecisionTreeClassifier',\n",
    "                      'BaggingClassifier',\n",
    "                      'RandomForestClassifier',\n",
    "                      'AdaBoostClassifier',\n",
    "                      'GradientBoostingClassifier',\n",
    "                      'SGDClassifier'\n",
    "                     ]\n",
    "\n",
    "for learner in learners_l:\n",
    "    print \"classifier {} and training time {}\".format(learner,results_all[learner][0]['train_time'])"
   ]
  },
  {
   "cell_type": "code",
   "execution_count": 18,
   "metadata": {
    "collapsed": false
   },
   "outputs": [
    {
     "name": "stdout",
     "output_type": "stream",
     "text": [
      "classifier KNeighborsClassifier and test f1 score 0.6276\n",
      "classifier GaussianNB and test f1 score 0.3208\n",
      "classifier SVC and test f1 score 0.6408\n",
      "classifier LogisticRegression and test f1 score 0.6746\n",
      "classifier DecisionTreeClassifier and test f1 score 0.5939\n",
      "classifier BaggingClassifier and test f1 score 0.6655\n",
      "classifier RandomForestClassifier and test f1 score 0.6622\n",
      "classifier AdaBoostClassifier and test f1 score 0.7019\n",
      "classifier GradientBoostingClassifier and test f1 score 0.7216\n",
      "classifier SGDClassifier and test f1 score 0.6193\n"
     ]
    }
   ],
   "source": [
    "learners_l = ['KNeighborsClassifier',\n",
    "                      'GaussianNB',\n",
    "                      'SVC',\n",
    "                      'LogisticRegression',\n",
    "                      'DecisionTreeClassifier',\n",
    "                      'BaggingClassifier',\n",
    "                      'RandomForestClassifier',\n",
    "                      'AdaBoostClassifier',\n",
    "                      'GradientBoostingClassifier',\n",
    "                      'SGDClassifier'\n",
    "                     ]\n",
    "for learner in learners_l:\n",
    "    print \"classifier {} and test f1 score {:.4f}\".format(learner,results_all[learner][0]['f_test'])"
   ]
  },
  {
   "cell_type": "code",
   "execution_count": 19,
   "metadata": {
    "collapsed": false
   },
   "outputs": [
    {
     "name": "stdout",
     "output_type": "stream",
     "text": [
      "LogisticRegression trained on 361 samples.\n",
      "LogisticRegression trained on 3617 samples.\n",
      "LogisticRegression trained on 36177 samples.\n",
      "AdaBoostClassifier trained on 361 samples.\n",
      "AdaBoostClassifier trained on 3617 samples.\n",
      "AdaBoostClassifier trained on 36177 samples.\n",
      "GradientBoostingClassifier trained on 361 samples.\n",
      "GradientBoostingClassifier trained on 3617 samples.\n",
      "GradientBoostingClassifier trained on 36177 samples.\n"
     ]
    }
   ],
   "source": [
    "# TODO: Initialize the three models\n",
    "clf_A = LogisticRegression()\n",
    "clf_B = AdaBoostClassifier()\n",
    "clf_C = GradientBoostingClassifier()\n",
    "\n",
    "# TODO: Calculate the number of samples for 1%, 10%, and 100% of the training data\n",
    "training_size = X_train.shape[0]\n",
    "samples_1 = int(0.01 * training_size)\n",
    "samples_10 = int(0.10 * training_size)\n",
    "samples_100 = training_size\n",
    "\n",
    "# Collect results on the learners\n",
    "results = {}\n",
    "for clf in [clf_A, clf_B, clf_C]:\n",
    "    clf_name = clf.__class__.__name__\n",
    "    results[clf_name] = {}\n",
    "    for i, samples in enumerate([samples_1, samples_10, samples_100]):\n",
    "        results[clf_name][i] = \\\n",
    "        train_predict(clf, samples, X_train, y_train, X_test, y_test)"
   ]
  },
  {
   "cell_type": "code",
   "execution_count": 122,
   "metadata": {
    "collapsed": false
   },
   "outputs": [
    {
     "data": {
      "image/png": "[encoded data removed]",
      "text/plain": [
       "<matplotlib.figure.Figure at 0x12957a8d0>"
      ]
     },
     "metadata": {},
     "output_type": "display_data"
    }
   ],
   "source": [
    "# Run metrics visualization for the three supervised learning models chosen\n",
    "vs.evaluate(results, accuracy, fscore)"
   ]
  },
  {
   "cell_type": "code",
   "execution_count": 20,
   "metadata": {
    "collapsed": false
   },
   "outputs": [
    {
     "data": {
      "text/plain": [
       "{'AdaBoostClassifier': {0: {'acc_test': 0.82078496406854617,\n",
       "   'acc_train': 0.89333333333333331,\n",
       "   'f_test': 0.63301046864298982,\n",
       "   'f_train': 0.80128205128205132,\n",
       "   'pred_time': 0.1,\n",
       "   'train_time': 0.2},\n",
       "  1: {'acc_test': 0.84986180210060802,\n",
       "   'acc_train': 0.83999999999999997,\n",
       "   'f_test': 0.7018820838099199,\n",
       "   'f_train': 0.68014705882352933,\n",
       "   'pred_time': 0.1,\n",
       "   'train_time': 0.3},\n",
       "  2: {'acc_test': 0.85760088446655613,\n",
       "   'acc_train': 0.84999999999999998,\n",
       "   'f_test': 0.72455089820359275,\n",
       "   'f_train': 0.71153846153846156,\n",
       "   'pred_time': 0.1,\n",
       "   'train_time': 2.1}},\n",
       " 'GradientBoostingClassifier': {0: {'acc_test': 0.82918739635157546,\n",
       "   'acc_train': 0.93999999999999995,\n",
       "   'f_test': 0.65428109854604188,\n",
       "   'f_train': 0.9375,\n",
       "   'pred_time': 0.0,\n",
       "   'train_time': 0.1},\n",
       "  1: {'acc_test': 0.85594250967385299,\n",
       "   'acc_train': 0.8833333333333333,\n",
       "   'f_test': 0.72160405420293039,\n",
       "   'f_train': 0.81349206349206349,\n",
       "   'pred_time': 0.0,\n",
       "   'train_time': 0.9},\n",
       "  2: {'acc_test': 0.86301824212271971,\n",
       "   'acc_train': 0.85666666666666669,\n",
       "   'f_test': 0.7395338561802719,\n",
       "   'f_train': 0.73412698412698407,\n",
       "   'pred_time': 0.0,\n",
       "   'train_time': 11.4}},\n",
       " 'LogisticRegression': {0: {'acc_test': 0.8108347153123272,\n",
       "   'acc_train': 0.84333333333333338,\n",
       "   'f_test': 0.6081637454417127,\n",
       "   'f_train': 0.69444444444444431,\n",
       "   'pred_time': 0.0,\n",
       "   'train_time': 0.0},\n",
       "  1: {'acc_test': 0.83692647871752346,\n",
       "   'acc_train': 0.83666666666666667,\n",
       "   'f_test': 0.67458116054587824,\n",
       "   'f_train': 0.67164179104477617,\n",
       "   'pred_time': 0.0,\n",
       "   'train_time': 0.0},\n",
       "  2: {'acc_test': 0.84831398562741844,\n",
       "   'acc_train': 0.84999999999999998,\n",
       "   'f_test': 0.69929332348908335,\n",
       "   'f_train': 0.70895522388059706,\n",
       "   'pred_time': 0.0,\n",
       "   'train_time': 0.5}}}"
      ]
     },
     "execution_count": 20,
     "metadata": {},
     "output_type": "execute_result"
    }
   ],
   "source": [
    "results"
   ]
  },
  {
   "cell_type": "markdown",
   "metadata": {},
   "source": [
    "----\n",
    "## Improving Results\n",
    "In this final section, you will choose from the three supervised learning models the *best* model to use on the student data. You will then perform a grid search optimization for the model over the entire training set (`X_train` and `y_train`) by tuning at least one parameter to improve upon the untuned model's F-score. "
   ]
  },
  {
   "cell_type": "markdown",
   "metadata": {},
   "source": [
    "### Question 3 - Choosing the Best Model\n",
    "*Based on the evaluation you performed earlier, in one to two paragraphs, explain to *CharityML* which of the three models you believe to be most appropriate for the task of identifying individuals that make more than \\$50,000.*  \n",
    "**Hint:** Your answer should include discussion of the metrics, prediction/training time, and the algorithm's suitability for the data."
   ]
  },
  {
   "cell_type": "code",
   "execution_count": 25,
   "metadata": {
    "collapsed": false
   },
   "outputs": [
    {
     "name": "stdout",
     "output_type": "stream",
     "text": [
      "increase in training time when training sample is increased by 10x\n",
      "GradientBoostingClassifier train time increase by 12.67x\n",
      "AdaBoostClassifier train time increase by 7.00x\n",
      "LogisticRegression train time increase by 10x, runtime at 1x 0.0 vs. at 10x 0.5\n"
     ]
    }
   ],
   "source": [
    "print \"increase in training time when training sample is increased by 10x\"\n",
    "for learner in ['GradientBoostingClassifier', 'AdaBoostClassifier', 'LogisticRegression']:\n",
    "    try:\n",
    "        print \"{} train time increase by {:.2f}x\".format(learner,results[learner][2]['train_time'] / results[learner][1]['train_time'])\n",
    "    except:\n",
    "        print \"{} train time increase by 10x, runtime at 1x {} vs. at 10x {}\".format(learner,results[learner][1]['train_time'], results[learner][2]['train_time'])\n",
    "        pass\n",
    "    \n",
    "    "
   ]
  },
  {
   "cell_type": "markdown",
   "metadata": {},
   "source": [
    "**Answer: **\n",
    "\n",
    "I'm choosing Adaptive Boosting (AdaBoost) to identify individuals who make more than \\$50,000.  Adaboost has the second highest F1 score (0.72), where beta is 0.5 (precision is given more emphasis than recall).  \n",
    "\n",
    "Even though Gradient Boosting gives a slightly higher F1 score (0.74), the model training time increases linearly with the size of training data (increasing the amount of training data by 10x results in a 12x increase in training time).  Adaboost training time increases by 7x when training data is increased by 10x).  \n",
    "\n",
    "Logistic Regression gives slightly lower F1 score than AdaBoost and Gradient Boost (0.67), but its training time is the shortest, and does not increase much with an increase in training data.  It might be a good option if we plan to use much more data to train the model.  \n",
    "\n",
    "The accuracy scores of the three models have the same relative performance as their F1 scores (Gradient Boost performs better than AdaBoost, which performs better than Logistic Regression).  If the ranking of accuracy did not match the ranking of F1 scores, we should look at the F1 score comparisons, because accuracy is not a good measure when the number of observations for each class are not similar in size (in this case, about 1/4 of the observations are in the income over \\$50k class, and 3/4 are in the \"under \\$50k\" class).  "
   ]
  },
  {
   "cell_type": "markdown",
   "metadata": {},
   "source": [
    "### Question 4 - Describing the Model in Layman's Terms\n",
    "*In one to two paragraphs, explain to *CharityML*, in layman's terms, how the final model chosen is supposed to work. Be sure that you are describing the major qualities of the model, such as how the model is trained and how the model makes a prediction. Avoid using advanced mathematical or technical jargon, such as describing equations or discussing the algorithm implementation.*"
   ]
  },
  {
   "cell_type": "markdown",
   "metadata": {},
   "source": [
    "**Answer: ** \n",
    "\n",
    "AdaBoost trains a series of base classifiers (here we use decision trees as base classifiers, which are most commonly used), taking the input features (for example, work class, education, occupation, sex, capital-gain), as well as the classification for whether persons have incomes greater than 50 thousand dollars, or not. \n",
    "\n",
    "Decision trees work by checking how well each feature (e.g. the person's age) splits the persons into the two desired income categories. For instance, let's say the decision tree splits people by age into those over 30 years old and those who are not.  It can check if the persons who are over 30 years mostly have incomes above 50k, and most of those persons 30 years or younger have incomes at 50k or less.  If that's the case, then this is a good decision to split the data on.\n",
    "\n",
    "AdaBoost first trains one base model (one decision tree), which uses the features to classify each person in one of two income classes.  Then it compares these predictions with the actual class for each person.  For those persons where this base model was incorrect, it gives those observations (persons) more importance (weights them more heavily) when training a second base model (a second decision tree). It continues to train more models, saving every model and adjusting the weights of the data points based on the performance of the previously trained model.  \n",
    "\n",
    "The actual prediction of the AdaBoost model is a weighted sum of the predictions from all of the base models (from the very first base model trained to the last).  Each base model is given its own weight based on that base model's accuracy across all training examples.  The AdaBoost model stops training new models when it reaches the maximum number of base models allowed (a number that we can choose).\n",
    "\n",
    "So when the model gets a new person and their features (occupation, education etc), the model will pass this information into each of its base models (for example, 50 base models).  Each base model makes its own prediction, and the overall Adaboost model aggregates all of these 50 predictions to arrive at a final predicted class for that new person."
   ]
  },
  {
   "cell_type": "markdown",
   "metadata": {},
   "source": [
    "### Implementation: Model Tuning\n",
    "Fine tune the chosen model. Use grid search (`GridSearchCV`) with at least one important parameter tuned with at least 3 different values. You will need to use the entire training set for this. In the code cell below, you will need to implement the following:\n",
    "- Import [`sklearn.grid_search.GridSearchCV`](http://scikit-learn.org/0.17/modules/generated/sklearn.grid_search.GridSearchCV.html) and [`sklearn.metrics.make_scorer`](http://scikit-learn.org/stable/modules/generated/sklearn.metrics.make_scorer.html).\n",
    "- Initialize the classifier you've chosen and store it in `clf`.\n",
    " - Set a `random_state` if one is available to the same state you set before.\n",
    "- Create a dictionary of parameters you wish to tune for the chosen model.\n",
    " - Example: `parameters = {'parameter' : [list of values]}`.\n",
    " - **Note:** Avoid tuning the `max_features` parameter of your learner if that parameter is available!\n",
    "- Use `make_scorer` to create an `fbeta_score` scoring object (with $\\beta = 0.5$).\n",
    "- Perform grid search on the classifier `clf` using the `'scorer'`, and store it in `grid_obj`.\n",
    "- Fit the grid search object to the training data (`X_train`, `y_train`), and store it in `grid_fit`.\n",
    "\n",
    "**Note:** Depending on the algorithm chosen and the parameter list, the following implementation may take some time to run!"
   ]
  },
  {
   "cell_type": "markdown",
   "metadata": {},
   "source": [
    "#### Notes  \n",
    "\n",
    "* I noticed that AdaBoostClassifier() without passing in a base estimator was doing better than AdaBoostClassifier(base_estimator = DecisionTreeClassifier()).  Looking at the source code, the default base estimator is actually DecisionTreeClassifier(max_depth=1).  This is a stub, (1-level tree), which is recommended as a weak learner.  If I explicitly pass in DecisionTreeClassifier as a base estimator, the default max_depth is 'None', which means the tree will keep growing and overfit.\n",
    "\n",
    "* When using grid search, I need to set AdaBoost's base estimator so that grid search can tune the parameters within the base estimator.\n",
    "\n",
    "* Note that, in order to save grid search time, I use a most 3 values for each parameter at a time, one greater than and one less than the default (or optimal) value.  Based on the results, I know which direction (increase or decrease) that improves the model, and can try other values around the latest best value.  Like binary search, this helps me to narrow down the search space for the parameters."
   ]
  },
  {
   "cell_type": "code",
   "execution_count": 26,
   "metadata": {
    "collapsed": false
   },
   "outputs": [
    {
     "name": "stdout",
     "output_type": "stream",
     "text": [
      "grid search took 139.0 seconds\n",
      "Unoptimized model\n",
      "------\n",
      "Accuracy score on testing data: 0.8576\n",
      "F-score on testing data: 0.7246\n",
      "\n",
      "Optimized Model\n",
      "------\n",
      "Final accuracy score on the testing data: 0.8676\n",
      "Final F-score on the testing data: 0.7424\n"
     ]
    }
   ],
   "source": [
    "# TODO: Import 'GridSearchCV', 'make_scorer', and any other necessary libraries\n",
    "from sklearn.model_selection import GridSearchCV #grid_search was deprecated; using model_selection instead\n",
    "from sklearn.model_selection import ShuffleSplit\n",
    "from sklearn.metrics import make_scorer\n",
    "from sklearn.metrics import fbeta_score\n",
    "# TODO: Initialize the classifier\n",
    "clf_default = AdaBoostClassifier(random_state=0) #default is the same as AdaBoostClassifier(max_depth=1)\n",
    "clf = AdaBoostClassifier(base_estimator = DecisionTreeClassifier(), random_state=0) #need to set base_estimator in order for grid search to set the base estimator's arguments\n",
    "# TODO: Create the parameters list you wish to tune\n",
    "parameters = {'n_estimators': [20, 50, 75],\n",
    "              'base_estimator__max_depth': [1, 2],\n",
    "             }\n",
    "\n",
    "# TODO: Make an fbeta_score scoring object\n",
    "scorer = make_scorer(fbeta_score, beta=0.5)\n",
    "cv_sets = ShuffleSplit(n_splits=10, test_size = 0.20, random_state = 0)\n",
    "\n",
    "# TODO: Perform grid search on the classifier using 'scorer' as the scoring method\n",
    "grid_obj = GridSearchCV(estimator=clf,\n",
    "                        param_grid=parameters,\n",
    "                        scoring=scorer,\n",
    "                        cv=cv_sets)\n",
    "\n",
    "# TODO: Fit the grid search object to the training data and find the optimal parameters\n",
    "start = time()\n",
    "grid_fit = grid_obj.fit(X_train,y_train)\n",
    "end = time()\n",
    "search_duration = round(end - start,0)\n",
    "print \"grid search took {} seconds\".format(search_duration)\n",
    "\n",
    "# Get the estimator\n",
    "best_clf = grid_fit.best_estimator_\n",
    "\n",
    "# Make predictions using the unoptimized and model\n",
    "predictions = (clf_default.fit(X_train, y_train)).predict(X_test)\n",
    "best_predictions = best_clf.predict(X_test)\n",
    "\n",
    "# Report the before-and-afterscores\n",
    "print \"Unoptimized model\\n------\"\n",
    "print \"Accuracy score on testing data: {:.4f}\".format(accuracy_score(y_test, predictions))\n",
    "print \"F-score on testing data: {:.4f}\".format(fbeta_score(y_test, predictions, beta = 0.5))\n",
    "print \"\\nOptimized Model\\n------\"\n",
    "print \"Final accuracy score on the testing data: {:.4f}\".format(accuracy_score(y_test, best_predictions))\n",
    "print \"Final F-score on the testing data: {:.4f}\".format(fbeta_score(y_test, best_predictions, beta = 0.5))"
   ]
  },
  {
   "cell_type": "code",
   "execution_count": 29,
   "metadata": {
    "collapsed": false
   },
   "outputs": [
    {
     "data": {
      "text/plain": [
       "{'mean_fit_time': array([ 0.67978463,  1.60575061,  2.21872489,  1.01743898,  2.42107828,\n",
       "         3.6884743 ]),\n",
       " 'mean_score_time': array([ 0.03412869,  0.06977899,  0.09307442,  0.03189824,  0.06633642,\n",
       "         0.09900339]),\n",
       " 'mean_test_score': array([ 0.71037481,  0.72949646,  0.73377334,  0.7327552 ,  0.74815397,\n",
       "         0.75098005]),\n",
       " 'mean_train_score': array([ 0.71143696,  0.73040841,  0.73731649,  0.73432121,  0.75435067,\n",
       "         0.75877713]),\n",
       " 'param_base_estimator__max_depth': masked_array(data = [1 1 1 2 2 2],\n",
       "              mask = [False False False False False False],\n",
       "        fill_value = ?),\n",
       " 'param_n_estimators': masked_array(data = [20 50 75 20 50 75],\n",
       "              mask = [False False False False False False],\n",
       "        fill_value = ?),\n",
       " 'params': ({'base_estimator__max_depth': 1, 'n_estimators': 20},\n",
       "  {'base_estimator__max_depth': 1, 'n_estimators': 50},\n",
       "  {'base_estimator__max_depth': 1, 'n_estimators': 75},\n",
       "  {'base_estimator__max_depth': 2, 'n_estimators': 20},\n",
       "  {'base_estimator__max_depth': 2, 'n_estimators': 50},\n",
       "  {'base_estimator__max_depth': 2, 'n_estimators': 75}),\n",
       " 'rank_test_score': array([6, 5, 3, 4, 2, 1], dtype=int32),\n",
       " 'split0_test_score': array([ 0.70453931,  0.72567676,  0.72841965,  0.72787318,  0.73254607,\n",
       "         0.74128277]),\n",
       " 'split0_train_score': array([ 0.71499095,  0.73296471,  0.73883498,  0.73295072,  0.75389182,\n",
       "         0.75651005]),\n",
       " 'split1_test_score': array([ 0.72261072,  0.73654391,  0.74088243,  0.74258725,  0.75169131,\n",
       "         0.75613079]),\n",
       " 'split1_train_score': array([ 0.70866272,  0.72224218,  0.73415991,  0.73127855,  0.75404007,\n",
       "         0.75361365]),\n",
       " 'split2_test_score': array([ 0.71089082,  0.72826087,  0.73485668,  0.72719914,  0.74921136,\n",
       "         0.74895616]),\n",
       " 'split2_train_score': array([ 0.71550116,  0.73066139,  0.73624041,  0.7328729 ,  0.76085195,\n",
       "         0.76339672]),\n",
       " 'split3_test_score': array([ 0.70712401,  0.72241564,  0.72911227,  0.71301474,  0.75112952,\n",
       "         0.75136612]),\n",
       " 'split3_train_score': array([ 0.71362875,  0.73286833,  0.73932358,  0.72388978,  0.75571397,\n",
       "         0.76028147]),\n",
       " 'split4_test_score': array([ 0.70905764,  0.72953737,  0.73496804,  0.73662175,  0.74971886,\n",
       "         0.74713352]),\n",
       " 'split4_train_score': array([ 0.71504237,  0.73051733,  0.74034405,  0.74206401,  0.75682973,\n",
       "         0.7629625 ]),\n",
       " 'split5_test_score': array([ 0.70951258,  0.7309435 ,  0.73679393,  0.73932092,  0.75375259,\n",
       "         0.76183047]),\n",
       " 'split5_train_score': array([ 0.70946932,  0.7326736 ,  0.7377772 ,  0.73845318,  0.75152736,\n",
       "         0.76156698]),\n",
       " 'split6_test_score': array([ 0.71391417,  0.72736652,  0.73232968,  0.7334102 ,  0.74820233,\n",
       "         0.74811298]),\n",
       " 'split6_train_score': array([ 0.7099121 ,  0.72724895,  0.73405672,  0.73473499,  0.74959775,\n",
       "         0.75208741]),\n",
       " 'split7_test_score': array([ 0.7121316 ,  0.72955713,  0.73077439,  0.74023615,  0.7518845 ,\n",
       "         0.74638331]),\n",
       " 'split7_train_score': array([ 0.71488745,  0.73247978,  0.73680782,  0.73906486,  0.75701372,\n",
       "         0.76083533]),\n",
       " 'split8_test_score': array([ 0.70992553,  0.74444872,  0.745653  ,  0.74853037,  0.75423419,\n",
       "         0.7628353 ]),\n",
       " 'split8_train_score': array([ 0.70076962,  0.72884486,  0.73544143,  0.73079538,  0.7488063 ,\n",
       "         0.7562026 ]),\n",
       " 'split9_test_score': array([ 0.70404172,  0.72021419,  0.72394329,  0.71875833,  0.73916899,\n",
       "         0.74576913]),\n",
       " 'split9_train_score': array([ 0.71150512,  0.73358292,  0.74017878,  0.73710772,  0.75523406,\n",
       "         0.76031459]),\n",
       " 'std_fit_time': array([ 0.07324291,  0.11934029,  0.0231123 ,  0.01516213,  0.02607727,\n",
       "         0.20904786]),\n",
       " 'std_score_time': array([ 0.00865417,  0.01122872,  0.00193969,  0.0024951 ,  0.00208245,\n",
       "         0.0040821 ]),\n",
       " 'std_test_score': array([ 0.00502997,  0.00657486,  0.00601237,  0.01048942,  0.00656889,\n",
       "         0.00674085]),\n",
       " 'std_train_score': array([ 0.00431911,  0.00333579,  0.00222324,  0.00491876,  0.00346051,\n",
       "         0.00372406])}"
      ]
     },
     "execution_count": 29,
     "metadata": {},
     "output_type": "execute_result"
    }
   ],
   "source": [
    "grid_fit.cv_results_"
   ]
  },
  {
   "cell_type": "markdown",
   "metadata": {},
   "source": [
    "Increasing max_depth from 1 to 2 and increasing the number of estimators from 50 to 75 increased the F beta score the most. I'll see what happens if I increase them further."
   ]
  },
  {
   "cell_type": "code",
   "execution_count": 30,
   "metadata": {
    "collapsed": false
   },
   "outputs": [
    {
     "name": "stdout",
     "output_type": "stream",
     "text": [
      "grid search took 247.0 seconds\n",
      "\n",
      "Optimized Model\n",
      "------\n",
      "Final accuracy score on the testing data: 0.8676\n",
      "Final F-score on the testing data: 0.7424\n"
     ]
    }
   ],
   "source": [
    "clf = AdaBoostClassifier(base_estimator = DecisionTreeClassifier(),\n",
    "                         random_state=0) #need to set base_estimator in order for grid search to set the base estimator's arguments\n",
    "# TODO: Create the parameters list you wish to tune\n",
    "parameters = {'n_estimators': [75,100],\n",
    "              'base_estimator__max_depth': [2,3],\n",
    "             }\n",
    "\n",
    "# TODO: Make an fbeta_score scoring object\n",
    "scorer = make_scorer(fbeta_score, beta=0.5)\n",
    "cv_sets = ShuffleSplit(n_splits=10, test_size = 0.20, random_state = 0)\n",
    "\n",
    "# TODO: Perform grid search on the classifier using 'scorer' as the scoring method\n",
    "grid_obj = GridSearchCV(estimator=clf,\n",
    "                        param_grid=parameters,\n",
    "                        scoring=scorer,\n",
    "                        cv=cv_sets)\n",
    "\n",
    "# TODO: Fit the grid search object to the training data and find the optimal parameters\n",
    "start = time()\n",
    "grid_fit = grid_obj.fit(X_train,y_train)\n",
    "end = time()\n",
    "search_duration = round(end - start,0)\n",
    "print \"grid search took {} seconds\".format(search_duration)\n",
    "\n",
    "# Get the estimator\n",
    "best_clf = grid_fit.best_estimator_\n",
    "best_predictions = best_clf.predict(X_test)\n",
    "\n",
    "# Report the before-and-afterscores\n",
    "#print \"Unoptimized model\\n------\"\n",
    "#print \"Accuracy score on testing data: {:.4f}\".format(accuracy_score(y_test, predictions))\n",
    "#print \"F-score on testing data: {:.4f}\".format(fbeta_score(y_test, predictions, beta = 0.5))\n",
    "print \"\\nOptimized Model\\n------\"\n",
    "print \"Final accuracy score on the testing data: {:.4f}\".format(accuracy_score(y_test, best_predictions))\n",
    "print \"Final F-score on the testing data: {:.4f}\".format(fbeta_score(y_test, best_predictions, beta = 0.5))"
   ]
  },
  {
   "cell_type": "code",
   "execution_count": 31,
   "metadata": {
    "collapsed": false
   },
   "outputs": [
    {
     "data": {
      "text/plain": [
       "{'mean_fit_time': array([ 3.94939063,  5.59851944,  5.43677289,  6.95154738]),\n",
       " 'mean_score_time': array([ 0.10337205,  0.1590656 ,  0.101612  ,  0.14173031]),\n",
       " 'mean_test_score': array([ 0.75108188,  0.74982053,  0.73960661,  0.73679934]),\n",
       " 'mean_train_score': array([ 0.75877713,  0.76094726,  0.76840714,  0.77458795]),\n",
       " 'param_base_estimator__max_depth': masked_array(data = [2 2 3 3],\n",
       "              mask = [False False False False],\n",
       "        fill_value = ?),\n",
       " 'param_n_estimators': masked_array(data = [75 100 75 100],\n",
       "              mask = [False False False False],\n",
       "        fill_value = ?),\n",
       " 'params': ({'base_estimator__max_depth': 2, 'n_estimators': 75},\n",
       "  {'base_estimator__max_depth': 2, 'n_estimators': 100},\n",
       "  {'base_estimator__max_depth': 3, 'n_estimators': 75},\n",
       "  {'base_estimator__max_depth': 3, 'n_estimators': 100}),\n",
       " 'rank_test_score': array([1, 2, 3, 4], dtype=int32),\n",
       " 'split0_test_score': array([ 0.74128277,  0.7438122 ,  0.73529412,  0.73510773]),\n",
       " 'split0_train_score': array([ 0.75651005,  0.75993631,  0.77184184,  0.77689975]),\n",
       " 'split1_test_score': array([ 0.75613079,  0.75476367,  0.74676908,  0.74566756]),\n",
       " 'split1_train_score': array([ 0.75361365,  0.75817812,  0.76742742,  0.77257453]),\n",
       " 'split2_test_score': array([ 0.74934726,  0.74987026,  0.7345099 ,  0.73652771]),\n",
       " 'split2_train_score': array([ 0.76339672,  0.76253515,  0.76848875,  0.77333782]),\n",
       " 'split3_test_score': array([ 0.75173956,  0.74812968,  0.73518609,  0.72896161]),\n",
       " 'split3_train_score': array([ 0.76028147,  0.76005984,  0.76506338,  0.77419256]),\n",
       " 'split4_test_score': array([ 0.74713352,  0.7500917 ,  0.73268045,  0.73161898]),\n",
       " 'split4_train_score': array([ 0.7629625 ,  0.76072137,  0.77098094,  0.77629661]),\n",
       " 'split5_test_score': array([ 0.7620842 ,  0.75140092,  0.7385217 ,  0.73225969]),\n",
       " 'split5_train_score': array([ 0.76156698,  0.7633166 ,  0.76679657,  0.77172804]),\n",
       " 'split6_test_score': array([ 0.74811298,  0.74809909,  0.75030377,  0.74735937]),\n",
       " 'split6_train_score': array([ 0.75208741,  0.75678122,  0.76247675,  0.77275654]),\n",
       " 'split7_test_score': array([ 0.74638331,  0.74983923,  0.73523951,  0.73072569]),\n",
       " 'split7_train_score': array([ 0.76083533,  0.76435331,  0.77068944,  0.777833  ]),\n",
       " 'split8_test_score': array([ 0.7628353 ,  0.75772028,  0.75366115,  0.74676481]),\n",
       " 'split8_train_score': array([ 0.7562026 ,  0.76035184,  0.76751652,  0.77329057]),\n",
       " 'split9_test_score': array([ 0.74576913,  0.74447829,  0.73390036,  0.73300024]),\n",
       " 'split9_train_score': array([ 0.76031459,  0.76323889,  0.77278974,  0.77697003]),\n",
       " 'std_fit_time': array([ 0.3624208 ,  0.73196849,  0.53998355,  0.55530491]),\n",
       " 'std_score_time': array([ 0.01353236,  0.0330374 ,  0.00396441,  0.022198  ]),\n",
       " 'std_test_score': array([ 0.00677388,  0.00399846,  0.00726744,  0.00672757]),\n",
       " 'std_train_score': array([ 0.00372406,  0.00228532,  0.00305846,  0.00208466])}"
      ]
     },
     "execution_count": 31,
     "metadata": {},
     "output_type": "execute_result"
    }
   ],
   "source": [
    "#grid_obj.best_estimator_\n",
    "grid_fit.cv_results_"
   ]
  },
  {
   "cell_type": "markdown",
   "metadata": {},
   "source": [
    "Increasing max_depth from 2 to 3 does not improve the f score, and increasing the number of estimators from 75 to 100 does not improve the f-score either.\n",
    "\n",
    "I'll stick with max_depth of 2 and try a few more estimator numbers"
   ]
  },
  {
   "cell_type": "code",
   "execution_count": 32,
   "metadata": {
    "collapsed": false
   },
   "outputs": [
    {
     "name": "stdout",
     "output_type": "stream",
     "text": [
      "grid search took 139.0 seconds\n",
      "\n",
      "Optimized Model\n",
      "------\n",
      "Final accuracy score on the testing data: 0.8676\n",
      "Final F-score on the testing data: 0.7424\n"
     ]
    }
   ],
   "source": [
    "clf = AdaBoostClassifier(base_estimator = DecisionTreeClassifier(),\n",
    "                         random_state=0) #need to set base_estimator in order for grid search to set the base estimator's arguments\n",
    "# TODO: Create the parameters list you wish to tune\n",
    "parameters = {'n_estimators': [60,75,90],\n",
    "              'base_estimator__max_depth': [2],\n",
    "             }\n",
    "\n",
    "# TODO: Make an fbeta_score scoring object\n",
    "scorer = make_scorer(fbeta_score, beta=0.5)\n",
    "cv_sets = ShuffleSplit(n_splits=10, test_size = 0.20, random_state = 0)\n",
    "\n",
    "# TODO: Perform grid search on the classifier using 'scorer' as the scoring method\n",
    "grid_obj = GridSearchCV(estimator=clf,\n",
    "                        param_grid=parameters,\n",
    "                        scoring=scorer,\n",
    "                        cv=cv_sets)\n",
    "\n",
    "# TODO: Fit the grid search object to the training data and find the optimal parameters\n",
    "start = time()\n",
    "grid_fit = grid_obj.fit(X_train,y_train)\n",
    "end = time()\n",
    "search_duration = round(end - start,0)\n",
    "print \"grid search took {} seconds\".format(search_duration)\n",
    "\n",
    "# Get the estimator\n",
    "best_clf = grid_fit.best_estimator_\n",
    "best_predictions = best_clf.predict(X_test)\n",
    "\n",
    "# Report the before-and-afterscores\n",
    "#print \"Unoptimized model\\n------\"\n",
    "#print \"Accuracy score on testing data: {:.4f}\".format(accuracy_score(y_test, predictions))\n",
    "#print \"F-score on testing data: {:.4f}\".format(fbeta_score(y_test, predictions, beta = 0.5))\n",
    "print \"\\nOptimized Model\\n------\"\n",
    "print \"Final accuracy score on the testing data: {:.4f}\".format(accuracy_score(y_test, best_predictions))\n",
    "print \"Final F-score on the testing data: {:.4f}\".format(fbeta_score(y_test, best_predictions, beta = 0.5))"
   ]
  },
  {
   "cell_type": "code",
   "execution_count": 33,
   "metadata": {
    "collapsed": false
   },
   "outputs": [
    {
     "data": {
      "text/plain": [
       "{'mean_fit_time': array([ 3.40097878,  3.88828006,  4.64848158]),\n",
       " 'mean_score_time': array([ 0.10459263,  0.1061547 ,  0.11559222]),\n",
       " 'mean_test_score': array([ 0.75052533,  0.7510174 ,  0.75079349]),\n",
       " 'mean_train_score': array([ 0.75672405,  0.75877713,  0.76061687]),\n",
       " 'param_base_estimator__max_depth': masked_array(data = [2 2 2],\n",
       "              mask = [False False False],\n",
       "        fill_value = ?),\n",
       " 'param_n_estimators': masked_array(data = [60 75 90],\n",
       "              mask = [False False False],\n",
       "        fill_value = ?),\n",
       " 'params': ({'base_estimator__max_depth': 2, 'n_estimators': 60},\n",
       "  {'base_estimator__max_depth': 2, 'n_estimators': 75},\n",
       "  {'base_estimator__max_depth': 2, 'n_estimators': 90}),\n",
       " 'rank_test_score': array([3, 1, 2], dtype=int32),\n",
       " 'split0_test_score': array([ 0.73705687,  0.74128277,  0.74267516]),\n",
       " 'split0_train_score': array([ 0.75497952,  0.75651005,  0.75927833]),\n",
       " 'split1_test_score': array([ 0.75342466,  0.75613079,  0.75366278]),\n",
       " 'split1_train_score': array([ 0.75170915,  0.75361365,  0.75720436]),\n",
       " 'split2_test_score': array([ 0.75408325,  0.74895616,  0.75220093]),\n",
       " 'split2_train_score': array([ 0.76231015,  0.76339672,  0.76281626]),\n",
       " 'split3_test_score': array([ 0.75765178,  0.75173956,  0.74876543]),\n",
       " 'split3_train_score': array([ 0.76074314,  0.76028147,  0.75858113]),\n",
       " 'split4_test_score': array([ 0.75083841,  0.74713352,  0.75268817]),\n",
       " 'split4_train_score': array([ 0.75916478,  0.7629625 ,  0.76521273]),\n",
       " 'split5_test_score': array([ 0.75375259,  0.76183047,  0.75279756]),\n",
       " 'split5_train_score': array([ 0.75471698,  0.76156698,  0.76159985]),\n",
       " 'split6_test_score': array([ 0.74969325,  0.74811298,  0.75067518]),\n",
       " 'split6_train_score': array([ 0.75241429,  0.75208741,  0.75683001]),\n",
       " 'split7_test_score': array([ 0.74932753,  0.74638331,  0.74829054]),\n",
       " 'split7_train_score': array([ 0.759136  ,  0.76083533,  0.76381862]),\n",
       " 'split8_test_score': array([ 0.75779817,  0.7628353 ,  0.75940942]),\n",
       " 'split8_train_score': array([ 0.75388601,  0.7562026 ,  0.75930083]),\n",
       " 'split9_test_score': array([ 0.74162679,  0.74576913,  0.7467697 ]),\n",
       " 'split9_train_score': array([ 0.75818049,  0.76031459,  0.76152653]),\n",
       " 'std_fit_time': array([ 0.4082713 ,  0.41654355,  0.25257221]),\n",
       " 'std_score_time': array([ 0.01708641,  0.01764766,  0.00342625]),\n",
       " 'std_test_score': array([ 0.00630848,  0.00674392,  0.00429586]),\n",
       " 'std_train_score': array([ 0.00346559,  0.00372406,  0.00267689])}"
      ]
     },
     "execution_count": 33,
     "metadata": {},
     "output_type": "execute_result"
    }
   ],
   "source": [
    "grid_fit.cv_results_"
   ]
  },
  {
   "cell_type": "code",
   "execution_count": 34,
   "metadata": {
    "collapsed": false
   },
   "outputs": [
    {
     "data": {
      "text/plain": [
       "AdaBoostClassifier(algorithm='SAMME.R',\n",
       "          base_estimator=DecisionTreeClassifier(class_weight=None, criterion='gini', max_depth=2,\n",
       "            max_features=None, max_leaf_nodes=None,\n",
       "            min_impurity_split=1e-07, min_samples_leaf=1,\n",
       "            min_samples_split=2, min_weight_fraction_leaf=0.0,\n",
       "            presort=False, random_state=None, splitter='best'),\n",
       "          learning_rate=1.0, n_estimators=75, random_state=None)"
      ]
     },
     "execution_count": 34,
     "metadata": {},
     "output_type": "execute_result"
    }
   ],
   "source": [
    "grid_obj.best_estimator_"
   ]
  },
  {
   "cell_type": "markdown",
   "metadata": {},
   "source": [
    "I don't see an improvement from 75 estimators and max depth of 2, so I'll stop here for now."
   ]
  },
  {
   "cell_type": "markdown",
   "metadata": {},
   "source": [
    "### Question 5 - Final Model Evaluation\n",
    "_What is your optimized model's accuracy and F-score on the testing data? Are these scores better or worse than the unoptimized model? How do the results from your optimized model compare to the naive predictor benchmarks you found earlier in **Question 1**?_  \n",
    "**Note:** Fill in the table below with your results, and then provide discussion in the **Answer** box."
   ]
  },
  {
   "cell_type": "markdown",
   "metadata": {},
   "source": [
    "#### Results:\n",
    "\n",
    "|     Metric     | Benchmark Predictor | Unoptimized Model | Optimized Model |\n",
    "| :------------: | :-----------------: | :---------------: | :-------------: | \n",
    "| Accuracy Score |    0.2478           |    0.8576         |   0.8676        |\n",
    "| F-score        |    0.2917           |    0.7246         |   0.7424        |\n"
   ]
  },
  {
   "cell_type": "markdown",
   "metadata": {},
   "source": [
    "**Answer: **\n",
    "\n",
    "The optimized model has an F-score of 0.7424 and accuracy of 0.8676, which is slightly better than the un-optimized model.  Both the un-optimized and optimized AdaBoost models perform better than the naive predictor."
   ]
  },
  {
   "cell_type": "markdown",
   "metadata": {},
   "source": [
    "----\n",
    "## Feature Importance\n",
    "\n",
    "An important task when performing supervised learning on a dataset like the census data we study here is determining which features provide the most predictive power. By focusing on the relationship between only a few crucial features and the target label we simplify our understanding of the phenomenon, which is most always a useful thing to do. In the case of this project, that means we wish to identify a small number of features that most strongly predict whether an individual makes at most or more than \\$50,000.\n",
    "\n",
    "Choose a scikit-learn classifier (e.g., adaboost, random forests) that has a `feature_importance_` attribute, which is a function that ranks the importance of features according to the chosen classifier.  In the next python cell fit this classifier to training set and use this attribute to determine the top 5 most important features for the census dataset."
   ]
  },
  {
   "cell_type": "code",
   "execution_count": 38,
   "metadata": {
    "collapsed": false
   },
   "outputs": [
    {
     "data": {
      "text/html": [
       "<div>\n",
       "<table border=\"1\" class=\"dataframe\">\n",
       "  <thead>\n",
       "    <tr style=\"text-align: right;\">\n",
       "      <th></th>\n",
       "      <th>feature_name</th>\n",
       "      <th>feature_importances</th>\n",
       "    </tr>\n",
       "  </thead>\n",
       "  <tbody>\n",
       "    <tr>\n",
       "      <th>2</th>\n",
       "      <td>capital-gain</td>\n",
       "      <td>0.199335</td>\n",
       "    </tr>\n",
       "    <tr>\n",
       "      <th>0</th>\n",
       "      <td>age</td>\n",
       "      <td>0.114477</td>\n",
       "    </tr>\n",
       "    <tr>\n",
       "      <th>3</th>\n",
       "      <td>capital-loss</td>\n",
       "      <td>0.095666</td>\n",
       "    </tr>\n",
       "    <tr>\n",
       "      <th>4</th>\n",
       "      <td>hours-per-week</td>\n",
       "      <td>0.077989</td>\n",
       "    </tr>\n",
       "    <tr>\n",
       "      <th>1</th>\n",
       "      <td>education-num</td>\n",
       "      <td>0.071369</td>\n",
       "    </tr>\n",
       "    <tr>\n",
       "      <th>30</th>\n",
       "      <td>marital-status_ Married-civ-spouse</td>\n",
       "      <td>0.040391</td>\n",
       "    </tr>\n",
       "    <tr>\n",
       "      <th>44</th>\n",
       "      <td>occupation_ Prof-specialty</td>\n",
       "      <td>0.029637</td>\n",
       "    </tr>\n",
       "    <tr>\n",
       "      <th>23</th>\n",
       "      <td>education_level_ HS-grad</td>\n",
       "      <td>0.025881</td>\n",
       "    </tr>\n",
       "    <tr>\n",
       "      <th>50</th>\n",
       "      <td>relationship_ Not-in-family</td>\n",
       "      <td>0.021955</td>\n",
       "    </tr>\n",
       "    <tr>\n",
       "      <th>32</th>\n",
       "      <td>marital-status_ Never-married</td>\n",
       "      <td>0.013107</td>\n",
       "    </tr>\n",
       "    <tr>\n",
       "      <th>28</th>\n",
       "      <td>marital-status_ Divorced</td>\n",
       "      <td>0.012404</td>\n",
       "    </tr>\n",
       "    <tr>\n",
       "      <th>9</th>\n",
       "      <td>workclass_ Self-emp-not-inc</td>\n",
       "      <td>0.011833</td>\n",
       "    </tr>\n",
       "    <tr>\n",
       "      <th>54</th>\n",
       "      <td>relationship_ Wife</td>\n",
       "      <td>0.011800</td>\n",
       "    </tr>\n",
       "    <tr>\n",
       "      <th>60</th>\n",
       "      <td>sex_ Female</td>\n",
       "      <td>0.010411</td>\n",
       "    </tr>\n",
       "    <tr>\n",
       "      <th>39</th>\n",
       "      <td>occupation_ Farming-fishing</td>\n",
       "      <td>0.010013</td>\n",
       "    </tr>\n",
       "    <tr>\n",
       "      <th>41</th>\n",
       "      <td>occupation_ Machine-op-inspct</td>\n",
       "      <td>0.009710</td>\n",
       "    </tr>\n",
       "    <tr>\n",
       "      <th>14</th>\n",
       "      <td>education_level_ 12th</td>\n",
       "      <td>0.009557</td>\n",
       "    </tr>\n",
       "    <tr>\n",
       "      <th>6</th>\n",
       "      <td>workclass_ Local-gov</td>\n",
       "      <td>0.009278</td>\n",
       "    </tr>\n",
       "    <tr>\n",
       "      <th>61</th>\n",
       "      <td>sex_ Male</td>\n",
       "      <td>0.009112</td>\n",
       "    </tr>\n",
       "    <tr>\n",
       "      <th>38</th>\n",
       "      <td>occupation_ Exec-managerial</td>\n",
       "      <td>0.008913</td>\n",
       "    </tr>\n",
       "  </tbody>\n",
       "</table>\n",
       "</div>"
      ],
      "text/plain": [
       "                          feature_name  feature_importances\n",
       "2                         capital-gain             0.199335\n",
       "0                                  age             0.114477\n",
       "3                         capital-loss             0.095666\n",
       "4                       hours-per-week             0.077989\n",
       "1                        education-num             0.071369\n",
       "30  marital-status_ Married-civ-spouse             0.040391\n",
       "44          occupation_ Prof-specialty             0.029637\n",
       "23            education_level_ HS-grad             0.025881\n",
       "50         relationship_ Not-in-family             0.021955\n",
       "32       marital-status_ Never-married             0.013107\n",
       "28            marital-status_ Divorced             0.012404\n",
       "9          workclass_ Self-emp-not-inc             0.011833\n",
       "54                  relationship_ Wife             0.011800\n",
       "60                         sex_ Female             0.010411\n",
       "39         occupation_ Farming-fishing             0.010013\n",
       "41       occupation_ Machine-op-inspct             0.009710\n",
       "14               education_level_ 12th             0.009557\n",
       "6                 workclass_ Local-gov             0.009278\n",
       "61                           sex_ Male             0.009112\n",
       "38         occupation_ Exec-managerial             0.008913"
      ]
     },
     "execution_count": 38,
     "metadata": {},
     "output_type": "execute_result"
    }
   ],
   "source": [
    "clf = AdaBoostClassifier(base_estimator=DecisionTreeClassifier(max_depth=2), \n",
    "                         n_estimators=75, \n",
    "                         random_state=0)\n",
    "clf = clf.fit(X_train,y_train)\n",
    "features_df = pd.DataFrame()\n",
    "features_df['feature_name'] = list(features.columns)\n",
    "features_df['feature_importances'] = clf.feature_importances_\n",
    "features_df = features_df.sort_values(['feature_importances'], ascending=False)\n",
    "features_df.head(20)"
   ]
  },
  {
   "cell_type": "markdown",
   "metadata": {},
   "source": [
    "### Question 6 - Feature Relevance Observation\n",
    "When **Exploring the Data**, it was shown there are thirteen available features for each individual on record in the census data.  \n",
    "_Of these thirteen records, which five features do you believe to be most important for prediction, and in what order would you rank them and why?_"
   ]
  },
  {
   "cell_type": "markdown",
   "metadata": {},
   "source": [
    "**Answer:**\n",
    "\n",
    "Using intuition alone, I guess the 5 most importance features in order of importance are:\n",
    "1. age\n",
    "\n",
    "2. hours worked per week\n",
    "\n",
    "3. education level\n",
    "\n",
    "4. capital gain\n",
    "\n",
    "5. capital loss\n",
    "\n",
    "Older persons tend to also have more work experience, and salaries are often determined based on work experience and promotions over time.  Hours worked per week let us know if someone is employed full-time or part-time.  Usually, someone who is employed part-time probably makes less, because people are usually paid on an hourly or monthly basis.  Education level probably affects income, because there are often studies that suggest having a college education improves personal income and job opportunities.  Also, job postings often require a minimum level of education.  Capital gains and losses give us a direct measure of part of the person's annual income, so these can hint at a persons's level of savings, and therefore their annual income level.  Those with more disposable income can save more of it, and those who have more money saved will have larger movements in capital gains or losses from their investments."
   ]
  },
  {
   "cell_type": "markdown",
   "metadata": {},
   "source": [
    "### Implementation - Extracting Feature Importance\n",
    "Choose a `scikit-learn` supervised learning algorithm that has a `feature_importance_` attribute availble for it. This attribute is a function that ranks the importance of each feature when making predictions based on the chosen algorithm.\n",
    "\n",
    "In the code cell below, you will need to implement the following:\n",
    " - Import a supervised learning model from sklearn if it is different from the three used earlier.\n",
    " - Train the supervised model on the entire training set.\n",
    " - Extract the feature importances using `'.feature_importances_'`."
   ]
  },
  {
   "cell_type": "markdown",
   "metadata": {},
   "source": [
    "http://scikit-learn.org/stable/modules/feature_selection.html#feature-selection-using-selectfrommodel"
   ]
  },
  {
   "cell_type": "code",
   "execution_count": 37,
   "metadata": {
    "collapsed": false
   },
   "outputs": [
    {
     "data": {
      "image/png": "[encoded data removed]",
      "text/plain": [
       "<matplotlib.figure.Figure at 0x1154061d0>"
      ]
     },
     "metadata": {},
     "output_type": "display_data"
    }
   ],
   "source": [
    "# TODO: Import a supervised learning model that has 'feature_importances_'\n",
    "\n",
    "# TODO: Train the supervised model on the training set \n",
    "model = AdaBoostClassifier(base_estimator=DecisionTreeClassifier(max_depth=2), n_estimators=75)\n",
    "model = model.fit(X_train,y_train)\n",
    "# TODO: Extract the feature importances\n",
    "importances = model.feature_importances_\n",
    "\n",
    "# Plot\n",
    "vs.feature_plot(importances, X_train, y_train)"
   ]
  },
  {
   "cell_type": "markdown",
   "metadata": {},
   "source": [
    "### Question 7 - Extracting Feature Importance\n",
    "\n",
    "Observe the visualization created above which displays the five most relevant features for predicting if an individual makes at most or above \\$50,000.  \n",
    "_How do these five features compare to the five features you discussed in **Question 6**? If you were close to the same answer, how does this visualization confirm your thoughts? If you were not close, why do you think these features are more relevant?_"
   ]
  },
  {
   "cell_type": "markdown",
   "metadata": {},
   "source": [
    "**Answer:**\n",
    "\n",
    "The aggregates the feature_importances of all the feature columns that were generated using one-hot encoding.  For intance, all education columns are generated from the original education column, so the sum of the feature importance weights for all those education columns represents the feature_importance of the original education column.\n",
    "\n",
    "This makes more sense than just looking at the feature importance of each individual column separately, since they were generated from one column, and they conceptually represent the same variable (education level, for instance).\n",
    "\n",
    "So the features ordered by importance are:\n",
    "\n",
    "1: education level\n",
    "\n",
    "2: hours worked per week\n",
    "\n",
    "3: capital loss\n",
    "\n",
    "4: age\n",
    "\n",
    "5: capital gain\n",
    "\n",
    "These are the same five features I chose earlier, but their order of importance is different.  It appears that education is most important in determining income class.  This is most likely because more education increases the wages per hour or income per month.  So, for a person with the same age and hours worked, if they are paid more per hour, they have a higher annual income.  "
   ]
  },
  {
   "cell_type": "markdown",
   "metadata": {},
   "source": [
    "### Feature Selection\n",
    "How does a model perform if we only use a subset of all the available features in the data? With less features required to train, the expectation is that training and prediction time is much lower — at the cost of performance metrics. From the visualization above, we see that the top five most important features contribute more than half of the importance of **all** features present in the data. This hints that we can attempt to *reduce the feature space* and simplify the information required for the model to learn. The code cell below will use the same optimized model you found earlier, and train it on the same training set *with only the top five important features*. "
   ]
  },
  {
   "cell_type": "code",
   "execution_count": 187,
   "metadata": {
    "collapsed": false
   },
   "outputs": [
    {
     "name": "stdout",
     "output_type": "stream",
     "text": [
      "Final Model trained on full data\n",
      "------\n",
      "Accuracy on testing data: 0.8676\n",
      "F-score on testing data: 0.7424\n",
      "Train time 4.6, predict time 0.1\n",
      "\n",
      "Final Model trained on reduced data\n",
      "------\n",
      "Accuracy on testing data: 0.8429\n",
      "F-score on testing data: 0.7003\n",
      "Train time 0.0, predict time 0.0\n"
     ]
    }
   ],
   "source": [
    "# Import functionality for cloning a model\n",
    "from sklearn.base import clone\n",
    "\n",
    "# Reduce the feature space\n",
    "X_train_reduced = X_train[X_train.columns.values[(np.argsort(importances)[::-1])[:5]]]\n",
    "X_test_reduced = X_test[X_test.columns.values[(np.argsort(importances)[::-1])[:5]]]\n",
    "\n",
    "start = time()\n",
    "best_clf = best_clf.fit(X_train,y_train)\n",
    "end = time()\n",
    "duration_all_features_train = round(end - start,1)\n",
    "\n",
    "start = time()\n",
    "best_predictions = best_clf.predict(X_test)\n",
    "end = time()\n",
    "duration_all_features_predict = round(end - start,1)\n",
    "\n",
    "# Train on the \"best\" model found from grid search earlier\n",
    "start = time()\n",
    "clf = (clone(best_clf)).fit(X_train_reduced, y_train)\n",
    "end = time()\n",
    "\n",
    "start = time()\n",
    "duation_reduced_features_train = round(end - start,1)\n",
    "end = time()\n",
    "duration_reduced_features_predict = round(end - start,1)\n",
    "\n",
    "# Make new predictions\n",
    "reduced_predictions = clf.predict(X_test_reduced)\n",
    "\n",
    "# Report scores from the final model using both versions of data\n",
    "print \"Final Model trained on full data\\n------\"\n",
    "print \"Accuracy on testing data: {:.4f}\".format(accuracy_score(y_test, best_predictions))\n",
    "print \"F-score on testing data: {:.4f}\".format(fbeta_score(y_test, best_predictions, beta = 0.5))\n",
    "print \"Train time {}, predict time {}\".format(duration_all_features_train, duration_all_features_predict)\n",
    "print \"\\nFinal Model trained on reduced data\\n------\"\n",
    "print \"Accuracy on testing data: {:.4f}\".format(accuracy_score(y_test, reduced_predictions))\n",
    "print \"F-score on testing data: {:.4f}\".format(fbeta_score(y_test, reduced_predictions, beta = 0.5))\n",
    "print \"Train time {}, predict time {}\".format(duration_reduced_features_predict, duration_reduced_features_predict)"
   ]
  },
  {
   "cell_type": "markdown",
   "metadata": {},
   "source": [
    "### Question 8 - Effects of Feature Selection\n",
    "*How does the final model's F-score and accuracy score on the reduced data using only five features compare to those same scores when all features are used?*  \n",
    "*If training time was a factor, would you consider using the reduced data as your training set?*"
   ]
  },
  {
   "cell_type": "markdown",
   "metadata": {},
   "source": [
    "**Answer:**\n",
    "\n",
    "With the reduced features, the F-score is 0.7003 compared with 0.7424 with all features.  The training time is reduced rom 4.6 seconds to nearly zero.  If training time is an issue, I would consider using the reduced data set.  However, if the model does not need to be trained very frequently, and if using more features consistently generates a higher f-score, I would still prefer using more features despite the extra cost in training time and data storage space."
   ]
  },
  {
   "cell_type": "markdown",
   "metadata": {},
   "source": [
    "> **Note**: Once you have completed all of the code implementations and successfully answered each question above, you may finalize your work by exporting the iPython Notebook as an HTML document. You can do this by using the menu above and navigating to  \n",
    "**File -> Download as -> HTML (.html)**. Include the finished document along with this notebook as your submission."
   ]
  },
  {
   "cell_type": "markdown",
   "metadata": {},
   "source": [
    "# Appendix"
   ]
  },
  {
   "cell_type": "markdown",
   "metadata": {},
   "source": [
    "### References for model comparisons\n",
    "\n",
    "http://scikit-learn.org/stable/tutorial/machine_learning_map/\n",
    "\n",
    "http://www.dataschool.io/comparing-supervised-learning-algorithms/\n",
    "\n",
    "https://docs.microsoft.com/en-us/azure/machine-learning/machine-learning-algorithm-choice\n",
    "\n",
    "https://docs.microsoft.com/en-us/azure/machine-learning/machine-learning-algorithm-cheat-sheet\n",
    "\n",
    "http://stackoverflow.com/questions/2595176/when-to-choose-which-machine-learning-classifier\n",
    "\n",
    "https://www.cs.cornell.edu/~caruana/ctp/ct.papers/caruana.icml06.pdf"
   ]
  },
  {
   "cell_type": "markdown",
   "metadata": {},
   "source": [
    "### Notes on each model\n",
    "\n",
    "Gaussian Naive Bayes\n",
    "strengths: performs well when features are independent.  \n",
    "weaknesses: does less well when features are correlated, because it assumes independence.\n",
    "\n",
    "Naive Bayes classifier. This model is much more computationally efficient than optimal Bayes classification, and under certain conditions it has performance comparable to neural networks and decision trees\n",
    "\n",
    "Decision Trees\n",
    "strengths: good for non-linear separation.\n",
    "weaknesses: prone to over-fitting training data.\n",
    "\n",
    "Decision Trees is one of the popular algorithms for tackling such challenges. Advantages of decision trees include:\n",
    "● computational scalability\n",
    "● handling of messy data ­ missing values, various feature types\n",
    "● ability to deal with irrelevant features ­ the algorithm selects\n",
    "“relevant” features first, and generally ignores irrelevant features.\n",
    "● If the decision tree is short, it is easy for a human to interpret it:\n",
    "decision trees do not produce a black box model.\n",
    "\n",
    "It compares all available attributes to find which one classifies the data the best, but it doesn’t look ahead (or behind) at other attributes to see which combinations of them classify the data the best. This means that while the algorithm will, in most cases, come up with a good decision tree, a better one may exist\n",
    "\n",
    "\n",
    "Bagging\n",
    "http://machinelearningmastery.com/bagging-and-random-forest-ensemble-algorithms-for-machine-learning/\n",
    "\n",
    "Bootstrap Aggregation is a general procedure that can be used to reduce the variance for those algorithm that have high variance. An algorithm that has high variance are decision trees, like classification and regression trees (CART).\n",
    "\n",
    "Decision trees are sensitive to the specific data on which they are trained. If the training data is changed (e.g. a tree is trained on a subset of the training data) the resulting decision tree can be quite different and in turn the predictions can be quite different.\n",
    "\n",
    "Bagging is the application of the Bootstrap procedure to a high-variance machine learning algorithm, typically decision trees.\n",
    "\n",
    "When bagging with decision trees, we are less concerned about individual trees overfitting the training data. For this reason and for efficiency, the individual decision trees are grown deep (e.g. few training samples at each leaf-node of the tree) and the trees are not pruned. These trees will have both high variance and low bias. These are important characterize of sub-models when combining predictions using bagging.\n",
    "\n",
    "http://media.nips.cc/Conferences/2007/Tutorials/Slides/schapire-NIPS-07-tutorial.pdf\n",
    "\n",
    "\n",
    "\n",
    "AdaBoost\n",
    "\n",
    "http://machinelearningmastery.com/boosting-and-adaboost-for-machine-learning/\n",
    "AdaBoost was the first really successful boosting algorithm developed for binary classification\n",
    "The most suited and therefore most common algorithm used with AdaBoost are decision trees with one level. Because these trees are so short and only contain one decision for classification, they are often called decision stumps.\n",
    "\n",
    "\n",
    "http://stackoverflow.com/questions/20435717/what-is-a-weak-learner\n",
    "For Adaboost, choose decision tree as a weak learner.\n",
    "A weak classifier (decision stump) is prepared on the training data using the weighted samples. Only binary (two-class) classification problems are supported, so each decision stump makes one decision on one input variable and outputs a +1.0 or -1.0 value for the first or second class value.\n",
    "\n",
    "\n",
    "Advantages:\n",
    "● Computationally efficient.\n",
    "● No difficult parameters to set.\n",
    "● Versatile ­ a wide range of base learners can be used with\n",
    "AdaBoost.\n",
    "Caveats:\n",
    "● Algorithm seems susceptible to uniform noise.\n",
    "● Weak learner should not be too complex ­ to avoid overfitting.\n",
    "● There needs to be enough data so that the weak learning\n",
    "requirement is satisfied ­ the base learner should perform consistently better than random guessing, with generalization error < 0.5 for binary classification problems.\n",
    "\n",
    "\n",
    "RandomForest\n",
    "\n",
    "http://machinelearningmastery.com/bagging-and-random-forest-ensemble-algorithms-for-machine-learning/\n",
    "Random Forests are an improvement over bagged decision trees.\n",
    "In CART, when selecting a split point, the learning algorithm is allowed to look through all variables and all variable values in order to select the most optimal split-point. The random forest algorithm changes this procedure so that the learning algorithm is limited to a random sample of features of which to search.\n",
    "\n",
    "The number of features that can be searched at each split point (m) must be specified as a parameter to the algorithm. You can try different values and tune it using cross validation.\n",
    "\n",
    "For classification a good default is: m = sqrt(p)\n",
    "For regression a good default is: m = p/3\n",
    "Where m is the number of randomly selected features that can be searched at a split point and p is the number of input variables.\n",
    "\n",
    "Gradient Boosting\n",
    "\n",
    "http://machinelearningmastery.com/gentle-introduction-gradient-boosting-algorithm-machine-learning/\n",
    "Gradient Boosting is similar to Adaboost in that it aggregates weak learners to generate a classification model.\n",
    "\n",
    "https://www.analyticsvidhya.com/blog/2015/05/boosting-algorithms-simplified/\n",
    "\n",
    "Similar to classifier boosters, we also have regression boosters. In these problems we have continuous variable to predict.\n",
    "\n",
    "Boosting is one of the most powerful tool used in machine learning. These models suffer the problem of over-fitting if the data sample is too small.\n",
    "\n",
    "\n",
    "K-Nearest Neighbors\n",
    "\n",
    "nearest neighbors also suffers from the curse of dimensionality, the idea that as the number of features grow, the amount of data required for accurate generalization grows exponentially.\n",
    "\n",
    "k nearest neighbors does not provide a way to extrapolate beyond the range observed in the training data\n",
    "\n",
    "http://machinelearningmastery.com/k-nearest-neighbors-for-machine-learning/\n",
    "\n",
    "Best Prepare Data for KNN\n",
    "\n",
    "Rescale Data: KNN performs much better if all of the data has the same scale. Normalizing your data to the range [0, 1] is a good idea. It may also be a good idea to standardize your data if it has a Gaussian distribution.\n",
    "Address Missing Data: Missing data will mean that the distance between samples can not be calculated. These samples could be excluded or the missing values could be imputed.\n",
    "Lower Dimensionality: KNN is suited for lower dimensional data. You can try it on high dimensional data (hundreds or thousands of input variables) but be aware that it may not perform as well as other techniques. KNN can benefit from feature selection that reduces the dimensionality of the input feature space.\n",
    "\n",
    "\n",
    "Stochastic Gradient Descent Classifier\n",
    "This is applying gradient descent, but instead of processing all data points for each update of weights, it uses one data point to update the weights.  This saves time as the data set size increases, an improves the likelihood with fewer weight updates, but the weights can jump around a lot.\n",
    "https://www.coursera.org/learn/ml-classification/lecture/d4rdu/stochastic-gradient-learning-one-data-point-at-a-time\n",
    "\n",
    "\n",
    "Support Vector Machines\n",
    "http://machinelearningmastery.com/support-vector-machines-for-machine-learning/\n",
    "\n",
    "A tuning parameter is introduced called simply C that defines the magnitude of the wiggle allowed across all dimensions. The C parameters defines the amount of violation of the margin allowed. A C=0 is no violation and we are back to the inflexible Maximal-Margin Classifier described above. The larger the value of C the more violations of the hyperplane are permitted.\n",
    "\n",
    "Numerical Inputs: SVM assumes that your inputs are numeric. If you have categorical inputs you may need to covert them to binary dummy variables (one variable for each category).\n",
    "Binary Classification: Basic SVM as described in this post is intended for binary (two-class) classification problems. Although, extensions have been developed for regression and multi-class classification.\n",
    "\n",
    "It is important to note that the natural task for SVMs lies in binary classification. For classification tasks involving more than two groups, a common strategy is to use multiple binary classifiers to decide on a single­best class for new instances.\n",
    "\n",
    "\n",
    "https://www.quora.com/For-what-kind-of-classification-problems-is-SVM-a-bad-approach\n",
    "SVM doesn't work well if the data is skewed (more data points for one class and fewer for another). The features must be scaled properly, else this affects the results.  SVM training time increases with large data sets.\n",
    "http://www.sciencedirect.com/science/article/pii/S0925231207002962\n",
    "\n",
    "\n",
    "Looks like Microsoft's Azure page recommends SVM when there are over 100 features.\n",
    "https://docs.microsoft.com/en-us/azure/machine-learning/machine-learning-algorithm-cheat-sheet\n",
    "\n",
    "Logistic Regression\n",
    "This is like regression, but where the output is converted to a probability by scaling it to be between 0 and 1 (using a sigmoid function).  So logistic regression computes a score as a weighted sum of the input features, and that score is fed into the sigmoid function to get the probability.  If the probability is >0.50, we consider it a \"positive\" classification, and if < 0.50, it's a negative classification.  This works for a binary classification, where we have just two outcomes that we are predicting.  We use gradient ascent to find the weights that maximize the likelihood function, which is the product of all the probabilities that a classifier's prediction matches the actual class, given the input features.\n",
    "\n",
    "Note that for gradient ascent, each time that we update the weights to improve the model, we pass through the entire data set.  This will take a long time if we have a large data set.\n",
    "\n",
    "Logistic regression is simpler and trains faster than, for example, neural networks.\n",
    "\n",
    "\n",
    "https://www.coursera.org/learn/ml-classification/home/week/2"
   ]
  },
  {
   "cell_type": "code",
   "execution_count": null,
   "metadata": {
    "collapsed": true
   },
   "outputs": [],
   "source": []
  }
 ],
 "metadata": {
  "anaconda-cloud": {},
  "kernelspec": {
   "display_name": "Python [Root]",
   "language": "python",
   "name": "Python [Root]"
  },
  "language_info": {
   "codemirror_mode": {
    "name": "ipython",
    "version": 2
   },
   "file_extension": ".py",
   "mimetype": "text/x-python",
   "name": "python",
   "nbconvert_exporter": "python",
   "pygments_lexer": "ipython2",
   "version": "2.7.12"
  }
 },
 "nbformat": 4,
 "nbformat_minor": 0
}
