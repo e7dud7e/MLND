{
 "cells": [
  {
   "cell_type": "code",
   "execution_count": 1,
   "metadata": {
    "collapsed": true
   },
   "outputs": [],
   "source": [
    "#Imports\n",
    "import tensorflow as tf\n",
    "import csv\n",
    "from collections import OrderedDict\n",
    "import matplotlib\n",
    "import matplotlib.image as mpimg\n",
    "import matplotlib.pyplot as plt\n",
    "import numpy as np\n",
    "import glob\n",
    "import time\n",
    "import os\n",
    "from sklearn.preprocessing import StandardScaler\n",
    "from skimage.util import numpy_pad\n",
    "from skimage import transform\n",
    "from sklearn.model_selection import train_test_split\n",
    "import time\n",
    "import pickle\n",
    "import sys\n",
    "import six\n",
    "\n",
    "#for python 2 and 3 compatibility\n",
    "import future        # pip install future\n",
    "#import six           # pip install six\n",
    "from __future__ import print_function\n",
    "%matplotlib inline\n"
   ]
  },
  {
   "cell_type": "code",
   "execution_count": 2,
   "metadata": {},
   "outputs": [
    {
     "name": "stdout",
     "output_type": "stream",
     "text": [
      "Python 2.7.13\n",
      "TensorFlow Version: 1.2.1\n",
      "Default GPU Device: /gpu:0\n"
     ]
    }
   ],
   "source": [
    "## check tensorflow version and presence of gpu\n",
    "from distutils.version import LooseVersion\n",
    "import warnings\n",
    "import tensorflow as tf\n",
    "\n",
    "#Check python version\n",
    "assert sys.version_info[0] ==2 and sys.version_info[1]==7, \"Please use Python 2.7 (and not Python 3)\"\n",
    "print(\"Python {}.{}.{}\".format(sys.version_info[0],sys.version_info[1],sys.version_info[2]))\n",
    "\n",
    "# Check TensorFlow Version\n",
    "assert LooseVersion(tf.__version__) >= LooseVersion('1.0'), 'Please use TensorFlow version 1.0 or newer.  You are using {}'.format(tf.__version__)\n",
    "print('TensorFlow Version: {}'.format(tf.__version__))\n",
    "\n",
    "# Check for a GPU\n",
    "if not tf.test.gpu_device_name():\n",
    "    warnings.warn('No GPU found. Please use a GPU to train your neural network.')\n",
    "else:\n",
    "    print('Default GPU Device: {}'.format(tf.test.gpu_device_name()))\n",
    "\n"
   ]
  },
  {
   "cell_type": "markdown",
   "metadata": {},
   "source": [
    "All four files are binary and include a 512 byte header followed by the file's data. \n",
    "The header mostly contains technical scan parameters and is largely identical across all images. \n",
    "With the exception of the field 'data_scale_factor', we do not expect information from the header to be necessary or useful for the competition task. \n",
    "\n",
    "```\n",
    "File starts with 512 bytes (256 unint16) header, then the rest is unint16.\n",
    "Data file order: AYX (angle, vertical axis, horizontal axis)\n",
    "Axis Name, Stride, Number of samples, Axis Length\n",
    "XAxis, 1, Nx=512, Lx=1.0 meters\n",
    "YAxis, 512, Ny=660, Ly=2.0955 meters\n",
    "Angular, 337920, Na=16, La=360-degrees\n",
    "The data type of this file is 16bit unsigned integer.\n",
    "```"
   ]
  },
  {
   "cell_type": "markdown",
   "metadata": {},
   "source": [
    "## get image data"
   ]
  },
  {
   "cell_type": "code",
   "execution_count": 3,
   "metadata": {
    "collapsed": true
   },
   "outputs": [],
   "source": [
    "#I placed the data folder in the same directory as the notebook\n",
    "img_paths = glob.glob('./data/aps/*.aps')"
   ]
  },
  {
   "cell_type": "code",
   "execution_count": 4,
   "metadata": {
    "collapsed": true
   },
   "outputs": [],
   "source": [
    "def read_header(infile):\n",
    "    \"\"\"Read image header (first 512 bytes)\n",
    "    \"\"\"\n",
    "    h = dict()\n",
    "    try:\n",
    "        fid = open(infile, 'r+b')\n",
    "    except IOError:\n",
    "        return None\n",
    "        \n",
    "    h['filename'] = b''.join(np.fromfile(fid, dtype = 'S1', count = 20))\n",
    "    h['parent_filename'] = b''.join(np.fromfile(fid, dtype = 'S1', count = 20))\n",
    "    h['comments1'] = b''.join(np.fromfile(fid, dtype = 'S1', count = 80))\n",
    "    h['comments2'] = b''.join(np.fromfile(fid, dtype = 'S1', count = 80))\n",
    "    h['energy_type'] = np.fromfile(fid, dtype = np.int16, count = 1)\n",
    "    h['config_type'] = np.fromfile(fid, dtype = np.int16, count = 1)\n",
    "    h['file_type'] = np.fromfile(fid, dtype = np.int16, count = 1)\n",
    "    h['trans_type'] = np.fromfile(fid, dtype = np.int16, count = 1)\n",
    "    h['scan_type'] = np.fromfile(fid, dtype = np.int16, count = 1)\n",
    "    h['data_type'] = np.fromfile(fid, dtype = np.int16, count = 1)\n",
    "    h['date_modified'] = b''.join(np.fromfile(fid, dtype = 'S1', count = 16))\n",
    "    h['frequency'] = np.fromfile(fid, dtype = np.float32, count = 1)\n",
    "    h['mat_velocity'] = np.fromfile(fid, dtype = np.float32, count = 1)\n",
    "    h['num_pts'] = np.fromfile(fid, dtype = np.int32, count = 1)\n",
    "    h['num_polarization_channels'] = np.fromfile(fid, dtype = np.int16, count = 1)\n",
    "    h['spare00'] = np.fromfile(fid, dtype = np.int16, count = 1)\n",
    "    h['adc_min_voltage'] = np.fromfile(fid, dtype = np.float32, count = 1)\n",
    "    h['adc_max_voltage'] = np.fromfile(fid, dtype = np.float32, count = 1)\n",
    "    h['band_width'] = np.fromfile(fid, dtype = np.float32, count = 1)\n",
    "    h['spare01'] = np.fromfile(fid, dtype = np.int16, count = 5)\n",
    "    h['polarization_type'] = np.fromfile(fid, dtype = np.int16, count = 4)\n",
    "    h['record_header_size'] = np.fromfile(fid, dtype = np.int16, count = 1)\n",
    "    h['word_type'] = np.fromfile(fid, dtype = np.int16, count = 1)\n",
    "    h['word_precision'] = np.fromfile(fid, dtype = np.int16, count = 1)\n",
    "    h['min_data_value'] = np.fromfile(fid, dtype = np.float32, count = 1)\n",
    "    h['max_data_value'] = np.fromfile(fid, dtype = np.float32, count = 1)\n",
    "    h['avg_data_value'] = np.fromfile(fid, dtype = np.float32, count = 1)\n",
    "    h['data_scale_factor'] = np.fromfile(fid, dtype = np.float32, count = 1)\n",
    "    h['data_units'] = np.fromfile(fid, dtype = np.int16, count = 1)\n",
    "    h['surf_removal'] = np.fromfile(fid, dtype = np.uint16, count = 1)\n",
    "    h['edge_weighting'] = np.fromfile(fid, dtype = np.uint16, count = 1)\n",
    "    h['x_units'] = np.fromfile(fid, dtype = np.uint16, count = 1)\n",
    "    h['y_units'] = np.fromfile(fid, dtype = np.uint16, count = 1)\n",
    "    h['z_units'] = np.fromfile(fid, dtype = np.uint16, count = 1)\n",
    "    h['t_units'] = np.fromfile(fid, dtype = np.uint16, count = 1)\n",
    "    h['spare02'] = np.fromfile(fid, dtype = np.int16, count = 1)\n",
    "    h['x_return_speed'] = np.fromfile(fid, dtype = np.float32, count = 1)\n",
    "    h['y_return_speed'] = np.fromfile(fid, dtype = np.float32, count = 1)\n",
    "    h['z_return_speed'] = np.fromfile(fid, dtype = np.float32, count = 1)\n",
    "    h['scan_orientation'] = np.fromfile(fid, dtype = np.int16, count = 1)\n",
    "    h['scan_direction'] = np.fromfile(fid, dtype = np.int16, count = 1)\n",
    "    h['data_storage_order'] = np.fromfile(fid, dtype = np.int16, count = 1)\n",
    "    h['scanner_type'] = np.fromfile(fid, dtype = np.int16, count = 1)\n",
    "    h['x_inc'] = np.fromfile(fid, dtype = np.float32, count = 1)\n",
    "    h['y_inc'] = np.fromfile(fid, dtype = np.float32, count = 1)\n",
    "    h['z_inc'] = np.fromfile(fid, dtype = np.float32, count = 1)\n",
    "    h['t_inc'] = np.fromfile(fid, dtype = np.float32, count = 1)\n",
    "    h['num_x_pts'] = np.fromfile(fid, dtype = np.int32, count = 1)\n",
    "    h['num_y_pts'] = np.fromfile(fid, dtype = np.int32, count = 1)\n",
    "    h['num_z_pts'] = np.fromfile(fid, dtype = np.int32, count = 1)\n",
    "    h['num_t_pts'] = np.fromfile(fid, dtype = np.int32, count = 1)\n",
    "    h['x_speed'] = np.fromfile(fid, dtype = np.float32, count = 1)\n",
    "    h['y_speed'] = np.fromfile(fid, dtype = np.float32, count = 1)\n",
    "    h['z_speed'] = np.fromfile(fid, dtype = np.float32, count = 1)\n",
    "    h['x_acc'] = np.fromfile(fid, dtype = np.float32, count = 1)\n",
    "    h['y_acc'] = np.fromfile(fid, dtype = np.float32, count = 1)\n",
    "    h['z_acc'] = np.fromfile(fid, dtype = np.float32, count = 1)\n",
    "    h['x_motor_res'] = np.fromfile(fid, dtype = np.float32, count = 1)\n",
    "    h['y_motor_res'] = np.fromfile(fid, dtype = np.float32, count = 1)\n",
    "    h['z_motor_res'] = np.fromfile(fid, dtype = np.float32, count = 1)\n",
    "    h['x_encoder_res'] = np.fromfile(fid, dtype = np.float32, count = 1)\n",
    "    h['y_encoder_res'] = np.fromfile(fid, dtype = np.float32, count = 1)\n",
    "    h['z_encoder_res'] = np.fromfile(fid, dtype = np.float32, count = 1)\n",
    "    h['date_processed'] = b''.join(np.fromfile(fid, dtype = 'S1', count = 8))\n",
    "    h['time_processed'] = b''.join(np.fromfile(fid, dtype = 'S1', count = 8))\n",
    "    h['depth_recon'] = np.fromfile(fid, dtype = np.float32, count = 1)\n",
    "    h['x_max_travel'] = np.fromfile(fid, dtype = np.float32, count = 1)\n",
    "    h['y_max_travel'] = np.fromfile(fid, dtype = np.float32, count = 1)\n",
    "    h['elevation_offset_angle'] = np.fromfile(fid, dtype = np.float32, count = 1)\n",
    "    h['roll_offset_angle'] = np.fromfile(fid, dtype = np.float32, count = 1)\n",
    "    h['z_max_travel'] = np.fromfile(fid, dtype = np.float32, count = 1)\n",
    "    h['azimuth_offset_angle'] = np.fromfile(fid, dtype = np.float32, count = 1)\n",
    "    h['adc_type'] = np.fromfile(fid, dtype = np.int16, count = 1)\n",
    "    h['spare06'] = np.fromfile(fid, dtype = np.int16, count = 1)\n",
    "    h['scanner_radius'] = np.fromfile(fid, dtype = np.float32, count = 1)\n",
    "    h['x_offset'] = np.fromfile(fid, dtype = np.float32, count = 1)\n",
    "    h['y_offset'] = np.fromfile(fid, dtype = np.float32, count = 1)\n",
    "    h['z_offset'] = np.fromfile(fid, dtype = np.float32, count = 1)\n",
    "    h['t_delay'] = np.fromfile(fid, dtype = np.float32, count = 1)\n",
    "    h['range_gate_start'] = np.fromfile(fid, dtype = np.float32, count = 1)\n",
    "    h['range_gate_end'] = np.fromfile(fid, dtype = np.float32, count = 1)\n",
    "    h['ahis_software_version'] = np.fromfile(fid, dtype = np.float32, count = 1)\n",
    "    h['spare_end'] = np.fromfile(fid, dtype = np.float32, count = 10)\n",
    "    return h"
   ]
  },
  {
   "cell_type": "code",
   "execution_count": null,
   "metadata": {
    "collapsed": true
   },
   "outputs": [],
   "source": []
  },
  {
   "cell_type": "code",
   "execution_count": 5,
   "metadata": {
    "collapsed": true
   },
   "outputs": [],
   "source": [
    "def read_data(infile):\n",
    "    \"\"\"Read any of the 4 types of image files, returns a numpy array of the image contents\n",
    "    \"\"\"\n",
    "    extension = os.path.splitext(infile)[1]\n",
    "\n",
    "    h = read_header(infile)\n",
    "    if h == None:\n",
    "        return None\n",
    "    nx = int(h['num_x_pts'])\n",
    "    ny = int(h['num_y_pts'])\n",
    "    nt = int(h['num_t_pts'])\n",
    "    fid = open(infile, 'rb')\n",
    "    #if file doesn't exist, return None\n",
    "    try:\n",
    "        fid = open(infile, 'r+b')\n",
    "    except IOError:\n",
    "        return None\n",
    "    \n",
    "    fid.seek(512) #skip header\n",
    "    if extension == '.aps' or extension == '.a3daps':\n",
    "        if(h['word_type']==7): #float32\n",
    "            data = np.fromfile(fid, dtype = np.float32, count = nx * ny * nt)\n",
    "        elif(h['word_type']==4): #uint16\n",
    "            data = np.fromfile(fid, dtype = np.uint16, count = nx * ny * nt)\n",
    "        data = data * h['data_scale_factor'] #scaling factor\n",
    "        \"\"\"\n",
    "        nx, ny, nt, order F gives us 512 (width) x 660 (height) x 16 (angle)\n",
    "        then rotate that 90 degrees to make it 660 x 512 x 16\n",
    "        \n",
    "        #data = data.reshape(nx, ny, nt, order='F').copy() #make N-d image\n",
    "        #data = np.rot90(data,k=1)\n",
    "        \n",
    "        Other option, to get angle as the first dimension:\n",
    "        nt, ny, nx order C gives 16 x 660 x 512; it's upside down, so flip it\n",
    "        #data = data.reshape(nt, ny, nx, order='C').copy() #make N-d image\n",
    "        #data = np.flip(data,axis=1)\n",
    "        \"\"\"\n",
    "        data = data.reshape(nt, ny, nx, order='C').copy() #make N-d image\n",
    "        data = np.flip(data,axis=1)\n",
    "        \n",
    "    elif extension == '.a3d':\n",
    "        if(h['word_type']==7): #float32\n",
    "            data = np.fromfile(fid, dtype = np.float32, count = nx * ny * nt)\n",
    "        elif(h['word_type']==4): #uint16\n",
    "            data = np.fromfile(fid, dtype = np.uint16, count = nx * ny * nt)\n",
    "        data = data * h['data_scale_factor'] #scaling factor\n",
    "        data = data.reshape(nx, nt, ny, order='F').copy() #make N-d image\n",
    "    elif extension == '.ahi':\n",
    "        data = np.fromfile(fid, dtype = np.float32, count = 2* nx * ny * nt)\n",
    "        data = data.reshape(2, ny, nx, nt, order='F').copy()\n",
    "        real = data[0,:,:,:].copy()\n",
    "        imag = data[1,:,:,:].copy()\n",
    "    fid.close()\n",
    "    if extension != '.ahi':\n",
    "        return data\n",
    "    else:\n",
    "        return real, imag"
   ]
  },
  {
   "cell_type": "code",
   "execution_count": null,
   "metadata": {
    "collapsed": true
   },
   "outputs": [],
   "source": []
  },
  {
   "cell_type": "markdown",
   "metadata": {},
   "source": [
    "### pad image to make it square, then resize to match the required size of pre-trained network"
   ]
  },
  {
   "cell_type": "code",
   "execution_count": 6,
   "metadata": {
    "collapsed": true
   },
   "outputs": [],
   "source": [
    "def resize(img, height=224, width=224):\n",
    "    \"\"\"\n",
    "    img: original angle 16, height 660, width 512\n",
    "    height: desired height\n",
    "    width: desired width\n",
    "    \n",
    "    First pads the shorter side with zeros, then resizes the square image.\n",
    "    Since we pad with zeros, resize should be done before rescaling to between -0.5 and 0.5\n",
    "    return: square resized image (16 angles by 224 height by 224 width)\n",
    "    \"\"\"\n",
    "    angle, height0, width0 = img.shape\n",
    "    pad_angle = (0,0)\n",
    "    \n",
    "    if height0 == width0:\n",
    "        return img\n",
    "    elif height0 > width0:\n",
    "        pad_height = (0,0)\n",
    "        diff = height0-width0\n",
    "        pad_left = diff // 2\n",
    "        pad_right = diff - pad_left\n",
    "        pad_width = (pad_left,pad_right)\n",
    "        pad = (pad_angle, pad_height, pad_width)\n",
    "    else:\n",
    "        pad_width = (0,0)\n",
    "        diff = width0 - height0\n",
    "        pad_up = diff // 2\n",
    "        pad_down = diff - pad_up\n",
    "        pad_height = (pad_up,pad_down)\n",
    "        pad = (pad_angle, pad_height, pad_width)\n",
    "        \n",
    "    constant_values = ((0,0),(0,0),(0,0))\n",
    "    img_square = numpy_pad(img, pad_width=pad, mode='constant', constant_values=constant_values)\n",
    "    img_resized = transform.resize(img_square, (angle, 224, 224), mode='constant')\n",
    "    \n",
    "    #also duplicate to convert from single channel to rgb channel\n",
    "        \n",
    "    return img_resized"
   ]
  },
  {
   "cell_type": "code",
   "execution_count": 7,
   "metadata": {
    "collapsed": true
   },
   "outputs": [],
   "source": [
    "def rescale(img,out_left=0,out_right=1.0):\n",
    "    '''\n",
    "    img: angle x height x width\n",
    "    returns: image with min value set out_left and max to out_right\n",
    "    \n",
    "    Since we're feeding this into vgg, it expects values between 0 and 1,\n",
    "    and multiplies by 255.\n",
    "    '''\n",
    "    in_left = float(np.min(img))\n",
    "    in_right = float(np.max(img))\n",
    "    out_left = float(out_left)\n",
    "    out_right = float(out_right)\n",
    "    new_img = (img - in_left) * (out_right - out_left) / (in_right - in_left) + out_left\n",
    "    return new_img"
   ]
  },
  {
   "cell_type": "markdown",
   "metadata": {},
   "source": [
    "## select desired angles"
   ]
  },
  {
   "cell_type": "code",
   "execution_count": 8,
   "metadata": {
    "collapsed": true
   },
   "outputs": [],
   "source": [
    "\"\"\"\n",
    "For now, I will use all available angles, so I won't use these two functions\n",
    "\"\"\"\n",
    "def pick_angles(img, angles_bool=[True, False, False, True, True, True, False, False, True, False, False, True, True, True, False, False]):\n",
    "    \"\"\"\n",
    "    img: original image with 16 angles\n",
    "    angles: \n",
    "        0: front\n",
    "        3: front left\n",
    "        4: left\n",
    "        5: back left\n",
    "        8: back\n",
    "        11: back right\n",
    "        12: right\n",
    "        13: front right\n",
    "    \"\"\"\n",
    "    return img[angles_bool,:,:]\n",
    "\n",
    "def get_angles_bool(num_angles=16, angles = [0,3,4,5,8,11,12,13]):\n",
    "    \"\"\"\n",
    "    Calculate the boolean list once.\n",
    "    Then pass the angles_bool to pick_angles, to select the desired \n",
    "    angles from each image.\n",
    "    \"\"\"\n",
    "    angles_bool = [False] * num_angles\n",
    "    for ii in angles:\n",
    "        angles_bool[ii] = True\n",
    "        \n",
    "    return angles_bool"
   ]
  },
  {
   "cell_type": "markdown",
   "metadata": {},
   "source": [
    "### get path to image file and the value of its labels"
   ]
  },
  {
   "cell_type": "code",
   "execution_count": 9,
   "metadata": {
    "collapsed": true
   },
   "outputs": [],
   "source": [
    "def get_xy(labels_file='./data/labels/stage1_labels.csv', n_zones=17, pre_path='./data/aps/', file_ext='.aps'):\n",
    "    \"\"\"\n",
    "    One row for each unique file name; we'll see each file name\n",
    "    multiple times (17 times, one for each body region), so I'll use a dictionary\n",
    "\n",
    "    I'll have 17 columns, one for each region. It will either contain\n",
    "    0 or 1.\n",
    "\n",
    "    Note that it's not really one-hot encoding; I'll be predicting probabilities,\n",
    "    and each region should be independent of each other, so I have to be careful\n",
    "    about the activation function.  Softmax makes all outputs sum to 1.\n",
    "    If I use a linear activation, then it's more like logistic regression; it\n",
    "    should output a number between 0 and 1\n",
    "    \n",
    "    returns:\n",
    "    image_paths: list of paths to the image files\n",
    "    target_zone_arr: 2D np array of labels, each row is for one \n",
    "    \"\"\"\n",
    "    labels_d = OrderedDict()\n",
    "    with open(labels_file, 'rt') as csvfile:\n",
    "        reader = csv.reader(csvfile, delimiter=',')\n",
    "        header = next(reader)\n",
    "        for row in reader:\n",
    "            name_zone = row[0]\n",
    "            img_name, zone = name_zone.split('_')\n",
    "            if img_name in labels_d:\n",
    "                zone_prob = labels_d[img_name]\n",
    "            else:\n",
    "                zone_prob = np.zeros(n_zones, dtype=np.float32)\n",
    "                labels_d[img_name] = zone_prob\n",
    "            \"\"\"\n",
    "            zone looks like 'Zone13'; split it and convert number to int\n",
    "            zone_prob is a list of 17 elements, one for each body zone;\n",
    "            the values are the probabilities (0 or 1) that a threat exists on that region\n",
    "            \"\"\"\n",
    "            zone_int = int(zone.split('Zone')[1])\n",
    "            prob_int = int(row[1])\n",
    "            zone_prob[zone_int-1] = prob_int\n",
    "\n",
    "    \"\"\"\n",
    "    put the image file names into an ordered list\n",
    "    combine the zone and probabilities into an np array\n",
    "    \"\"\"\n",
    "    image_paths = []\n",
    "\n",
    "    #create a dummy row so that I can concatenate all rows\n",
    "    #since vgg returns codes that are ndarrays of float32, I'll make the targets also float32\n",
    "    target_zone_arr = np.zeros((1,n_zones), dtype=np.float32)\n",
    "    for img_name, target_zone in labels_d.items():\n",
    "        image_paths.append(pre_path + img_name + file_ext)\n",
    "        target_zone_arr = np.concatenate( [target_zone_arr,np.reshape(target_zone,(1,-1))], axis=0)\n",
    "    #remove the first dummy row\n",
    "    target_zone_arr = target_zone_arr[1:,:]\n",
    "    \n",
    "    #make sure the target_zone_arr is float32 and not float64\n",
    "    target_zone_arr = target_zone_arr.astype(np.float32)\n",
    "    return image_paths, target_zone_arr, labels_d"
   ]
  },
  {
   "cell_type": "code",
   "execution_count": 10,
   "metadata": {
    "collapsed": true
   },
   "outputs": [],
   "source": [
    "\"\"\"\n",
    "image_paths\n",
    "Get paths to the image files, \n",
    "Looks like: './data/aps/00360f79fd6e02781457eda48f85da90.aps'\n",
    "\n",
    "target_zone_arr\n",
    "Get 2D array of the target labels (rows are for each image, columns are for each of 17 angles)\n",
    "Looks like:\n",
    "array([ 0.,  0.,  0.,  0.,  0.,  0.,  0.,  0.,  0.,  0.,  0.,  0.,  0.,\n",
    "        1.,  0.,  0.,  0.])\n",
    "        \n",
    "labels_d\n",
    "Get an ordered dictionary (same order as the 2D numpy array of target labels)\n",
    "where key is the file name without the directory or the file extension; \n",
    "the value is the numpy array of the targets\n",
    "key: 00360f79fd6e02781457eda48f85da90\n",
    "value: array([ 0.,  0.,  0.,  0.,  0.,  0.,  0.,  0.,  0.,  0.,  0.,  0.,  0.,\n",
    "                      1.,  0.,  0.,  0.]))\n",
    "\n",
    "\"\"\"\n",
    "\n",
    "image_paths, target_zone_arr, labels_d = get_xy(labels_file='./data/labels/stage1_labels.csv', \n",
    "                                                n_zones=17, \n",
    "                                                pre_path='./data/aps/',\n",
    "                                                file_ext='.aps')"
   ]
  },
  {
   "cell_type": "markdown",
   "metadata": {},
   "source": [
    "## shuffle and split"
   ]
  },
  {
   "cell_type": "markdown",
   "metadata": {
    "collapsed": true
   },
   "source": [
    "\n",
    "Actually do this to the outputs of vgg network, not before\n",
    "\n",
    "```\n",
    "image_paths_train, image_paths_test, y_train, y_test, i_train, i_test = train_test_split(image_paths,\n",
    "                                                                                         target_zone_arr,\n",
    "                                                                                         range(len(image_paths)),\n",
    "                                                                                         test_size=0.20,\n",
    "                                                                                         random_state=0)\n",
    "```"
   ]
  },
  {
   "cell_type": "code",
   "execution_count": 11,
   "metadata": {
    "collapsed": true
   },
   "outputs": [],
   "source": [
    "VGG_HEIGHT = 224\n",
    "VGG_WIDTH = 224\n",
    "\n",
    "def yield_batch(img_paths, y, batch_size=10):\n",
    "    \"\"\"\n",
    "    Given the list of files (already split into training set, and randomized)\n",
    "    read in a batch of images and yield.\n",
    "    \n",
    "    returns:\n",
    "        x_batch: batch_size x angles (16) x height x width\n",
    "        y_batch: batch_size x num of regions (17)\n",
    "    \"\"\"\n",
    "    num_records = len(y)\n",
    "    img_l = []\n",
    "    y_l = []\n",
    "    b_ii = 1\n",
    "    \n",
    "    for ii in range(0, num_records):\n",
    "        img = read_data(img_paths[ii])\n",
    "        if img is None:\n",
    "            continue\n",
    "        #reshape to fit the size for pretrained model\n",
    "        img = resize(img,height=VGG_HEIGHT,width=VGG_WIDTH)\n",
    "        img = rescale(img)\n",
    "        img_l.append(img)\n",
    "        y_l.append(y[ii])\n",
    "        \n",
    "        '''\n",
    "        If we have a full batch, then yield batch\n",
    "        Or if we've seen all data points, yield what we have as the last batch\n",
    "        Also reset the image and y lists\n",
    "        '''\n",
    "        if (b_ii % batch_size == 0):\n",
    "            x_batch = np.array(img_l)\n",
    "            y_batch = np.array(y_l)\n",
    "            img_l = []\n",
    "            y_l = []\n",
    "            yield x_batch, y_batch\n",
    "        b_ii +=1 #count actual available images in batch\n",
    "        \n",
    "    #yield once more for anything left over that isn't a full batch\n",
    "    if len(img_l) > 0:\n",
    "        x_batch = np.array(img_l)\n",
    "        y_batch = np.array(y_l)\n",
    "        yield x_batch,y_batch"
   ]
  },
  {
   "cell_type": "markdown",
   "metadata": {
    "collapsed": true
   },
   "source": [
    "\n",
    "How to use the yield function: use a for loop (it's an iterator)\n",
    "\n",
    "\n",
    "```\n",
    "batch_i = 0\n",
    "for x_batch, y_batch in yield_batch(image_paths_test, y_test, batch_size=10):\n",
    "    print(batch_i)\n",
    "    print(x_batch.shape)\n",
    "    print(y_batch.shape)\n",
    "    batch_i +=1\n",
    "```"
   ]
  },
  {
   "cell_type": "markdown",
   "metadata": {},
   "source": [
    "## Explore images"
   ]
  },
  {
   "cell_type": "code",
   "execution_count": 19,
   "metadata": {
    "collapsed": true
   },
   "outputs": [],
   "source": [
    "x_batch, y_batch = next(yield_batch(image_paths_train, y_train, batch_size=10))"
   ]
  },
  {
   "cell_type": "code",
   "execution_count": 20,
   "metadata": {},
   "outputs": [
    {
     "data": {
      "text/plain": [
       "(10, 16, 224, 224)"
      ]
     },
     "execution_count": 20,
     "metadata": {},
     "output_type": "execute_result"
    }
   ],
   "source": [
    "x_batch.shape"
   ]
  },
  {
   "cell_type": "code",
   "execution_count": 21,
   "metadata": {},
   "outputs": [
    {
     "data": {
      "text/plain": [
       "(10, 17)"
      ]
     },
     "execution_count": 21,
     "metadata": {},
     "output_type": "execute_result"
    }
   ],
   "source": [
    "y_batch.shape"
   ]
  },
  {
   "cell_type": "code",
   "execution_count": 22,
   "metadata": {},
   "outputs": [
    {
     "data": {
      "image/png": "[encoded data removed]",
      "text/plain": [
       "<matplotlib.figure.Figure at 0x7f2c7c801b50>"
      ]
     },
     "metadata": {},
     "output_type": "display_data"
    }
   ],
   "source": [
    "plt.imshow(x_batch[0][14]);"
   ]
  },
  {
   "cell_type": "code",
   "execution_count": 12,
   "metadata": {
    "collapsed": true
   },
   "outputs": [],
   "source": [
    "def angle_1c_to_3c(x_batch,angle,height,width,out_channel=3):\n",
    "    \"\"\"\n",
    "    Each record in a batch includes all 16 angles; VGG will only look at one angle at a time\n",
    "    From a x_batch of shape \n",
    "    batch_size x angles x height x width\n",
    "\n",
    "    Choose a specific angle (0 to 15) and return\n",
    "    batch_size x height x width x 3 (for rgb)\n",
    "\n",
    "    x_batch: batch_size x angles (16) x height x width (1 channel)\n",
    "    angle: desired angle to take for all images in the batch\n",
    "    height: of in and out image\n",
    "    width; of in and out image\n",
    "    out_channel: take a 1 channel input and make it multiple channels (like 3 for red-green-blue)\n",
    "    \n",
    "    returns:\n",
    "        angle_batch_3c: batch_size x height x width x out_channel\n",
    "        \n",
    "    sample use:\n",
    "    angle_batch_3c = angle_1c_to_3c(x_batch,angle=14,height=VGG_HEIGHT,width=VGG_WIDTH,out_channel=3)\n",
    "    \"\"\"\n",
    "    angle_batch = x_batch[:,angle,:,:]\n",
    "    angle_batch_3c = None\n",
    "    for ii in range(angle_batch.shape[0]):\n",
    "        img1c = angle_batch[ii,:,:].reshape(VGG_HEIGHT,VGG_WIDTH,1)\n",
    "        img3c = np.concatenate([img1c,img1c,img1c],axis=2).reshape(1,VGG_HEIGHT,VGG_WIDTH,out_channel)\n",
    "        if angle_batch_3c is None:\n",
    "            angle_batch_3c = img3c\n",
    "        else:\n",
    "            angle_batch_3c = np.concatenate([angle_batch_3c, img3c])\n",
    "\n",
    "    return angle_batch_3c"
   ]
  },
  {
   "cell_type": "markdown",
   "metadata": {},
   "source": [
    "## Use VGG for transfer learning\n",
    "Clone the VGG repository in the same directory as the notebook\n",
    "Note that there is a bug in the direct tensorflow-vgg github, so it won't work if I clone from there\n",
    "```\n",
    "git clone https://github.com/machrisaa/tensorflow-vgg.git tensorflow_vgg\n",
    "```\n",
    "\n",
    "I can clone the udacity deep-learning library and then copy the deep-learning/transfer-learning/tensorflow_vgg\n",
    "folder to the same parent folder of this notebook, then it will work."
   ]
  },
  {
   "cell_type": "markdown",
   "metadata": {},
   "source": [
    "Need to install urllib3 package to use urllib\n",
    "\n",
    "python 2 uses urllib\n",
    "python 3 splits urllib into urllib.request and urllib.error\n",
    "\n",
    "Also install tqdm\n",
    "```\n",
    "conda install tqdm\n",
    "```"
   ]
  },
  {
   "cell_type": "code",
   "execution_count": 13,
   "metadata": {},
   "outputs": [
    {
     "name": "stdout",
     "output_type": "stream",
     "text": [
      "Parameter file already exists!\n"
     ]
    }
   ],
   "source": [
    "\"\"\"\n",
    "Download pre-trained weights and biases, found in vgg16.npy\n",
    "\"\"\"\n",
    "#from urllib.request import urlretrieve #for python 3\n",
    "from urllib import urlretrieve #for python 2\n",
    "from os.path import isfile, isdir\n",
    "from tqdm import tqdm\n",
    "\n",
    "\n",
    "vgg_dir = 'tensorflow_vgg/'\n",
    "# Make sure vgg exists\n",
    "if not isdir(vgg_dir):\n",
    "    raise Exception(\"VGG directory doesn't exist!\")\n",
    "\n",
    "class DLProgress(tqdm):\n",
    "    last_block = 0\n",
    "\n",
    "    def hook(self, block_num=1, block_size=1, total_size=None):\n",
    "        self.total = total_size\n",
    "        self.update((block_num - self.last_block) * block_size)\n",
    "        self.last_block = block_num\n",
    "\n",
    "if not isfile(vgg_dir + \"vgg16.npy\"):\n",
    "    with DLProgress(unit='B', unit_scale=True, miniters=1, desc='VGG16 Parameters') as pbar:\n",
    "        urlretrieve(\n",
    "            'https://s3.amazonaws.com/content.udacity-data.com/nd101/vgg16.npy',\n",
    "            vgg_dir + 'vgg16.npy',\n",
    "            pbar.hook)\n",
    "else:\n",
    "    print(\"Parameter file already exists!\")"
   ]
  },
  {
   "cell_type": "code",
   "execution_count": 14,
   "metadata": {
    "collapsed": true
   },
   "outputs": [],
   "source": [
    "from tensorflow_vgg import vgg16\n",
    "from tensorflow_vgg import utils\n",
    "import time\n",
    "def get_codes_vgg(image_paths, y, batch_size=10):\n",
    "    angles=16\n",
    "    codes_by_angle = [None] * angles #each element represents a specific angle (0 to 15), and is of size batch x h x w x depth (5th convolutional layer)\n",
    "    labels = []\n",
    "    batch = []\n",
    "    batch_i = 0\n",
    "    n_img = 0\n",
    "    tf.reset_default_graph()\n",
    "    start_time = time.time()\n",
    "    with tf.Session() as sess:\n",
    "        vgg = vgg16.Vgg16()\n",
    "        input_ = tf.placeholder(tf.float32, [None, 224, 224, 3])\n",
    "        with tf.name_scope(\"content_vgg\"):\n",
    "            vgg.build(input_)           \n",
    "            for x_batch, y_batch in yield_batch(image_paths, y, batch_size):\n",
    "                for angle in range(angles):\n",
    "                    #grab one angle for all batches, convert 1 channel to 3 channel images\n",
    "                    angle_batch_3c = angle_1c_to_3c(x_batch,angle=angle,height=VGG_HEIGHT,width=VGG_WIDTH)\n",
    "\n",
    "                    #conv5_3 layer is of size (batch, 14, 14, 512); pool5 i of size (batch, 7, 7, 512)\n",
    "                    #codes_batch is ndarray with float32 values\n",
    "                    feed_dict = {input_: angle_batch_3c}\n",
    "                    codes_batch = sess.run(vgg.conv5_3, feed_dict=feed_dict)\n",
    "\n",
    "                    if codes_by_angle[angle] is None:\n",
    "                        codes_by_angle[angle] = codes_batch\n",
    "                    else:\n",
    "                        codes_by_angle[angle] = np.concatenate((codes_by_angle[angle], codes_batch))\n",
    "\n",
    "                batch_i +=1\n",
    "                n_img += x_batch.shape[0]     \n",
    "                print(\"batch \", batch_i, \" image count \", n_img, \" elapsed time {:.2f} m\".format((time.time() - start_time)/60))\n",
    "\n",
    "    n_batch,height,width,channel = codes_by_angle[0].shape\n",
    "    codes_by_angle_arr = codes_by_angle[0].reshape(1,n_batch,height,width,channel)\n",
    "    for angle in range(1,angles):\n",
    "        codes_by_angle_arr = np.concatenate([codes_by_angle_arr, codes_by_angle[angle].reshape(1,n_batch,height,width,channel)])\n",
    "\n",
    "    \"\"\"\n",
    "    right now, angle is the outermost dimension (axis 0), and batch is axis 1\n",
    "    make the batch the outer-most dimension, followed by angle, height, width, depth\n",
    "    \"\"\"\n",
    "    codes_by_angle_arr = np.transpose(codes_by_angle_arr, axes=[1,0,2,3,4])\n",
    "    return codes_by_angle_arr"
   ]
  },
  {
   "cell_type": "code",
   "execution_count": 15,
   "metadata": {},
   "outputs": [
    {
     "name": "stdout",
     "output_type": "stream",
     "text": [
      "/home/edwardshyu/capstone/tensorflow_vgg/vgg16.npy\n",
      "npy file loaded\n",
      "build model started\n",
      "build model finished: 0s\n",
      "batch  1  image count  10  elapsed time 0.52 m\n",
      "batch  2  image count  20  elapsed time 0.69 m\n",
      "batch  3  image count  30  elapsed time 0.87 m\n",
      "batch  4  image count  40  elapsed time 1.05 m\n",
      "batch  5  image count  50  elapsed time 1.23 m\n",
      "batch  6  image count  60  elapsed time 1.40 m\n",
      "batch  7  image count  70  elapsed time 1.58 m\n",
      "batch  8  image count  80  elapsed time 1.75 m\n",
      "batch  9  image count  90  elapsed time 1.92 m\n",
      "batch  10  image count  100  elapsed time 2.09 m\n",
      "batch  11  image count  110  elapsed time 2.26 m\n",
      "batch  12  image count  120  elapsed time 2.44 m\n",
      "batch  13  image count  130  elapsed time 2.62 m\n",
      "batch  14  image count  140  elapsed time 2.79 m\n",
      "batch  15  image count  150  elapsed time 2.97 m\n",
      "batch  16  image count  160  elapsed time 3.15 m\n",
      "batch  17  image count  170  elapsed time 3.32 m\n",
      "batch  18  image count  180  elapsed time 3.50 m\n",
      "batch  19  image count  190  elapsed time 3.67 m\n",
      "batch  20  image count  200  elapsed time 3.85 m\n",
      "batch  21  image count  210  elapsed time 4.02 m\n",
      "batch  22  image count  220  elapsed time 4.20 m\n",
      "batch  23  image count  230  elapsed time 4.38 m\n",
      "batch  24  image count  240  elapsed time 4.56 m\n",
      "batch  25  image count  250  elapsed time 4.73 m\n",
      "batch  26  image count  260  elapsed time 4.92 m\n",
      "batch  27  image count  270  elapsed time 5.09 m\n",
      "batch  28  image count  280  elapsed time 5.27 m\n",
      "batch  29  image count  290  elapsed time 5.44 m\n",
      "batch  30  image count  300  elapsed time 5.62 m\n",
      "batch  31  image count  310  elapsed time 5.80 m\n",
      "batch  32  image count  320  elapsed time 5.98 m\n",
      "batch  33  image count  330  elapsed time 6.17 m\n",
      "batch  34  image count  340  elapsed time 6.35 m\n",
      "batch  35  image count  350  elapsed time 6.54 m\n",
      "batch  36  image count  360  elapsed time 6.71 m\n",
      "batch  37  image count  370  elapsed time 6.90 m\n",
      "batch  38  image count  380  elapsed time 7.09 m\n",
      "batch  39  image count  390  elapsed time 7.26 m\n",
      "batch  40  image count  400  elapsed time 7.45 m\n",
      "batch  41  image count  410  elapsed time 7.63 m\n",
      "batch  42  image count  420  elapsed time 7.82 m\n",
      "batch  43  image count  430  elapsed time 8.00 m\n",
      "batch  44  image count  440  elapsed time 8.19 m\n",
      "batch  45  image count  450  elapsed time 8.37 m\n",
      "batch  46  image count  460  elapsed time 8.56 m\n",
      "batch  47  image count  470  elapsed time 8.74 m\n",
      "batch  48  image count  480  elapsed time 8.92 m\n",
      "batch  49  image count  490  elapsed time 9.09 m\n",
      "batch  50  image count  500  elapsed time 9.27 m\n",
      "batch  51  image count  510  elapsed time 9.44 m\n",
      "batch  52  image count  520  elapsed time 9.64 m\n",
      "batch  53  image count  530  elapsed time 9.82 m\n",
      "batch  54  image count  540  elapsed time 10.02 m\n",
      "batch  55  image count  550  elapsed time 10.21 m\n",
      "batch  56  image count  560  elapsed time 10.40 m\n",
      "batch  57  image count  570  elapsed time 10.58 m\n",
      "batch  58  image count  580  elapsed time 10.78 m\n",
      "batch  59  image count  590  elapsed time 10.98 m\n",
      "batch  60  image count  600  elapsed time 11.17 m\n",
      "batch  61  image count  610  elapsed time 11.36 m\n",
      "batch  62  image count  620  elapsed time 11.54 m\n",
      "batch  63  image count  630  elapsed time 11.72 m\n",
      "batch  64  image count  640  elapsed time 11.91 m\n",
      "batch  65  image count  650  elapsed time 12.09 m\n",
      "batch  66  image count  660  elapsed time 12.27 m\n",
      "batch  67  image count  670  elapsed time 12.46 m\n",
      "batch  68  image count  680  elapsed time 12.64 m\n",
      "batch  69  image count  690  elapsed time 12.83 m\n",
      "batch  70  image count  700  elapsed time 13.00 m\n",
      "batch  71  image count  710  elapsed time 13.19 m\n",
      "batch  72  image count  720  elapsed time 13.38 m\n",
      "batch  73  image count  730  elapsed time 13.57 m\n",
      "batch  74  image count  740  elapsed time 13.76 m\n",
      "batch  75  image count  750  elapsed time 13.95 m\n",
      "batch  76  image count  760  elapsed time 14.15 m\n",
      "batch  77  image count  770  elapsed time 14.35 m\n",
      "batch  78  image count  780  elapsed time 14.56 m\n",
      "batch  79  image count  790  elapsed time 14.76 m\n",
      "batch  80  image count  800  elapsed time 14.94 m\n",
      "batch  81  image count  810  elapsed time 15.13 m\n",
      "batch  82  image count  820  elapsed time 15.32 m\n",
      "batch  83  image count  830  elapsed time 15.52 m\n",
      "batch  84  image count  840  elapsed time 15.72 m\n",
      "batch  85  image count  850  elapsed time 15.92 m\n",
      "batch  86  image count  860  elapsed time 16.12 m\n",
      "batch  87  image count  870  elapsed time 16.31 m\n",
      "batch  88  image count  880  elapsed time 16.51 m\n",
      "batch  89  image count  890  elapsed time 16.71 m\n",
      "batch  90  image count  900  elapsed time 16.91 m\n",
      "batch  91  image count  910  elapsed time 17.10 m\n",
      "batch  92  image count  920  elapsed time 17.30 m\n",
      "batch  93  image count  930  elapsed time 17.51 m\n",
      "batch  94  image count  940  elapsed time 17.73 m\n",
      "batch  95  image count  950  elapsed time 17.93 m\n",
      "batch  96  image count  960  elapsed time 18.15 m\n",
      "batch  97  image count  970  elapsed time 18.34 m\n",
      "batch  98  image count  980  elapsed time 18.55 m\n",
      "batch  99  image count  990  elapsed time 18.75 m\n",
      "batch  100  image count  1000  elapsed time 18.95 m\n",
      "batch  101  image count  1010  elapsed time 19.15 m\n",
      "batch  102  image count  1020  elapsed time 19.36 m\n",
      "batch  103  image count  1030  elapsed time 19.56 m\n",
      "batch  104  image count  1040  elapsed time 19.75 m\n",
      "batch  105  image count  1050  elapsed time 19.95 m\n",
      "batch  106  image count  1060  elapsed time 20.16 m\n",
      "batch  107  image count  1070  elapsed time 20.36 m\n",
      "batch  108  image count  1080  elapsed time 20.57 m\n",
      "batch  109  image count  1090  elapsed time 20.78 m\n",
      "batch  110  image count  1100  elapsed time 20.99 m\n",
      "batch  111  image count  1110  elapsed time 21.18 m\n",
      "batch  112  image count  1120  elapsed time 21.39 m\n",
      "batch  113  image count  1130  elapsed time 21.60 m\n",
      "batch  114  image count  1140  elapsed time 21.81 m\n",
      "batch  115  image count  1147  elapsed time 21.99 m\n"
     ]
    }
   ],
   "source": [
    "\"\"\"\n",
    "Run the entire data set (don't divide into train/test set yet) through vgg,\n",
    "get the output of conv5 layer (before pooling), and save to disk\n",
    "1147 total images\n",
    "\"\"\"\n",
    "codes_by_angle_arr = get_codes_vgg(image_paths, target_zone_arr, batch_size=10)\n",
    "\n",
    "# write codes to file\n",
    "with open('codes', 'w') as f:\n",
    "    codes_by_angle_arr.tofile(f)\n",
    "    \n",
    "with open('targets', 'w') as f:\n",
    "    target_zone_arr.tofile(f)"
   ]
  },
  {
   "cell_type": "markdown",
   "metadata": {},
   "source": [
    "# load output of pretrained network"
   ]
  },
  {
   "cell_type": "code",
   "execution_count": 26,
   "metadata": {
    "collapsed": true
   },
   "outputs": [],
   "source": [
    "del codes_by_angle_arr"
   ]
  },
  {
   "cell_type": "code",
   "execution_count": 27,
   "metadata": {
    "collapsed": true
   },
   "outputs": [],
   "source": [
    "del target_zone_arr"
   ]
  },
  {
   "cell_type": "code",
   "execution_count": 16,
   "metadata": {
    "collapsed": true
   },
   "outputs": [],
   "source": [
    "#angles x records x height x width x channel depth\n",
    "angles = 16\n",
    "n_obs = 1147\n",
    "height = 14\n",
    "width = 14\n",
    "depth = 512\n",
    "regions = 17\n",
    "\n",
    "with open('codes') as f:\n",
    "    codes = np.fromfile(f, dtype=np.float32)\n",
    "    \n",
    "with open('targets') as f:\n",
    "    targets = np.fromfile(f, dtype=np.float32)\n",
    "    \n",
    "codes = codes.reshape([n_obs,angles,height,width,depth])\n",
    "targets = targets.reshape([n_obs, regions])"
   ]
  },
  {
   "cell_type": "code",
   "execution_count": 24,
   "metadata": {},
   "outputs": [
    {
     "name": "stdout",
     "output_type": "stream",
     "text": [
      "codes shape (1147, 16, 14, 14, 512)\n",
      "targets shape (1147, 17)\n"
     ]
    }
   ],
   "source": [
    "\"\"\"\n",
    "codes dimensions are: batch x angles x height x width, x depth\n",
    "\"\"\"\n",
    "print(\"codes shape\", codes.shape)\n",
    "print(\"targets shape\", targets.shape)"
   ]
  },
  {
   "cell_type": "markdown",
   "metadata": {},
   "source": [
    "## split into training and validation data"
   ]
  },
  {
   "cell_type": "code",
   "execution_count": null,
   "metadata": {
    "collapsed": true
   },
   "outputs": [],
   "source": [
    "#split into training and validation data\n",
    "x_train, x_test, y_train, y_test, i_train, i_test = train_test_split(codes,\n",
    "                                                                     targets,\n",
    "                                                                     range(targets.shape[0]),\n",
    "                                                                     test_size=0.20,\n",
    "                                                                     random_state=0)\n",
    "\n",
    "half_len = len(y_test)//2\n",
    "x_valid, y_valid = x_test[:half_len], y_test[:half_len]\n",
    "x_test, y_test = x_test[:half_len], y_test[:half_len]\n",
    "\n",
    "print(\"Train shapes (x, y):\", train_x.shape, train_y.shape)\n",
    "print(\"Validation shapes (x, y):\", val_x.shape, val_y.shape)\n",
    "print(\"Test shapes (x, y):\", test_x.shape, test_y.shape)"
   ]
  },
  {
   "cell_type": "markdown",
   "metadata": {},
   "source": [
    "# Network components"
   ]
  },
  {
   "cell_type": "markdown",
   "metadata": {},
   "source": [
    "## Inputs"
   ]
  },
  {
   "cell_type": "code",
   "execution_count": 29,
   "metadata": {
    "collapsed": true
   },
   "outputs": [],
   "source": [
    "def get_inputs(codes_shape, targets_shape):\n",
    "    inputs_ = tf.placeholder(tf.float32,\n",
    "                             shape=[None, codes_shape[1], codes_shape[2], codes_shape[3], codes_shape[4]],\n",
    "                             name=\"inputs\")\n",
    "    targets_ = tf.placeholder(tf.float32,\n",
    "                              shape=[None, targets_shape[1]],\n",
    "                              name=\"targets\")\n",
    "    \n",
    "    return inputs_, targets_"
   ]
  },
  {
   "cell_type": "code",
   "execution_count": 28,
   "metadata": {
    "collapsed": true
   },
   "outputs": [],
   "source": [
    "def leaky_relu(x,alpha=0.2):\n",
    "    return tf.maximum(alpha * x, x)"
   ]
  },
  {
   "cell_type": "markdown",
   "metadata": {},
   "source": [
    "Tensorflow Padding\n",
    "\n",
    "SAME Padding, the output height and width are computed as:\n",
    "```\n",
    "out_height = ceil(float(in_height) / float(strides[1]))\n",
    "\n",
    "out_width = ceil(float(in_width) / float(strides[2]))\n",
    "```\n",
    "\n",
    "VALID Padding, the output height and width are computed as:\n",
    "\n",
    "```\n",
    "out_height = ceil(float(in_height - filter_height + 1) / float(strides[1]))\n",
    "\n",
    "out_width = ceil(float(in_width - filter_width + 1) / float(strides[2]))\n",
    "```"
   ]
  },
  {
   "cell_type": "markdown",
   "metadata": {},
   "source": [
    "## multi-view convolutions, re-using weights for all angles"
   ]
  },
  {
   "cell_type": "code",
   "execution_count": 44,
   "metadata": {
    "collapsed": true
   },
   "outputs": [],
   "source": [
    "def multiview_layers(views, keep_prob=0.5, is_training=True):\n",
    "    \"\"\"\n",
    "    views are inputs, with dimensions: batch x angles x width x height x channels\n",
    "    \n",
    "    \n",
    "    \"\"\"\n",
    "    n_views = views.get_shape().as_list()[1] \n",
    "\n",
    "    # transpose views : (NxVxWxHxC) -> (VxNxWxHxC)\n",
    "    views = tf.transpose(views, perm=[1, 0, 2, 3, 4])\n",
    "    \n",
    "    view_pool = []\n",
    "\n",
    "    for i in xrange(n_views):\n",
    "        reuse = (i != 0) #reuse is False for the 0th angle, and true for all remaining angles\n",
    "        view = tf.gather(views, i) # NxWxHxC\n",
    "        #view has height, width, channel of 14, 14, 512\n",
    "        with tf.variable_scope(name_or_scope='conv6', reuse=reuse) as scope:        \n",
    "            conv6 = tf.layers.conv2d(view, filters=512, kernel_size=3, strides=2, padding='same',name='conv6')\n",
    "            #conv6 has h,w,c of 7,7,512\n",
    "            bn6 = tf.layers.batch_normalization(conv6, training=is_training, name='bn6')\n",
    "            relu6 = leaky_relu(bn6, name='relu6')\n",
    "            drop6 = tf.nn.dropout(relu6, keep_prob=keep_prob, name='drop6')\n",
    "        #7 x 7 x 512\n",
    "        with tf.variable_scope(name_or_scope='conv7', reuse=reuse) as scope:\n",
    "            conv7 = tf.layers.conv2d(drop6, filters=1024, kernel_size=3, strides=1, padding='valid', name='conv7')\n",
    "            # (7 - 3 + 1) /1 = 5; so it's now 5 x 5 x 1024\n",
    "            bn7 = tf.layers.batch_normalization(conv7, training=is_training, name='bn7')\n",
    "            relu7 = leaky_relu(bn7, name='relu7')\n",
    "            drop7 = tf.nn.dropout(relu7, keep_prob=keep_prob, name='drop7')\n",
    "            \n",
    "        #shape is now 5 x 5 x 1024\n",
    "        '''\n",
    "        flatten last conv layer into 2D: batch x (width*height*channels)\n",
    "        '''\n",
    "        dim = np.prod(drop7.get_shape().as_list()[1:])\n",
    "        reshape = tf.reshape(relu7, [-1, dim])\n",
    "        view_pool.append(reshape)\n",
    "        \n",
    "    return view_pool"
   ]
  },
  {
   "cell_type": "code",
   "execution_count": 35,
   "metadata": {},
   "outputs": [],
   "source": [
    "def _view_pool(view_features, name='view_pool8'):\n",
    "    '''\n",
    "    Combines the list of view features using maximum, into one\n",
    "    \"view\" of the same dimensions as a single view.\n",
    "    \n",
    "    This adds an extra dimension in front of the other dimensions;\n",
    "    So when we use reduce max, this extra dimension disappears\n",
    "    and the result is a matrix with the same dimensions as\n",
    "    each of the view matrices, and is an aggregate (max) \n",
    "    of all of them;\n",
    "\n",
    "    It gets the 0th view outside of the loop just so it\n",
    "    has something to concatenate with the 1st view\n",
    "\n",
    "    gets the maximum for each index within the view\n",
    "    '''\n",
    "    vp = tf.expand_dims(view_features[0], 0) # eg. [100] -> [1, 100]\n",
    "    for v in view_features[1:]:\n",
    "        v = tf.expand_dims(v, 0)\n",
    "        vp = tf.concat([vp, v], 0)\n",
    "    print('vp before reducing:', vp.get_shape().as_list())\n",
    "    vp = tf.reduce_max(vp, [0], name=name)\n",
    "    return vp"
   ]
  },
  {
   "cell_type": "code",
   "execution_count": 41,
   "metadata": {
    "collapsed": true
   },
   "outputs": [],
   "source": [
    "def dense(view_pooled, keep_prob=0.5, is_training=True, n_targets=17):\n",
    "    dense9 = tf.layers.dense(view_pooled, units=4096, name='dense9')\n",
    "    bn9 = tf.layers.batch_normalization(dense9, training=is_training)\n",
    "    relu9 = leaky_relu(bn9)\n",
    "    drop9 = tf.nn.dropout(relu9, keep_prob=keep_prob)\n",
    "    \n",
    "    dense10 = tf.layers.dense(drop9, units=1024, name='dense9')\n",
    "    bn10 = tf.layers.batch_normalization(dense10, training=is_training)\n",
    "    relu10 = leaky_relu(bn10)\n",
    "    drop10 = tf.nn.dropout(relu10, keep_prob=keep_prob)\n",
    "    \n",
    "    '''\n",
    "    Output should have 17 units, one for each body region\n",
    "    Use sigmoid so that each unit ranges from 0 to 1, independently of the other units\n",
    "    '''\n",
    "    logits = tf.layers.dense(drop10, units=n_targets, name='logits')\n",
    "    output = tf.sigmoid(logits)\n",
    "    \n",
    "    return output"
   ]
  },
  {
   "cell_type": "code",
   "execution_count": 42,
   "metadata": {
    "collapsed": true
   },
   "outputs": [],
   "source": [
    "\"\"\"\n",
    "loss funcction, use reduce_mean (mean squared error)\n",
    "\"\"\"\n",
    "\n",
    "def loss(output, targets):\n",
    "    loss = tf.reduce_mean(tf.squared_difference(output, targets))\n",
    "    return loss"
   ]
  },
  {
   "cell_type": "code",
   "execution_count": 43,
   "metadata": {
    "collapsed": true
   },
   "outputs": [],
   "source": [
    "def optimizer(loss, learning_rate, beta1=0.5):\n",
    "    \"\"\"\n",
    "    param beta1: The exponential decay rate for the 1st moment in the optimizer\n",
    "    \"\"\"\n",
    "    opt = tf.train.AdamOptimizer(learning_rate, beta1=beta1).minimize(loss)\n",
    "    return opt"
   ]
  },
  {
   "cell_type": "code",
   "execution_count": null,
   "metadata": {
    "collapsed": true
   },
   "outputs": [],
   "source": []
  }
 ],
 "metadata": {
  "kernelspec": {
   "display_name": "Python 2",
   "language": "python",
   "name": "python2"
  },
  "language_info": {
   "codemirror_mode": {
    "name": "ipython",
    "version": 2
   },
   "file_extension": ".py",
   "mimetype": "text/x-python",
   "name": "python",
   "nbconvert_exporter": "python",
   "pygments_lexer": "ipython2",
   "version": "2.7.13"
  }
 },
 "nbformat": 4,
 "nbformat_minor": 1
}
