{
 "cells": [
  {
   "cell_type": "code",
   "execution_count": 1,
   "metadata": {
    "collapsed": true
   },
   "outputs": [],
   "source": [
    "#Imports\n",
    "import tensorflow as tf\n",
    "import csv\n",
    "from collections import OrderedDict\n",
    "import matplotlib\n",
    "import matplotlib.image as mpimg\n",
    "import matplotlib.pyplot as plt\n",
    "import numpy as np\n",
    "import glob\n",
    "import time\n",
    "import os\n",
    "from sklearn.preprocessing import StandardScaler\n",
    "from skimage.util import numpy_pad\n",
    "from skimage import transform\n",
    "from sklearn.model_selection import train_test_split\n",
    "import time\n",
    "import pickle\n",
    "import sys\n",
    "import six\n",
    "%matplotlib inline\n"
   ]
  },
  {
   "cell_type": "code",
   "execution_count": 3,
   "metadata": {
    "collapsed": false
   },
   "outputs": [],
   "source": [
    "#for python 2 and 3 compatibility\n",
    "import future        # pip install future\n",
    "#import six           # pip install six\n",
    "from __future__ import print_function"
   ]
  },
  {
   "cell_type": "code",
   "execution_count": 5,
   "metadata": {
    "collapsed": false
   },
   "outputs": [
    {
     "name": "stdout",
     "output_type": "stream",
     "text": [
      "sys.version_info(major=2, minor=7, micro=13, releaselevel='final', serial=0)\n",
      "1.0.0\n"
     ]
    }
   ],
   "source": [
    "#verify python version and tensorflow version\n",
    "print(sys.version_info)\n",
    "print(tf.__version__)"
   ]
  },
  {
   "cell_type": "markdown",
   "metadata": {},
   "source": [
    "All four files are binary and include a 512 byte header followed by the file's data. \n",
    "The header mostly contains technical scan parameters and is largely identical across all images. \n",
    "With the exception of the field 'data_scale_factor', we do not expect information from the header to be necessary or useful for the competition task. \n",
    "\n",
    "```\n",
    "File starts with 512 bytes (256 unint16) header, then the rest is unint16.\n",
    "Data file order: AYX (angle, vertical axis, horizontal axis)\n",
    "Axis Name, Stride, Number of samples, Axis Length\n",
    "XAxis, 1, Nx=512, Lx=1.0 meters\n",
    "YAxis, 512, Ny=660, Ly=2.0955 meters\n",
    "Angular, 337920, Na=16, La=360-degrees\n",
    "The data type of this file is 16bit unsigned integer.\n",
    "```"
   ]
  },
  {
   "cell_type": "markdown",
   "metadata": {},
   "source": [
    "## get image data"
   ]
  },
  {
   "cell_type": "code",
   "execution_count": 7,
   "metadata": {
    "collapsed": true
   },
   "outputs": [],
   "source": [
    "img_paths = glob.glob('./aps/*.aps')\n",
    "def read_header(infile):\n",
    "    \"\"\"Read image header (first 512 bytes)\n",
    "    \"\"\"\n",
    "    h = dict()\n",
    "    try:\n",
    "        fid = open(infile, 'r+b')\n",
    "    except IOError:\n",
    "        return None\n",
    "        \n",
    "    h['filename'] = b''.join(np.fromfile(fid, dtype = 'S1', count = 20))\n",
    "    h['parent_filename'] = b''.join(np.fromfile(fid, dtype = 'S1', count = 20))\n",
    "    h['comments1'] = b''.join(np.fromfile(fid, dtype = 'S1', count = 80))\n",
    "    h['comments2'] = b''.join(np.fromfile(fid, dtype = 'S1', count = 80))\n",
    "    h['energy_type'] = np.fromfile(fid, dtype = np.int16, count = 1)\n",
    "    h['config_type'] = np.fromfile(fid, dtype = np.int16, count = 1)\n",
    "    h['file_type'] = np.fromfile(fid, dtype = np.int16, count = 1)\n",
    "    h['trans_type'] = np.fromfile(fid, dtype = np.int16, count = 1)\n",
    "    h['scan_type'] = np.fromfile(fid, dtype = np.int16, count = 1)\n",
    "    h['data_type'] = np.fromfile(fid, dtype = np.int16, count = 1)\n",
    "    h['date_modified'] = b''.join(np.fromfile(fid, dtype = 'S1', count = 16))\n",
    "    h['frequency'] = np.fromfile(fid, dtype = np.float32, count = 1)\n",
    "    h['mat_velocity'] = np.fromfile(fid, dtype = np.float32, count = 1)\n",
    "    h['num_pts'] = np.fromfile(fid, dtype = np.int32, count = 1)\n",
    "    h['num_polarization_channels'] = np.fromfile(fid, dtype = np.int16, count = 1)\n",
    "    h['spare00'] = np.fromfile(fid, dtype = np.int16, count = 1)\n",
    "    h['adc_min_voltage'] = np.fromfile(fid, dtype = np.float32, count = 1)\n",
    "    h['adc_max_voltage'] = np.fromfile(fid, dtype = np.float32, count = 1)\n",
    "    h['band_width'] = np.fromfile(fid, dtype = np.float32, count = 1)\n",
    "    h['spare01'] = np.fromfile(fid, dtype = np.int16, count = 5)\n",
    "    h['polarization_type'] = np.fromfile(fid, dtype = np.int16, count = 4)\n",
    "    h['record_header_size'] = np.fromfile(fid, dtype = np.int16, count = 1)\n",
    "    h['word_type'] = np.fromfile(fid, dtype = np.int16, count = 1)\n",
    "    h['word_precision'] = np.fromfile(fid, dtype = np.int16, count = 1)\n",
    "    h['min_data_value'] = np.fromfile(fid, dtype = np.float32, count = 1)\n",
    "    h['max_data_value'] = np.fromfile(fid, dtype = np.float32, count = 1)\n",
    "    h['avg_data_value'] = np.fromfile(fid, dtype = np.float32, count = 1)\n",
    "    h['data_scale_factor'] = np.fromfile(fid, dtype = np.float32, count = 1)\n",
    "    h['data_units'] = np.fromfile(fid, dtype = np.int16, count = 1)\n",
    "    h['surf_removal'] = np.fromfile(fid, dtype = np.uint16, count = 1)\n",
    "    h['edge_weighting'] = np.fromfile(fid, dtype = np.uint16, count = 1)\n",
    "    h['x_units'] = np.fromfile(fid, dtype = np.uint16, count = 1)\n",
    "    h['y_units'] = np.fromfile(fid, dtype = np.uint16, count = 1)\n",
    "    h['z_units'] = np.fromfile(fid, dtype = np.uint16, count = 1)\n",
    "    h['t_units'] = np.fromfile(fid, dtype = np.uint16, count = 1)\n",
    "    h['spare02'] = np.fromfile(fid, dtype = np.int16, count = 1)\n",
    "    h['x_return_speed'] = np.fromfile(fid, dtype = np.float32, count = 1)\n",
    "    h['y_return_speed'] = np.fromfile(fid, dtype = np.float32, count = 1)\n",
    "    h['z_return_speed'] = np.fromfile(fid, dtype = np.float32, count = 1)\n",
    "    h['scan_orientation'] = np.fromfile(fid, dtype = np.int16, count = 1)\n",
    "    h['scan_direction'] = np.fromfile(fid, dtype = np.int16, count = 1)\n",
    "    h['data_storage_order'] = np.fromfile(fid, dtype = np.int16, count = 1)\n",
    "    h['scanner_type'] = np.fromfile(fid, dtype = np.int16, count = 1)\n",
    "    h['x_inc'] = np.fromfile(fid, dtype = np.float32, count = 1)\n",
    "    h['y_inc'] = np.fromfile(fid, dtype = np.float32, count = 1)\n",
    "    h['z_inc'] = np.fromfile(fid, dtype = np.float32, count = 1)\n",
    "    h['t_inc'] = np.fromfile(fid, dtype = np.float32, count = 1)\n",
    "    h['num_x_pts'] = np.fromfile(fid, dtype = np.int32, count = 1)\n",
    "    h['num_y_pts'] = np.fromfile(fid, dtype = np.int32, count = 1)\n",
    "    h['num_z_pts'] = np.fromfile(fid, dtype = np.int32, count = 1)\n",
    "    h['num_t_pts'] = np.fromfile(fid, dtype = np.int32, count = 1)\n",
    "    h['x_speed'] = np.fromfile(fid, dtype = np.float32, count = 1)\n",
    "    h['y_speed'] = np.fromfile(fid, dtype = np.float32, count = 1)\n",
    "    h['z_speed'] = np.fromfile(fid, dtype = np.float32, count = 1)\n",
    "    h['x_acc'] = np.fromfile(fid, dtype = np.float32, count = 1)\n",
    "    h['y_acc'] = np.fromfile(fid, dtype = np.float32, count = 1)\n",
    "    h['z_acc'] = np.fromfile(fid, dtype = np.float32, count = 1)\n",
    "    h['x_motor_res'] = np.fromfile(fid, dtype = np.float32, count = 1)\n",
    "    h['y_motor_res'] = np.fromfile(fid, dtype = np.float32, count = 1)\n",
    "    h['z_motor_res'] = np.fromfile(fid, dtype = np.float32, count = 1)\n",
    "    h['x_encoder_res'] = np.fromfile(fid, dtype = np.float32, count = 1)\n",
    "    h['y_encoder_res'] = np.fromfile(fid, dtype = np.float32, count = 1)\n",
    "    h['z_encoder_res'] = np.fromfile(fid, dtype = np.float32, count = 1)\n",
    "    h['date_processed'] = b''.join(np.fromfile(fid, dtype = 'S1', count = 8))\n",
    "    h['time_processed'] = b''.join(np.fromfile(fid, dtype = 'S1', count = 8))\n",
    "    h['depth_recon'] = np.fromfile(fid, dtype = np.float32, count = 1)\n",
    "    h['x_max_travel'] = np.fromfile(fid, dtype = np.float32, count = 1)\n",
    "    h['y_max_travel'] = np.fromfile(fid, dtype = np.float32, count = 1)\n",
    "    h['elevation_offset_angle'] = np.fromfile(fid, dtype = np.float32, count = 1)\n",
    "    h['roll_offset_angle'] = np.fromfile(fid, dtype = np.float32, count = 1)\n",
    "    h['z_max_travel'] = np.fromfile(fid, dtype = np.float32, count = 1)\n",
    "    h['azimuth_offset_angle'] = np.fromfile(fid, dtype = np.float32, count = 1)\n",
    "    h['adc_type'] = np.fromfile(fid, dtype = np.int16, count = 1)\n",
    "    h['spare06'] = np.fromfile(fid, dtype = np.int16, count = 1)\n",
    "    h['scanner_radius'] = np.fromfile(fid, dtype = np.float32, count = 1)\n",
    "    h['x_offset'] = np.fromfile(fid, dtype = np.float32, count = 1)\n",
    "    h['y_offset'] = np.fromfile(fid, dtype = np.float32, count = 1)\n",
    "    h['z_offset'] = np.fromfile(fid, dtype = np.float32, count = 1)\n",
    "    h['t_delay'] = np.fromfile(fid, dtype = np.float32, count = 1)\n",
    "    h['range_gate_start'] = np.fromfile(fid, dtype = np.float32, count = 1)\n",
    "    h['range_gate_end'] = np.fromfile(fid, dtype = np.float32, count = 1)\n",
    "    h['ahis_software_version'] = np.fromfile(fid, dtype = np.float32, count = 1)\n",
    "    h['spare_end'] = np.fromfile(fid, dtype = np.float32, count = 10)\n",
    "    return h"
   ]
  },
  {
   "cell_type": "code",
   "execution_count": 21,
   "metadata": {
    "collapsed": true
   },
   "outputs": [],
   "source": [
    "def read_data(infile):\n",
    "    \"\"\"Read any of the 4 types of image files, returns a numpy array of the image contents\n",
    "    \"\"\"\n",
    "    extension = os.path.splitext(infile)[1]\n",
    "\n",
    "    h = read_header(infile)\n",
    "    if h == None:\n",
    "        return None\n",
    "    nx = int(h['num_x_pts'])\n",
    "    ny = int(h['num_y_pts'])\n",
    "    nt = int(h['num_t_pts'])\n",
    "    fid = open(infile, 'rb')\n",
    "    #if file doesn't exist, return None\n",
    "    try:\n",
    "        fid = open(infile, 'r+b')\n",
    "    except IOError:\n",
    "        return None\n",
    "    \n",
    "    fid.seek(512) #skip header\n",
    "    if extension == '.aps' or extension == '.a3daps':\n",
    "        if(h['word_type']==7): #float32\n",
    "            data = np.fromfile(fid, dtype = np.float32, count = nx * ny * nt)\n",
    "        elif(h['word_type']==4): #uint16\n",
    "            data = np.fromfile(fid, dtype = np.uint16, count = nx * ny * nt)\n",
    "        data = data * h['data_scale_factor'] #scaling factor\n",
    "        \"\"\"\n",
    "        nx, ny, nt, order F gives us 512 (width) x 660 (height) x 16 (angle)\n",
    "        then rotate that 90 degrees to make it 660 x 512 x 16\n",
    "        \n",
    "        #data = data.reshape(nx, ny, nt, order='F').copy() #make N-d image\n",
    "        #data = np.rot90(data,k=1)\n",
    "        \n",
    "        Other option, to get angle as the first dimension:\n",
    "        nt, ny, nx order C gives 16 x 660 x 512; it's upside down, so flip it\n",
    "        #data = data.reshape(nt, ny, nx, order='C').copy() #make N-d image\n",
    "        #data = np.flip(data,axis=1)\n",
    "        \"\"\"\n",
    "        data = data.reshape(nt, ny, nx, order='C').copy() #make N-d image\n",
    "        data = np.flip(data,axis=1)\n",
    "        \n",
    "    elif extension == '.a3d':\n",
    "        if(h['word_type']==7): #float32\n",
    "            data = np.fromfile(fid, dtype = np.float32, count = nx * ny * nt)\n",
    "        elif(h['word_type']==4): #uint16\n",
    "            data = np.fromfile(fid, dtype = np.uint16, count = nx * ny * nt)\n",
    "        data = data * h['data_scale_factor'] #scaling factor\n",
    "        data = data.reshape(nx, nt, ny, order='F').copy() #make N-d image\n",
    "    elif extension == '.ahi':\n",
    "        data = np.fromfile(fid, dtype = np.float32, count = 2* nx * ny * nt)\n",
    "        data = data.reshape(2, ny, nx, nt, order='F').copy()\n",
    "        real = data[0,:,:,:].copy()\n",
    "        imag = data[1,:,:,:].copy()\n",
    "    fid.close()\n",
    "    if extension != '.ahi':\n",
    "        return data\n",
    "    else:\n",
    "        return real, imag"
   ]
  },
  {
   "cell_type": "markdown",
   "metadata": {},
   "source": [
    "### pad image to make it square, then resize to match the required size of pre-trained network"
   ]
  },
  {
   "cell_type": "code",
   "execution_count": 8,
   "metadata": {
    "collapsed": true
   },
   "outputs": [],
   "source": [
    "def resize(img, height=224, width=224):\n",
    "    \"\"\"\n",
    "    img: original angle 16, height 660, width 512\n",
    "    height: desired height\n",
    "    width: desired width\n",
    "    \n",
    "    First pads the shorter side with zeros, then resizes the square image.\n",
    "    Since we pad with zeros, resize should be done before rescaling to between -0.5 and 0.5\n",
    "    return: square resized image (16 angles by 224 height by 224 width)\n",
    "    \"\"\"\n",
    "    angle, height0, width0 = img.shape\n",
    "    pad_angle = (0,0)\n",
    "    \n",
    "    if height0 == width0:\n",
    "        return img\n",
    "    elif height0 > width0:\n",
    "        pad_height = (0,0)\n",
    "        diff = height0-width0\n",
    "        pad_left = diff // 2\n",
    "        pad_right = diff - pad_left\n",
    "        pad_width = (pad_left,pad_right)\n",
    "        pad = (pad_angle, pad_height, pad_width)\n",
    "    else:\n",
    "        pad_width = (0,0)\n",
    "        diff = width0 - height0\n",
    "        pad_up = diff // 2\n",
    "        pad_down = diff - pad_up\n",
    "        pad_height = (pad_up,pad_down)\n",
    "        pad = (pad_angle, pad_height, pad_width)\n",
    "        \n",
    "    constant_values = ((0,0),(0,0),(0,0))\n",
    "    img_square = numpy_pad(img, pad_width=pad, mode='constant', constant_values=constant_values)\n",
    "    img_resized = transform.resize(img_square, (angle, 224, 224), mode='constant')\n",
    "    \n",
    "    #also duplicate to convert from single channel to rgb channel\n",
    "        \n",
    "    return img_resized"
   ]
  },
  {
   "cell_type": "code",
   "execution_count": 9,
   "metadata": {
    "collapsed": true
   },
   "outputs": [],
   "source": [
    "def rescale(img,out_left=0,out_right=1.0):\n",
    "    '''\n",
    "    img: angle x height x width\n",
    "    returns: image with min value set out_left and max to out_right\n",
    "    \n",
    "    Since we're feeding this into vgg, it expects values between 0 and 1,\n",
    "    and multiplies by 255.\n",
    "    '''\n",
    "    in_left = float(np.min(img))\n",
    "    in_right = float(np.max(img))\n",
    "    out_left = float(out_left)\n",
    "    out_right = float(out_right)\n",
    "    new_img = (img - in_left) * (out_right - out_left) / (in_right - in_left) + out_left\n",
    "    return new_img"
   ]
  },
  {
   "cell_type": "markdown",
   "metadata": {},
   "source": [
    "## select desired angles"
   ]
  },
  {
   "cell_type": "code",
   "execution_count": 11,
   "metadata": {
    "collapsed": true
   },
   "outputs": [],
   "source": [
    "def pick_angles(img, angles_bool=[True, False, False, True, True, True, False, False, True, False, False, True, True, True, False, False]):\n",
    "    \"\"\"\n",
    "    img: original image with 16 angles\n",
    "    angles: \n",
    "        0: front\n",
    "        3: front left\n",
    "        4: left\n",
    "        5: back left\n",
    "        8: back\n",
    "        11: back right\n",
    "        12: right\n",
    "        13: front right\n",
    "    \"\"\"\n",
    "    return img[angles_bool,:,:]\n",
    "\n",
    "def get_angles_bool(num_angles=16, angles = [0,3,4,5,8,11,12,13]):\n",
    "    \"\"\"\n",
    "    Calculate the boolean list once.\n",
    "    Then pass the angles_bool to pick_angles, to select the desired \n",
    "    angles from each image.\n",
    "    \"\"\"\n",
    "    angles_bool = [False] * num_angles\n",
    "    for ii in angles:\n",
    "        angles_bool[ii] = True\n",
    "        \n",
    "    return angles_bool"
   ]
  },
  {
   "cell_type": "markdown",
   "metadata": {},
   "source": [
    "### get path to image file and the value of its labels"
   ]
  },
  {
   "cell_type": "code",
   "execution_count": 48,
   "metadata": {
    "collapsed": true
   },
   "outputs": [],
   "source": [
    "def get_xy(labels_file='./stage1_labels.csv', n_zones=17, pre_path='./aps/', file_ext='.aps'):\n",
    "    \"\"\"\n",
    "    One row for each unique file name; we'll see each file name\n",
    "    multiple times (17 times), so I may want to use a dictionary\n",
    "\n",
    "    I'll have 17 columns, one for each region. It will either contain\n",
    "    0 or 1.\n",
    "\n",
    "    Note that it's not really one-hot encoding; I'll be predicting probabilities,\n",
    "    and each region should be independent of each other, so I have to be careful\n",
    "    about the activation function.  Softmax makes all outputs sum to 1.\n",
    "    If I use a linear activation, then it's more like logistic regression; it\n",
    "    should output a number between 0 and 1\n",
    "    \n",
    "    returns:\n",
    "    image_paths: list of paths to the image files\n",
    "    target_zone_arr: 2D np array of labels, each row is for one \n",
    "    \"\"\"\n",
    "    labels_d = OrderedDict()\n",
    "    with open(labels_file, 'rt') as csvfile:\n",
    "        reader = csv.reader(csvfile, delimiter=',')\n",
    "        header = next(reader)\n",
    "        for row in reader:\n",
    "            name_zone = row[0]\n",
    "\n",
    "            img_name, zone = name_zone.split('_')\n",
    "            if img_name in labels_d:\n",
    "                zone_prob = labels_d[img_name]\n",
    "            else:\n",
    "                zone_prob = np.zeros(n_zones)\n",
    "                labels_d[img_name] = zone_prob\n",
    "            \"\"\"\n",
    "            zone looks like 'Zone13'; split it and convert number to int\n",
    "            \"\"\"\n",
    "            zone_int = int(zone.split('Zone')[1])\n",
    "            prob_int = int(row[1])\n",
    "            zone_prob[zone_int-1] = prob_int\n",
    "\n",
    "    \"\"\"\n",
    "    put the image file names into an ordered list\n",
    "    combine the zone and probabilities into an np array\n",
    "    \"\"\"\n",
    "    image_paths = []\n",
    "\n",
    "    #create a dummy row so that I can concatenate all rows\n",
    "    target_zone_arr = np.zeros((1,n_zones))\n",
    "    for img_name, target_zone in labels_d.items():\n",
    "        image_paths.append(pre_path + img_name + file_ext)\n",
    "        target_zone_arr = np.concatenate( [target_zone_arr,np.reshape(target_zone,(1,-1))], axis=0)\n",
    "    #remove the first dummy row\n",
    "    target_zone_arr = target_zone_arr[1:,:]\n",
    "    \n",
    "    return image_paths, target_zone_arr, labels_d"
   ]
  },
  {
   "cell_type": "code",
   "execution_count": 49,
   "metadata": {
    "collapsed": false
   },
   "outputs": [],
   "source": [
    "image_paths, target_zone_arr, labels_d = get_xy(labels_file='./stage1_labels.csv', n_zones=17, pre_path='./aps/', file_ext='.aps')"
   ]
  },
  {
   "cell_type": "markdown",
   "metadata": {},
   "source": [
    "## shuffle and split"
   ]
  },
  {
   "cell_type": "code",
   "execution_count": 53,
   "metadata": {
    "collapsed": false
   },
   "outputs": [],
   "source": [
    "image_paths_train, image_paths_test, y_train, y_test, i_train, i_test = train_test_split(image_paths, target_zone_arr, range(len(image_paths)), test_size=0.20, random_state=0)"
   ]
  },
  {
   "cell_type": "code",
   "execution_count": 64,
   "metadata": {
    "collapsed": true
   },
   "outputs": [],
   "source": [
    "VGG_HEIGHT = 224\n",
    "VGG_WIDTH = 224\n",
    "\n",
    "def yield_batch(img_paths, y, batch_size=10):\n",
    "    \"\"\"\n",
    "    Given the list of files (already split into training set, and randomized)\n",
    "    read in a batch of images and yield.\n",
    "    \"\"\"\n",
    "    num_records = len(y)\n",
    "    img_l = []\n",
    "    y_l = []\n",
    "    b_ii = 1\n",
    "    \n",
    "    for ii in range(0, num_records):\n",
    "        img = read_data(img_paths[ii])\n",
    "        if img is None:\n",
    "            continue\n",
    "        #reshape to fit the size for pretrained model\n",
    "        img = resize(img,height=VGG_HEIGHT,width=VGG_WIDTH)\n",
    "        img = rescale(img)\n",
    "        img_l.append(img)\n",
    "        y_l.append(y[ii])\n",
    "        \n",
    "        '''\n",
    "        If we have a full batch, then yield batch\n",
    "        Or if we've seen all data points, yield what we have as the last batch\n",
    "        Also reset the image and y lists\n",
    "        '''\n",
    "        if (b_ii % batch_size == 0):\n",
    "            x_batch = np.array(img_l)\n",
    "            y_batch = np.array(y_l)\n",
    "            img_l = []\n",
    "            y_l = []\n",
    "            yield x_batch, y_batch\n",
    "        b_ii +=1 #count actual available images in batch\n",
    "        \n",
    "    #yield once more for anything left over that isn't a full batch\n",
    "    if len(img_l) > 0:\n",
    "        x_batch = np.array(img_l)\n",
    "        y_batch = np.array(y_l)\n",
    "        yield x_batch,y_batch"
   ]
  },
  {
   "cell_type": "code",
   "execution_count": null,
   "metadata": {
    "collapsed": true
   },
   "outputs": [],
   "source": [
    "\"\"\"\n",
    "How to use the yield function:\n",
    "use a for loop (it's an iterator)\n",
    "\"\"\"\n",
    "batch_i = 0\n",
    "for x_batch, y_batch in yield_batch(image_paths_test, y_test, batch_size=10):\n",
    "    print(batch_i)\n",
    "    print(x_batch.shape)\n",
    "    print(y_batch.shape)\n",
    "    batch_i +=1"
   ]
  },
  {
   "cell_type": "markdown",
   "metadata": {},
   "source": [
    "## Explore images"
   ]
  },
  {
   "cell_type": "code",
   "execution_count": 69,
   "metadata": {
    "collapsed": false
   },
   "outputs": [],
   "source": [
    "x_batch, y_batch = next(yield_batch(image_paths_train, y_train, batch_size=10))"
   ]
  },
  {
   "cell_type": "code",
   "execution_count": 70,
   "metadata": {
    "collapsed": false
   },
   "outputs": [
    {
     "data": {
      "text/plain": [
       "(8, 16, 224, 224)"
      ]
     },
     "execution_count": 70,
     "metadata": {},
     "output_type": "execute_result"
    }
   ],
   "source": [
    "x_batch.shape"
   ]
  },
  {
   "cell_type": "code",
   "execution_count": 72,
   "metadata": {
    "collapsed": false
   },
   "outputs": [
    {
     "data": {
      "text/plain": [
       "(8, 17)"
      ]
     },
     "execution_count": 72,
     "metadata": {},
     "output_type": "execute_result"
    }
   ],
   "source": [
    "y_batch.shape"
   ]
  },
  {
   "cell_type": "code",
   "execution_count": 74,
   "metadata": {
    "collapsed": false
   },
   "outputs": [
    {
     "data": {
      "image/png": "[encoded data removed]",
      "text/plain": [
       "<matplotlib.figure.Figure at 0x122067f10>"
      ]
     },
     "metadata": {},
     "output_type": "display_data"
    }
   ],
   "source": [
    "plt.imshow(x_batch[0][14]);"
   ]
  },
  {
   "cell_type": "markdown",
   "metadata": {},
   "source": [
    "## Use VGG for transfer learning\n",
    "Clone the VGG repository:\n",
    "```\n",
    "git clone https://github.com/machrisaa/tensorflow-vgg.git tensorflow_vgg\n",
    "```"
   ]
  },
  {
   "cell_type": "markdown",
   "metadata": {},
   "source": [
    "Need to install urllib3 package to use urllib\n",
    "\n",
    "python 2 uses urllib\n",
    "python 3 splits urllib into urllib.request and urllib.error\n",
    "\n",
    "Also install tqdm"
   ]
  },
  {
   "cell_type": "code",
   "execution_count": 84,
   "metadata": {
    "collapsed": false
   },
   "outputs": [
    {
     "ename": "Exception",
     "evalue": "VGG directory doesn't exist!",
     "output_type": "error",
     "traceback": [
      "\u001b[0;31m---------------------------------------------------------------------------\u001b[0m",
      "\u001b[0;31mException\u001b[0m                                 Traceback (most recent call last)",
      "\u001b[0;32m<ipython-input-84-91e0f7482f26>\u001b[0m in \u001b[0;36m<module>\u001b[0;34m()\u001b[0m\n\u001b[1;32m     11\u001b[0m \u001b[0;31m# Make sure vgg exists\u001b[0m\u001b[0;34m\u001b[0m\u001b[0;34m\u001b[0m\u001b[0m\n\u001b[1;32m     12\u001b[0m \u001b[0;32mif\u001b[0m \u001b[0;32mnot\u001b[0m \u001b[0misdir\u001b[0m\u001b[0;34m(\u001b[0m\u001b[0mvgg_dir\u001b[0m\u001b[0;34m)\u001b[0m\u001b[0;34m:\u001b[0m\u001b[0;34m\u001b[0m\u001b[0m\n\u001b[0;32m---> 13\u001b[0;31m     \u001b[0;32mraise\u001b[0m \u001b[0mException\u001b[0m\u001b[0;34m(\u001b[0m\u001b[0;34m\"VGG directory doesn't exist!\"\u001b[0m\u001b[0;34m)\u001b[0m\u001b[0;34m\u001b[0m\u001b[0m\n\u001b[0m\u001b[1;32m     14\u001b[0m \u001b[0;34m\u001b[0m\u001b[0m\n\u001b[1;32m     15\u001b[0m \u001b[0;32mclass\u001b[0m \u001b[0mDLProgress\u001b[0m\u001b[0;34m(\u001b[0m\u001b[0mtqdm\u001b[0m\u001b[0;34m)\u001b[0m\u001b[0;34m:\u001b[0m\u001b[0;34m\u001b[0m\u001b[0m\n",
      "\u001b[0;31mException\u001b[0m: VGG directory doesn't exist!"
     ]
    }
   ],
   "source": [
    "\"\"\"\n",
    "Download pre-trained weights and biases, found in vgg16.npy\n",
    "\"\"\"\n",
    "#from urllib.request import urlretrieve #for python 3\n",
    "from urllib import urlretrieve #for python 2\n",
    "from os.path import isfile, isdir\n",
    "from tqdm import tqdm\n",
    "\n",
    "\n",
    "vgg_dir = 'tensorflow_vgg/'\n",
    "# Make sure vgg exists\n",
    "if not isdir(vgg_dir):\n",
    "    raise Exception(\"VGG directory doesn't exist!\")\n",
    "\n",
    "class DLProgress(tqdm):\n",
    "    last_block = 0\n",
    "\n",
    "    def hook(self, block_num=1, block_size=1, total_size=None):\n",
    "        self.total = total_size\n",
    "        self.update((block_num - self.last_block) * block_size)\n",
    "        self.last_block = block_num\n",
    "\n",
    "if not isfile(vgg_dir + \"vgg16.npy\"):\n",
    "    with DLProgress(unit='B', unit_scale=True, miniters=1, desc='VGG16 Parameters') as pbar:\n",
    "        urlretrieve(\n",
    "            'https://s3.amazonaws.com/content.udacity-data.com/nd101/vgg16.npy',\n",
    "            vgg_dir + 'vgg16.npy',\n",
    "            pbar.hook)\n",
    "else:\n",
    "    print(\"Parameter file already exists!\")"
   ]
  },
  {
   "cell_type": "code",
   "execution_count": null,
   "metadata": {
    "collapsed": true
   },
   "outputs": [],
   "source": []
  }
 ],
 "metadata": {
  "kernelspec": {
   "display_name": "Python [conda env:py2]",
   "language": "python",
   "name": "conda-env-py2-py"
  },
  "language_info": {
   "codemirror_mode": {
    "name": "ipython",
    "version": 2
   },
   "file_extension": ".py",
   "mimetype": "text/x-python",
   "name": "python",
   "nbconvert_exporter": "python",
   "pygments_lexer": "ipython2",
   "version": "2.7.13"
  }
 },
 "nbformat": 4,
 "nbformat_minor": 1
}
